{
 "cells": [
  {
   "cell_type": "markdown",
   "metadata": {},
   "source": [
    "# DATA 620 - Assignment Week 2"
   ]
  },
  {
   "cell_type": "markdown",
   "metadata": {},
   "source": [
    "Import the packages:"
   ]
  },
  {
   "cell_type": "code",
   "execution_count": 291,
   "metadata": {
    "collapsed": true
   },
   "outputs": [],
   "source": [
    "import matplotlib.pyplot as plt\n",
    "import networkx as nx\n",
    "\n",
    "# Check the available styles\n",
    "plt.style.available\n",
    "\n",
    "# Use Matplotlib defaults\n",
    "plt.style.use(\"classic\")"
   ]
  },
  {
   "cell_type": "code",
   "execution_count": 292,
   "metadata": {
    "collapsed": true
   },
   "outputs": [],
   "source": [
    "%matplotlib inline"
   ]
  },
  {
   "cell_type": "markdown",
   "metadata": {},
   "source": [
    "Create the graph object:"
   ]
  },
  {
   "cell_type": "code",
   "execution_count": 293,
   "metadata": {
    "collapsed": true
   },
   "outputs": [],
   "source": [
    "G=nx.Graph()"
   ]
  },
  {
   "cell_type": "markdown",
   "metadata": {},
   "source": [
    "Define the edge list:"
   ]
  },
  {
   "cell_type": "code",
   "execution_count": 294,
   "metadata": {
    "collapsed": true
   },
   "outputs": [],
   "source": [
    "edgeList=[('Andre','Beverly'),('Andre','Carol'),('Andre','Diane'),\n",
    "    ('Beverly','Andre'),('Beverly','Diane'),('Beverly','Ed'),\n",
    "    ('Carol','Andre'),('Carol','Diane'),('Carol','Fernando'),\n",
    "    ('Fernando','Garth'),('Fernando','Diane'),('Fernando','Carol'),\n",
    "    ('Garth','Ed'),('Garth','Diane'),('Garth','Fernando'),\n",
    "    ('Garth','Heather'),('Ed','Beverly'),('Ed','Diane'),\n",
    "    ('Ed','Garth'),('Heather','Fernando'),('Heather','Garth'),\n",
    "    ('Heather','Ike'),('Ike','Heather'),('Ike','Jane'),\n",
    "    ('Jane','Ike')]"
   ]
  },
  {
   "cell_type": "markdown",
   "metadata": {},
   "source": [
    "Iterate over the edge list and add the edges:"
   ]
  },
  {
   "cell_type": "code",
   "execution_count": 295,
   "metadata": {},
   "outputs": [],
   "source": [
    "# create edges\n",
    "for edge in edgeList:\n",
    "    G.add_edge(edge[0],edge[1])"
   ]
  },
  {
   "cell_type": "markdown",
   "metadata": {},
   "source": [
    "Create the position dictionary:"
   ]
  },
  {
   "cell_type": "code",
   "execution_count": 296,
   "metadata": {
    "collapsed": true
   },
   "outputs": [],
   "source": [
    "position={'Andre':(0,1),\n",
    "     'Beverly':(0,-1),\n",
    "     'Carol':(1,2),\n",
    "     'Diane':(1,0),\n",
    "     'Ed':(1,-2),\n",
    "     'Ike':(4,0),\n",
    "     'Garth':(2,-1),\n",
    "     'Jane':(5,0),\n",
    "     'Fernando':(2,1),\n",
    "     'Heather':(3,0)}"
   ]
  },
  {
   "cell_type": "markdown",
   "metadata": {},
   "source": [
    "Create the graph:"
   ]
  },
  {
   "cell_type": "code",
   "execution_count": 297,
   "metadata": {},
   "outputs": [
    {
     "data": {
      "image/png": "[encoded data removed]",
      "text/plain": [
       "<matplotlib.figure.Figure at 0xd593780>"
      ]
     },
     "metadata": {},
     "output_type": "display_data"
    }
   ],
   "source": [
    "# add nodes\n",
    "nx.draw_networkx_nodes(G,position,node_size=1500, \n",
    "    node_color='grey',node_shape='s',alpha=0.25)\n",
    "# add edges\n",
    "nx.draw_networkx_edges(G,position,edge_color='grey',\n",
    "    alpha=0.25,width=2)\n",
    "# add labels\n",
    "nx.draw_networkx_labels(G,position,font_size=8)\n",
    "# remove axis\n",
    "plt.axis('off')\n",
    "# display the graph\n",
    "plt.show()"
   ]
  }
 ],
 "metadata": {
  "kernelspec": {
   "display_name": "Python 2",
   "language": "python",
   "name": "python2"
  },
  "language_info": {
   "codemirror_mode": {
    "name": "ipython",
    "version": 2
   },
   "file_extension": ".py",
   "mimetype": "text/x-python",
   "name": "python",
   "nbconvert_exporter": "python",
   "pygments_lexer": "ipython2",
   "version": "2.7.13"
  }
 },
 "nbformat": 4,
 "nbformat_minor": 2
}
