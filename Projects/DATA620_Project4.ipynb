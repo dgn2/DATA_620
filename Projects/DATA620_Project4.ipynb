{
 "cells": [
  {
   "cell_type": "markdown",
   "metadata": {},
   "source": [
    "# DATA 620 - Project 4 (Week 12)\n",
    "\n"
   ]
  },
  {
   "cell_type": "code",
   "execution_count": 129,
   "metadata": {
    "collapsed": true
   },
   "outputs": [],
   "source": [
    "import nltk\n",
    "import random\n",
    "import itertools\n",
    "import pandas\n",
    "import numpy\n",
    "from sklearn.metrics import classification_report\n",
    "from sklearn.metrics import confusion_matrix\n",
    "# import the movie review corpus\n",
    "from nltk.corpus import movie_reviews\n",
    "\n",
    "# graphics\n",
    "import matplotlib.pyplot as plt\n",
    "import seaborn\n",
    "\n",
    "# set display digits\n",
    "display_digits=4\n",
    "# inline matplotlib\n",
    "%matplotlib inline\n",
    "# define random seed\n",
    "random_seed=1534678"
   ]
  },
  {
   "cell_type": "markdown",
   "metadata": {},
   "source": [
    "We have positive and negative reviews:"
   ]
  },
  {
   "cell_type": "code",
   "execution_count": 130,
   "metadata": {},
   "outputs": [
    {
     "data": {
      "text/plain": [
       "[u'neg', u'pos']"
      ]
     },
     "execution_count": 130,
     "metadata": {},
     "output_type": "execute_result"
    }
   ],
   "source": [
    "movie_reviews.categories()"
   ]
  },
  {
   "cell_type": "markdown",
   "metadata": {},
   "source": [
    "Each movie review is stored in a single text file:"
   ]
  },
  {
   "cell_type": "code",
   "execution_count": 131,
   "metadata": {},
   "outputs": [
    {
     "data": {
      "text/plain": [
       "[u'pos/cv001_18431.txt',\n",
       " u'pos/cv002_15918.txt',\n",
       " u'pos/cv003_11664.txt',\n",
       " u'pos/cv004_11636.txt',\n",
       " u'pos/cv005_29443.txt',\n",
       " u'pos/cv006_15448.txt',\n",
       " u'pos/cv007_4968.txt',\n",
       " u'pos/cv008_29435.txt',\n",
       " u'pos/cv009_29592.txt']"
      ]
     },
     "execution_count": 131,
     "metadata": {},
     "output_type": "execute_result"
    }
   ],
   "source": [
    "movie_reviews.fileids('pos')[1:10]"
   ]
  },
  {
   "cell_type": "markdown",
   "metadata": {},
   "source": [
    "We iterate over each text file and read it into a list of lists, organized by category:"
   ]
  },
  {
   "cell_type": "code",
   "execution_count": 132,
   "metadata": {
    "collapsed": true
   },
   "outputs": [],
   "source": [
    "# organize movie reviews by category\n",
    "documents = [(list(movie_reviews.words(fileid)), category)\n",
    "    for category in movie_reviews.categories()\n",
    "    for fileid in movie_reviews.fileids(category)]\n",
    "# set random seed\n",
    "random.seed(random_seed)\n",
    "# shuffle reviews \n",
    "random.shuffle(documents)\n",
    "# convert words to lowercase\n",
    "all_words = nltk.FreqDist(w.lower() for w in movie_reviews.words())\n",
    "# extract 2000 most frequent words\n",
    "word_features = all_words.keys()[:2000]"
   ]
  },
  {
   "cell_type": "code",
   "execution_count": 133,
   "metadata": {},
   "outputs": [
    {
     "data": {
      "text/plain": [
       "2000"
      ]
     },
     "execution_count": 133,
     "metadata": {},
     "output_type": "execute_result"
    }
   ],
   "source": [
    "len(word_features)"
   ]
  },
  {
   "cell_type": "code",
   "execution_count": 134,
   "metadata": {},
   "outputs": [
    {
     "data": {
      "text/plain": [
       "[u'askew',\n",
       " u'woods',\n",
       " u'spiders',\n",
       " u'bazooms',\n",
       " u'hanging',\n",
       " u'francesca',\n",
       " u'comically',\n",
       " u'localized',\n",
       " u'disobeying']"
      ]
     },
     "execution_count": 134,
     "metadata": {},
     "output_type": "execute_result"
    }
   ],
   "source": [
    "word_features[1:10]"
   ]
  },
  {
   "cell_type": "markdown",
   "metadata": {},
   "source": [
    "Define function to create feature set:"
   ]
  },
  {
   "cell_type": "code",
   "execution_count": 135,
   "metadata": {
    "collapsed": true
   },
   "outputs": [],
   "source": [
    "def document_features(document):\n",
    "    document_words = set(document)\n",
    "    features = {}\n",
    "    for word in word_features:\n",
    "        features['contains(%s)' % word] = (word in document_words)\n",
    "\n",
    "    return features"
   ]
  },
  {
   "cell_type": "markdown",
   "metadata": {},
   "source": [
    "Split the data into training and test sets:"
   ]
  },
  {
   "cell_type": "code",
   "execution_count": 136,
   "metadata": {
    "collapsed": true
   },
   "outputs": [],
   "source": [
    "# split data into training and test sets\n",
    "train_documents, test_documents = documents[100:], documents[:100]"
   ]
  },
  {
   "cell_type": "code",
   "execution_count": 137,
   "metadata": {},
   "outputs": [
    {
     "name": "stdout",
     "output_type": "stream",
     "text": [
      "Training Set = 1900\n",
      "Test Set = 100\n"
     ]
    }
   ],
   "source": [
    "# display size of training and test sets\n",
    "print(\"Training Set = {}\".format(len(train_documents)))\n",
    "print(\"Test Set = {}\".format(len(test_documents)))"
   ]
  },
  {
   "cell_type": "markdown",
   "metadata": {},
   "source": [
    "We define a few functions to train and evaluate the Naive Bayes classifier on the training and testing data sets:"
   ]
  },
  {
   "cell_type": "code",
   "execution_count": 138,
   "metadata": {
    "collapsed": true
   },
   "outputs": [],
   "source": [
    "# define function to normalize confusion matrix\n",
    "def normalize_confusion_matrix(cm):\n",
    "    # normalize confusion matrix\n",
    "    cm = cm.astype('float') / cm.sum(axis=1)[:, numpy.newaxis]\n",
    "    # return confusion matrix\n",
    "    return cm\n",
    "\n",
    "# define function to plot confusion matrix\n",
    "def plot_confusion_matrix(cm, classes,\n",
    "                          normalize=False,\n",
    "                          title='Confusion Matrix',\n",
    "                          cmap=plt.cm.Blues,\n",
    "                          yLabelFlag = True):\n",
    "    \"\"\"\n",
    "    Plots the confusion matrix. Set `normalize=True` for normalization.\n",
    "    \"\"\"\n",
    "    if normalize:\n",
    "        cm = normalize_confusion_matrix(cm)\n",
    "\n",
    "    plt.imshow(cm, interpolation='nearest', cmap=cmap)\n",
    "    plt.title(title)\n",
    "    plt.colorbar()\n",
    "    tick_marks = numpy.arange(len(classes))\n",
    "    plt.xticks(tick_marks, classes, rotation=90)\n",
    "    plt.yticks(tick_marks, classes)\n",
    "\n",
    "    fmt = '.2f' if normalize else 'd'\n",
    "    thresh = cm.max() / 2.\n",
    "    for i, j in itertools.product(range(cm.shape[0]), range(cm.shape[1])):\n",
    "        plt.text(j, i, format(cm[i, j], fmt),\n",
    "                 horizontalalignment=\"center\",\n",
    "                 color=\"white\" if cm[i, j] > thresh else \"black\")\n",
    "\n",
    "    plt.tight_layout()\n",
    "    # add y-label if flag is True\n",
    "    if yLabelFlag == True:\n",
    "        plt.ylabel('True Label')\n",
    "    \n",
    "    plt.xlabel('Predicted Label')\n",
    "\n",
    "    return\n",
    "\n",
    "# plot confusion matrix for both train and test data sets\n",
    "def plot_both_confusion_matrix(cm,label_names):\n",
    "    # size figure\n",
    "    plt.figure(figsize=(8,8))\n",
    "    # add first subplot\n",
    "    plt.subplot(2, 2, 1)\n",
    "    # plot confusion matrix\n",
    "    plot_confusion_matrix(cm,classes=label_names,normalize=False,\n",
    "        yLabelFlag=True)\n",
    "    # add second subplot\n",
    "    plt.subplot(2, 2, 2)\n",
    "    # plot confusion matrix (normalized)\n",
    "    plot_confusion_matrix(cm,classes=label_names,normalize=True,\n",
    "        yLabelFlag=False)\n",
    "    \n",
    "    return\n",
    "\n",
    "# define function to evaluate Naive Bayes classifier\n",
    "def evaluate_naive_bayes_classifier(train_documents,test_documents):\n",
    "    # create feature set (train)\n",
    "    train_feature_set = [(document_features(d), c) for (d,c) in train_documents]\n",
    "    # create feature set (dev test)\n",
    "    test_feature_set = [(document_features(d), c) for (d,c) in test_documents]\n",
    "    # build classifier\n",
    "    classifier = nltk.NaiveBayesClassifier.train(train_feature_set) \n",
    "    \n",
    "    # compute accuracy (train set)\n",
    "    train_accuracy=nltk.classify.accuracy(classifier, train_feature_set)\n",
    "    # compute accuracy (development test set)\n",
    "    test_accuracy=nltk.classify.accuracy(classifier, test_feature_set)\n",
    "    \n",
    "    # create predicted classes (train)\n",
    "    train_set_predictions = [classifier.classify(document_features(d)) for (d,c) in train_documents]\n",
    "    # extract actual classes (gold)\n",
    "    train_set_gold = [c  for (d,c) in train_documents]\n",
    "    # create confusion matrix\n",
    "    train_cm=confusion_matrix(train_set_gold, train_set_predictions)\n",
    "    # get unique classes (train)\n",
    "    train_label_names =  list(set(train_set_gold) | set(train_set_predictions))\n",
    "    # create table with precision, recall, f1-score, and support\n",
    "    train_report=classification_report(train_set_gold, train_set_predictions,\n",
    "        digits=display_digits)\n",
    "\n",
    "    # create predicted classes (test)\n",
    "    test_set_predictions = [classifier.classify(document_features(d)) for (d,c) in test_documents]\n",
    "    # extract actual classes (gold)\n",
    "    test_set_gold = [c  for (d,c) in test_documents]\n",
    "    # create confusion matrix\n",
    "    test_cm=confusion_matrix(test_set_gold, test_set_predictions)\n",
    "    # get unique classes (test)\n",
    "    test_label_names =  list(set(test_set_gold) | set(test_set_predictions))\n",
    "    # create table with precision, recall, f1-score, and support\n",
    "    test_report=classification_report(test_set_gold, test_set_predictions,\n",
    "        digits=display_digits)\n",
    "\n",
    "    return train_accuracy,train_cm,train_label_names,train_report,test_accuracy,test_cm,test_label_names,test_report,classifier"
   ]
  },
  {
   "cell_type": "markdown",
   "metadata": {},
   "source": [
    "## Model Training & Evaluation"
   ]
  },
  {
   "cell_type": "markdown",
   "metadata": {},
   "source": [
    "Train and evaluate the Naive Bayes classifier on the training and testing documents (i.e., movie reviews):"
   ]
  },
  {
   "cell_type": "code",
   "execution_count": 139,
   "metadata": {
    "collapsed": true
   },
   "outputs": [],
   "source": [
    "# train and evaluate Naive Bayes classifier\n",
    "train_accuracy_nb1,train_cm_nb1,train_label_names_nb1,train_report_nb1, \\\n",
    "    test_accuracy_nb1, test_cm_nb1,test_label_names_nb1, \\\n",
    "    test_report_nb1, classifier_nb1=evaluate_naive_bayes_classifier( \\\n",
    "    train_documents,test_documents)"
   ]
  },
  {
   "cell_type": "markdown",
   "metadata": {},
   "source": [
    "Display the model accuracy and plot the confusion matrix for both the training and testing data sets:"
   ]
  },
  {
   "cell_type": "code",
   "execution_count": 140,
   "metadata": {},
   "outputs": [
    {
     "name": "stdout",
     "output_type": "stream",
     "text": [
      "Accuracy (Train): 0.842631578947\n",
      "Accuracy (Test): 0.75\n"
     ]
    },
    {
     "data": {
      "image/png": "[encoded data removed]",
      "text/plain": [
       "<matplotlib.figure.Figure at 0x47c94898>"
      ]
     },
     "metadata": {},
     "output_type": "display_data"
    },
    {
     "data": {
      "image/png": "[encoded data removed]",
      "text/plain": [
       "<matplotlib.figure.Figure at 0x508f17f0>"
      ]
     },
     "metadata": {},
     "output_type": "display_data"
    }
   ],
   "source": [
    "# display model accuracy (train and test)\n",
    "print('Accuracy (Train): '+str(train_accuracy_nb1))\n",
    "print('Accuracy (Test): '+str(test_accuracy_nb1))\n",
    "# plot confusion matrix (train)\n",
    "plot_both_confusion_matrix(train_cm_nb1,['neg','pos'])\n",
    "# plot confusion matrix (test)\n",
    "plot_both_confusion_matrix(test_cm_nb1,['neg','pos'])"
   ]
  },
  {
   "cell_type": "markdown",
   "metadata": {},
   "source": [
    "Display the performance metrics for the training and testing data sets:"
   ]
  },
  {
   "cell_type": "code",
   "execution_count": 141,
   "metadata": {},
   "outputs": [
    {
     "name": "stdout",
     "output_type": "stream",
     "text": [
      "Model Performance Metrics (Train):\n",
      "             precision    recall  f1-score   support\n",
      "\n",
      "        neg     0.8038    0.9049    0.8513       946\n",
      "        pos     0.8922    0.7809    0.8329       954\n",
      "\n",
      "avg / total     0.8482    0.8426    0.8421      1900\n",
      "\n",
      "Model Performance Metrics (Test):\n",
      "             precision    recall  f1-score   support\n",
      "\n",
      "        neg     0.7458    0.8148    0.7788        54\n",
      "        pos     0.7561    0.6739    0.7126        46\n",
      "\n",
      "avg / total     0.7505    0.7500    0.7483       100\n",
      "\n"
     ]
    }
   ],
   "source": [
    "# display performance report (train)\n",
    "print('Model Performance Metrics (Train):')\n",
    "print(train_report_nb1)\n",
    "# display performance report (test)\n",
    "print('Model Performance Metrics (Test):')\n",
    "print(test_report_nb1)"
   ]
  },
  {
   "cell_type": "markdown",
   "metadata": {},
   "source": [
    "Define function to return data frame of likelihoods associated with $N$ most important features:"
   ]
  },
  {
   "cell_type": "code",
   "execution_count": 142,
   "metadata": {
    "collapsed": true
   },
   "outputs": [],
   "source": [
    "# most informative feature function (based on NLTK package function\n",
    "# show_most_informative_features)\n",
    "def most_informative_features_in_df(classifier, n=30):\n",
    "    # probability distribution for feature values given labels\n",
    "    cpdist = classifier._feature_probdist       \n",
    "    feature_prob_list = []\n",
    "    feature_prob_list0 = []\n",
    "    feature_prob_list1 = []\n",
    "    for (fname, fval) in classifier.most_informative_features(n):\n",
    "        def labelprob(l):\n",
    "            return cpdist[l, fname].prob(fval)\n",
    "        labels = sorted([l for l in classifier._labels if fval in cpdist[l, fname].samples()], \n",
    "            key=labelprob)\n",
    "\n",
    "        if len(labels) == 1:\n",
    "            continue\n",
    "        l0 = labels[0]\n",
    "        l1 = labels[-1]\n",
    "                \n",
    "        ratioValue=cpdist[l1, fname].prob(fval) / cpdist[l0, fname].prob(fval)\n",
    "        \n",
    "        #feature_list.append([fname, labels[-1]])\n",
    "        feature_prob_list.append([fname, labels[-1],ratioValue])\n",
    "        \n",
    "    # define column names\n",
    "    columnNames=['featureName','featureValue','featureLikelihood']\n",
    "    # create data frame\n",
    "    importantFeatures=pandas.DataFrame(feature_prob_list,\n",
    "        columns=columnNames)        \n",
    "    # set index\n",
    "    importantFeatures.set_index('featureName',inplace=True)\n",
    "    \n",
    "    return importantFeatures"
   ]
  },
  {
   "cell_type": "markdown",
   "metadata": {},
   "source": [
    "Find the 30 most informative features:"
   ]
  },
  {
   "cell_type": "code",
   "execution_count": 143,
   "metadata": {
    "collapsed": true
   },
   "outputs": [],
   "source": [
    "# set number of top features\n",
    "n_top_features=30\n",
    "# find most important features (top 30)\n",
    "importantFeatures=most_informative_features_in_df(classifier_nb1, \n",
    "    n=n_top_features)"
   ]
  },
  {
   "cell_type": "markdown",
   "metadata": {},
   "source": [
    "We create a data frame containing the words of each review and the movie category (i.e., 'pos' or 'neg') in the training set:"
   ]
  },
  {
   "cell_type": "code",
   "execution_count": 144,
   "metadata": {},
   "outputs": [
    {
     "data": {
      "text/html": [
       "<div>\n",
       "<style>\n",
       "    .dataframe thead tr:only-child th {\n",
       "        text-align: right;\n",
       "    }\n",
       "\n",
       "    .dataframe thead th {\n",
       "        text-align: left;\n",
       "    }\n",
       "\n",
       "    .dataframe tbody tr th {\n",
       "        vertical-align: top;\n",
       "    }\n",
       "</style>\n",
       "<table border=\"1\" class=\"dataframe\">\n",
       "  <thead>\n",
       "    <tr style=\"text-align: right;\">\n",
       "      <th></th>\n",
       "      <th>words</th>\n",
       "      <th>category</th>\n",
       "      <th>nWords</th>\n",
       "      <th>review</th>\n",
       "    </tr>\n",
       "  </thead>\n",
       "  <tbody>\n",
       "    <tr>\n",
       "      <th>0</th>\n",
       "      <td>[hey, ,, i, ', ve, got, a, great, idea, for, a...</td>\n",
       "      <td>neg</td>\n",
       "      <td>721</td>\n",
       "      <td>hey , i ' ve got a great idea for a movie ! ok...</td>\n",
       "    </tr>\n",
       "    <tr>\n",
       "      <th>1</th>\n",
       "      <td>[of, all, the, films, i, ', ve, come, to, see,...</td>\n",
       "      <td>pos</td>\n",
       "      <td>754</td>\n",
       "      <td>of all the films i ' ve come to see this year ...</td>\n",
       "    </tr>\n",
       "    <tr>\n",
       "      <th>2</th>\n",
       "      <td>[the, real, blonde, (, r, ), a, woman, ', s, f...</td>\n",
       "      <td>neg</td>\n",
       "      <td>680</td>\n",
       "      <td>the real blonde ( r ) a woman ' s face , an ar...</td>\n",
       "    </tr>\n",
       "    <tr>\n",
       "      <th>3</th>\n",
       "      <td>[\", i, ', ve, been, told, by, several, people,...</td>\n",
       "      <td>pos</td>\n",
       "      <td>883</td>\n",
       "      <td>\" i ' ve been told by several people , ' you '...</td>\n",
       "    </tr>\n",
       "    <tr>\n",
       "      <th>4</th>\n",
       "      <td>[aspiring, broadway, composer, robert, (, aaro...</td>\n",
       "      <td>neg</td>\n",
       "      <td>289</td>\n",
       "      <td>aspiring broadway composer robert ( aaron will...</td>\n",
       "    </tr>\n",
       "  </tbody>\n",
       "</table>\n",
       "</div>"
      ],
      "text/plain": [
       "                                               words category  nWords  \\\n",
       "0  [hey, ,, i, ', ve, got, a, great, idea, for, a...      neg     721   \n",
       "1  [of, all, the, films, i, ', ve, come, to, see,...      pos     754   \n",
       "2  [the, real, blonde, (, r, ), a, woman, ', s, f...      neg     680   \n",
       "3  [\", i, ', ve, been, told, by, several, people,...      pos     883   \n",
       "4  [aspiring, broadway, composer, robert, (, aaro...      neg     289   \n",
       "\n",
       "                                              review  \n",
       "0  hey , i ' ve got a great idea for a movie ! ok...  \n",
       "1  of all the films i ' ve come to see this year ...  \n",
       "2  the real blonde ( r ) a woman ' s face , an ar...  \n",
       "3  \" i ' ve been told by several people , ' you '...  \n",
       "4  aspiring broadway composer robert ( aaron will...  "
      ]
     },
     "execution_count": 144,
     "metadata": {},
     "output_type": "execute_result"
    }
   ],
   "source": [
    "# create data frame with \n",
    "corpusDf=pandas.DataFrame(train_documents)\n",
    "# rename columns\n",
    "corpusDf.rename(columns={0 : 'words',1 : 'category'},inplace=True)\n",
    "# define function to find number of words in a review\n",
    "f=lambda x : len(x)\n",
    "# apply function to count number of words in each review\n",
    "corpusDf['nWords']=corpusDf['words'].apply(f)\n",
    "# define function to convert words to text\n",
    "fJoin=lambda x : ' '.join(x)\n",
    "# apply function to convert words to text\n",
    "corpusDf['review']=corpusDf['words'].apply(fJoin)\n",
    "# display result\n",
    "corpusDf.head()"
   ]
  },
  {
   "cell_type": "markdown",
   "metadata": {},
   "source": [
    "Open an output file handle to log work:"
   ]
  },
  {
   "cell_type": "code",
   "execution_count": 145,
   "metadata": {},
   "outputs": [],
   "source": [
    "# define output directory\n",
    "#outputDirectory=\"C:/Users/Derek/Documents/GitHub/DATA_620/Projects/W12/\"\n",
    "outputDirectory=\"C:/Users/derek/OneDrive/Documents/GitHub/DATA_620/Project/\"\n",
    "# define output file name\n",
    "outputFileName=\"importantFeatures\"\n",
    "# open output file handle\n",
    "outputFileHandle=open(outputDirectory+outputFileName,'w')"
   ]
  },
  {
   "cell_type": "markdown",
   "metadata": {},
   "source": [
    "Define a function to find all of the reviews in the movie review corpus that contain a particular word:"
   ]
  },
  {
   "cell_type": "code",
   "execution_count": 146,
   "metadata": {
    "collapsed": true
   },
   "outputs": [],
   "source": [
    "# return True if search word is in review\n",
    "def wordInReview(words,searchWord):\n",
    "    flag=False\n",
    "    for w in words:\n",
    "        if str(w) == searchWord:\n",
    "            flag=True\n",
    "    return flag\n",
    "\n",
    "def findReviews(searchWord,corpusDf):\n",
    "    fWordInReview=lambda x : wordInReview(x,searchWord)\n",
    "    searchIndex=corpusDf['words'].apply(fWordInReview)\n",
    "    nReviews=searchIndex.sum()\n",
    "    return corpusDf.loc[searchIndex],nReviews"
   ]
  },
  {
   "cell_type": "markdown",
   "metadata": {},
   "source": [
    "Plot the likelihoods by positive feature name:"
   ]
  },
  {
   "cell_type": "code",
   "execution_count": 147,
   "metadata": {},
   "outputs": [
    {
     "data": {
      "text/plain": [
       "<matplotlib.text.Text at 0x181e63c8>"
      ]
     },
     "execution_count": 147,
     "metadata": {},
     "output_type": "execute_result"
    },
    {
     "data": {
      "image/png": "[encoded data removed]",
      "text/plain": [
       "<matplotlib.figure.Figure at 0x4b44e7b8>"
      ]
     },
     "metadata": {},
     "output_type": "display_data"
    }
   ],
   "source": [
    "# find positive review index\n",
    "positiveIndex = importantFeatures['featureValue']=='pos'\n",
    "# set title name\n",
    "titleName='Positive Features - Likelihood Ratios By Feature Name'\n",
    "# create bar plot\n",
    "importantFeatures['featureLikelihood'].loc[positiveIndex].sort_values(ascending=True).plot('barh',\n",
    "    legend=False,figsize=(5,6),title=titleName)\n",
    "# set x-label\n",
    "plt.xlabel(\"Likelihood Ratio (X:1)\")\n",
    "# set y-label\n",
    "plt.ylabel(\"Feature Name\")"
   ]
  },
  {
   "cell_type": "code",
   "execution_count": 148,
   "metadata": {},
   "outputs": [
    {
     "data": {
      "text/html": [
       "<div>\n",
       "<style>\n",
       "    .dataframe thead tr:only-child th {\n",
       "        text-align: right;\n",
       "    }\n",
       "\n",
       "    .dataframe thead th {\n",
       "        text-align: left;\n",
       "    }\n",
       "\n",
       "    .dataframe tbody tr th {\n",
       "        vertical-align: top;\n",
       "    }\n",
       "</style>\n",
       "<table border=\"1\" class=\"dataframe\">\n",
       "  <thead>\n",
       "    <tr style=\"text-align: right;\">\n",
       "      <th></th>\n",
       "      <th>featureValue</th>\n",
       "      <th>featureLikelihood</th>\n",
       "    </tr>\n",
       "    <tr>\n",
       "      <th>featureName</th>\n",
       "      <th></th>\n",
       "      <th></th>\n",
       "    </tr>\n",
       "  </thead>\n",
       "  <tbody>\n",
       "    <tr>\n",
       "      <th>contains(effortlessly)</th>\n",
       "      <td>pos</td>\n",
       "      <td>7.338010</td>\n",
       "    </tr>\n",
       "    <tr>\n",
       "      <th>contains(dismissed)</th>\n",
       "      <td>pos</td>\n",
       "      <td>6.280279</td>\n",
       "    </tr>\n",
       "    <tr>\n",
       "      <th>contains(uplifting)</th>\n",
       "      <td>pos</td>\n",
       "      <td>6.091399</td>\n",
       "    </tr>\n",
       "    <tr>\n",
       "      <th>contains(doubts)</th>\n",
       "      <td>pos</td>\n",
       "      <td>5.751414</td>\n",
       "    </tr>\n",
       "    <tr>\n",
       "      <th>contains(overwhelmed)</th>\n",
       "      <td>pos</td>\n",
       "      <td>5.619197</td>\n",
       "    </tr>\n",
       "    <tr>\n",
       "      <th>contains(topping)</th>\n",
       "      <td>pos</td>\n",
       "      <td>5.619197</td>\n",
       "    </tr>\n",
       "    <tr>\n",
       "      <th>contains(fabric)</th>\n",
       "      <td>pos</td>\n",
       "      <td>5.619197</td>\n",
       "    </tr>\n",
       "    <tr>\n",
       "      <th>contains(lang)</th>\n",
       "      <td>pos</td>\n",
       "      <td>5.619197</td>\n",
       "    </tr>\n",
       "    <tr>\n",
       "      <th>contains(wits)</th>\n",
       "      <td>pos</td>\n",
       "      <td>4.958115</td>\n",
       "    </tr>\n",
       "    <tr>\n",
       "      <th>contains(unwittingly)</th>\n",
       "      <td>pos</td>\n",
       "      <td>4.561466</td>\n",
       "    </tr>\n",
       "    <tr>\n",
       "      <th>contains(hugo)</th>\n",
       "      <td>pos</td>\n",
       "      <td>4.561466</td>\n",
       "    </tr>\n",
       "    <tr>\n",
       "      <th>contains(benson)</th>\n",
       "      <td>pos</td>\n",
       "      <td>4.297033</td>\n",
       "    </tr>\n",
       "    <tr>\n",
       "      <th>contains(wang)</th>\n",
       "      <td>pos</td>\n",
       "      <td>4.297033</td>\n",
       "    </tr>\n",
       "    <tr>\n",
       "      <th>contains(understands)</th>\n",
       "      <td>pos</td>\n",
       "      <td>4.108153</td>\n",
       "    </tr>\n",
       "    <tr>\n",
       "      <th>contains(admired)</th>\n",
       "      <td>pos</td>\n",
       "      <td>4.108153</td>\n",
       "    </tr>\n",
       "    <tr>\n",
       "      <th>contains(testament)</th>\n",
       "      <td>pos</td>\n",
       "      <td>3.856312</td>\n",
       "    </tr>\n",
       "    <tr>\n",
       "      <th>contains(cronenberg)</th>\n",
       "      <td>pos</td>\n",
       "      <td>3.768168</td>\n",
       "    </tr>\n",
       "    <tr>\n",
       "      <th>contains(sant)</th>\n",
       "      <td>pos</td>\n",
       "      <td>3.768168</td>\n",
       "    </tr>\n",
       "  </tbody>\n",
       "</table>\n",
       "</div>"
      ],
      "text/plain": [
       "                       featureValue  featureLikelihood\n",
       "featureName                                           \n",
       "contains(effortlessly)          pos           7.338010\n",
       "contains(dismissed)             pos           6.280279\n",
       "contains(uplifting)             pos           6.091399\n",
       "contains(doubts)                pos           5.751414\n",
       "contains(overwhelmed)           pos           5.619197\n",
       "contains(topping)               pos           5.619197\n",
       "contains(fabric)                pos           5.619197\n",
       "contains(lang)                  pos           5.619197\n",
       "contains(wits)                  pos           4.958115\n",
       "contains(unwittingly)           pos           4.561466\n",
       "contains(hugo)                  pos           4.561466\n",
       "contains(benson)                pos           4.297033\n",
       "contains(wang)                  pos           4.297033\n",
       "contains(understands)           pos           4.108153\n",
       "contains(admired)               pos           4.108153\n",
       "contains(testament)             pos           3.856312\n",
       "contains(cronenberg)            pos           3.768168\n",
       "contains(sant)                  pos           3.768168"
      ]
     },
     "execution_count": 148,
     "metadata": {},
     "output_type": "execute_result"
    }
   ],
   "source": [
    "# show table\n",
    "importantFeatures.loc[positiveIndex]"
   ]
  },
  {
   "cell_type": "markdown",
   "metadata": {},
   "source": [
    "For each of these 'high-importance' words, the reviews in the training sample have been examined to put the usage of the word in context."
   ]
  },
  {
   "cell_type": "markdown",
   "metadata": {},
   "source": [
    "#### contains(effortlessly)"
   ]
  },
  {
   "cell_type": "code",
   "execution_count": 149,
   "metadata": {},
   "outputs": [
    {
     "data": {
      "text/plain": [
       "20"
      ]
     },
     "execution_count": 149,
     "metadata": {},
     "output_type": "execute_result"
    }
   ],
   "source": [
    "searchWord='effortlessly'\n",
    "searchResultReviews,nReviews=findReviews(searchWord,corpusDf)\n",
    "searchResultReviews=searchResultReviews.copy()\n",
    "searchResultReviews['searchWord']=searchWord\n",
    "searchResultReviews.to_csv(outputFileHandle,sep='|')\n",
    "nReviews"
   ]
  },
  {
   "cell_type": "code",
   "execution_count": 150,
   "metadata": {},
   "outputs": [
    {
     "data": {
      "text/html": [
       "<div>\n",
       "<style>\n",
       "    .dataframe thead tr:only-child th {\n",
       "        text-align: right;\n",
       "    }\n",
       "\n",
       "    .dataframe thead th {\n",
       "        text-align: left;\n",
       "    }\n",
       "\n",
       "    .dataframe tbody tr th {\n",
       "        vertical-align: top;\n",
       "    }\n",
       "</style>\n",
       "<table border=\"1\" class=\"dataframe\">\n",
       "  <thead>\n",
       "    <tr style=\"text-align: right;\">\n",
       "      <th></th>\n",
       "      <th>words</th>\n",
       "      <th>category</th>\n",
       "      <th>nWords</th>\n",
       "      <th>review</th>\n",
       "      <th>searchWord</th>\n",
       "    </tr>\n",
       "  </thead>\n",
       "  <tbody>\n",
       "    <tr>\n",
       "      <th>32</th>\n",
       "      <td>[it, must, be, some, sort, of, warped, critica...</td>\n",
       "      <td>pos</td>\n",
       "      <td>803</td>\n",
       "      <td>it must be some sort of warped critical nightm...</td>\n",
       "      <td>effortlessly</td>\n",
       "    </tr>\n",
       "    <tr>\n",
       "      <th>278</th>\n",
       "      <td>[\", he, ', s, back, ,, and, it, ', s, about, t...</td>\n",
       "      <td>pos</td>\n",
       "      <td>813</td>\n",
       "      <td>\" he ' s back , and it ' s about time . \" was ...</td>\n",
       "      <td>effortlessly</td>\n",
       "    </tr>\n",
       "    <tr>\n",
       "      <th>387</th>\n",
       "      <td>[i, ', m, not, sure, who, the, genius, is, who...</td>\n",
       "      <td>neg</td>\n",
       "      <td>1258</td>\n",
       "      <td>i ' m not sure who the genius is who came up w...</td>\n",
       "      <td>effortlessly</td>\n",
       "    </tr>\n",
       "    <tr>\n",
       "      <th>464</th>\n",
       "      <td>[for, this, review, and, more, ,, visit, clear...</td>\n",
       "      <td>pos</td>\n",
       "      <td>948</td>\n",
       "      <td>for this review and more , visit clear illusio...</td>\n",
       "      <td>effortlessly</td>\n",
       "    </tr>\n",
       "    <tr>\n",
       "      <th>517</th>\n",
       "      <td>[in, the, opening, shot, of, midnight, cowboy,...</td>\n",
       "      <td>pos</td>\n",
       "      <td>1450</td>\n",
       "      <td>in the opening shot of midnight cowboy , we se...</td>\n",
       "      <td>effortlessly</td>\n",
       "    </tr>\n",
       "    <tr>\n",
       "      <th>594</th>\n",
       "      <td>[synopsis, :, captain, picard, and, the, crew,...</td>\n",
       "      <td>pos</td>\n",
       "      <td>1416</td>\n",
       "      <td>synopsis : captain picard and the crew of the ...</td>\n",
       "      <td>effortlessly</td>\n",
       "    </tr>\n",
       "    <tr>\n",
       "      <th>653</th>\n",
       "      <td>[\", good, will, hunting, \", is, two, movies, i...</td>\n",
       "      <td>pos</td>\n",
       "      <td>354</td>\n",
       "      <td>\" good will hunting \" is two movies in one : a...</td>\n",
       "      <td>effortlessly</td>\n",
       "    </tr>\n",
       "    <tr>\n",
       "      <th>779</th>\n",
       "      <td>[those, of, you, who, frequently, read, my, re...</td>\n",
       "      <td>pos</td>\n",
       "      <td>830</td>\n",
       "      <td>those of you who frequently read my reviews ar...</td>\n",
       "      <td>effortlessly</td>\n",
       "    </tr>\n",
       "    <tr>\n",
       "      <th>792</th>\n",
       "      <td>[maybe, the, most, important, thing, about, th...</td>\n",
       "      <td>pos</td>\n",
       "      <td>1560</td>\n",
       "      <td>maybe the most important thing about this movi...</td>\n",
       "      <td>effortlessly</td>\n",
       "    </tr>\n",
       "    <tr>\n",
       "      <th>857</th>\n",
       "      <td>[the, verdict, :, spine, -, chilling, drama, f...</td>\n",
       "      <td>pos</td>\n",
       "      <td>1060</td>\n",
       "      <td>the verdict : spine - chilling drama from horr...</td>\n",
       "      <td>effortlessly</td>\n",
       "    </tr>\n",
       "    <tr>\n",
       "      <th>1102</th>\n",
       "      <td>[oh, god, how, many, john, grisham, lawyer, fi...</td>\n",
       "      <td>pos</td>\n",
       "      <td>2064</td>\n",
       "      <td>oh god how many john grisham lawyer films we h...</td>\n",
       "      <td>effortlessly</td>\n",
       "    </tr>\n",
       "    <tr>\n",
       "      <th>1131</th>\n",
       "      <td>[i, don, ', t, box, with, kid, gloves, ., i, d...</td>\n",
       "      <td>pos</td>\n",
       "      <td>729</td>\n",
       "      <td>i don ' t box with kid gloves . i don ' t play...</td>\n",
       "      <td>effortlessly</td>\n",
       "    </tr>\n",
       "    <tr>\n",
       "      <th>1215</th>\n",
       "      <td>[the, event, of, events, is, upon, us, ., peop...</td>\n",
       "      <td>pos</td>\n",
       "      <td>991</td>\n",
       "      <td>the event of events is upon us . people have w...</td>\n",
       "      <td>effortlessly</td>\n",
       "    </tr>\n",
       "    <tr>\n",
       "      <th>1224</th>\n",
       "      <td>[capsule, :, the, best, place, to, start, if, ...</td>\n",
       "      <td>pos</td>\n",
       "      <td>597</td>\n",
       "      <td>capsule : the best place to start if you ' re ...</td>\n",
       "      <td>effortlessly</td>\n",
       "    </tr>\n",
       "    <tr>\n",
       "      <th>1255</th>\n",
       "      <td>[john, cusack, is, the, kind, of, actor, who, ...</td>\n",
       "      <td>pos</td>\n",
       "      <td>1808</td>\n",
       "      <td>john cusack is the kind of actor who seems to ...</td>\n",
       "      <td>effortlessly</td>\n",
       "    </tr>\n",
       "    <tr>\n",
       "      <th>1431</th>\n",
       "      <td>[it, ', s, tough, to, really, say, something, ...</td>\n",
       "      <td>pos</td>\n",
       "      <td>1899</td>\n",
       "      <td>it ' s tough to really say something nice abou...</td>\n",
       "      <td>effortlessly</td>\n",
       "    </tr>\n",
       "    <tr>\n",
       "      <th>1558</th>\n",
       "      <td>[reflecting, on, \", bedazzled, ,, \", a, lively...</td>\n",
       "      <td>pos</td>\n",
       "      <td>716</td>\n",
       "      <td>reflecting on \" bedazzled , \" a lively comedy ...</td>\n",
       "      <td>effortlessly</td>\n",
       "    </tr>\n",
       "    <tr>\n",
       "      <th>1653</th>\n",
       "      <td>[what, would, inspire, someone, who, cannot, w...</td>\n",
       "      <td>neg</td>\n",
       "      <td>646</td>\n",
       "      <td>what would inspire someone who cannot write or...</td>\n",
       "      <td>effortlessly</td>\n",
       "    </tr>\n",
       "    <tr>\n",
       "      <th>1735</th>\n",
       "      <td>[in, the, company, of, men, made, a, splash, a...</td>\n",
       "      <td>pos</td>\n",
       "      <td>1149</td>\n",
       "      <td>in the company of men made a splash at the sun...</td>\n",
       "      <td>effortlessly</td>\n",
       "    </tr>\n",
       "    <tr>\n",
       "      <th>1779</th>\n",
       "      <td>[after, having, heard, so, many, critics, desc...</td>\n",
       "      <td>pos</td>\n",
       "      <td>998</td>\n",
       "      <td>after having heard so many critics describe \" ...</td>\n",
       "      <td>effortlessly</td>\n",
       "    </tr>\n",
       "  </tbody>\n",
       "</table>\n",
       "</div>"
      ],
      "text/plain": [
       "                                                  words category  nWords  \\\n",
       "32    [it, must, be, some, sort, of, warped, critica...      pos     803   \n",
       "278   [\", he, ', s, back, ,, and, it, ', s, about, t...      pos     813   \n",
       "387   [i, ', m, not, sure, who, the, genius, is, who...      neg    1258   \n",
       "464   [for, this, review, and, more, ,, visit, clear...      pos     948   \n",
       "517   [in, the, opening, shot, of, midnight, cowboy,...      pos    1450   \n",
       "594   [synopsis, :, captain, picard, and, the, crew,...      pos    1416   \n",
       "653   [\", good, will, hunting, \", is, two, movies, i...      pos     354   \n",
       "779   [those, of, you, who, frequently, read, my, re...      pos     830   \n",
       "792   [maybe, the, most, important, thing, about, th...      pos    1560   \n",
       "857   [the, verdict, :, spine, -, chilling, drama, f...      pos    1060   \n",
       "1102  [oh, god, how, many, john, grisham, lawyer, fi...      pos    2064   \n",
       "1131  [i, don, ', t, box, with, kid, gloves, ., i, d...      pos     729   \n",
       "1215  [the, event, of, events, is, upon, us, ., peop...      pos     991   \n",
       "1224  [capsule, :, the, best, place, to, start, if, ...      pos     597   \n",
       "1255  [john, cusack, is, the, kind, of, actor, who, ...      pos    1808   \n",
       "1431  [it, ', s, tough, to, really, say, something, ...      pos    1899   \n",
       "1558  [reflecting, on, \", bedazzled, ,, \", a, lively...      pos     716   \n",
       "1653  [what, would, inspire, someone, who, cannot, w...      neg     646   \n",
       "1735  [in, the, company, of, men, made, a, splash, a...      pos    1149   \n",
       "1779  [after, having, heard, so, many, critics, desc...      pos     998   \n",
       "\n",
       "                                                 review    searchWord  \n",
       "32    it must be some sort of warped critical nightm...  effortlessly  \n",
       "278   \" he ' s back , and it ' s about time . \" was ...  effortlessly  \n",
       "387   i ' m not sure who the genius is who came up w...  effortlessly  \n",
       "464   for this review and more , visit clear illusio...  effortlessly  \n",
       "517   in the opening shot of midnight cowboy , we se...  effortlessly  \n",
       "594   synopsis : captain picard and the crew of the ...  effortlessly  \n",
       "653   \" good will hunting \" is two movies in one : a...  effortlessly  \n",
       "779   those of you who frequently read my reviews ar...  effortlessly  \n",
       "792   maybe the most important thing about this movi...  effortlessly  \n",
       "857   the verdict : spine - chilling drama from horr...  effortlessly  \n",
       "1102  oh god how many john grisham lawyer films we h...  effortlessly  \n",
       "1131  i don ' t box with kid gloves . i don ' t play...  effortlessly  \n",
       "1215  the event of events is upon us . people have w...  effortlessly  \n",
       "1224  capsule : the best place to start if you ' re ...  effortlessly  \n",
       "1255  john cusack is the kind of actor who seems to ...  effortlessly  \n",
       "1431  it ' s tough to really say something nice abou...  effortlessly  \n",
       "1558  reflecting on \" bedazzled , \" a lively comedy ...  effortlessly  \n",
       "1653  what would inspire someone who cannot write or...  effortlessly  \n",
       "1735  in the company of men made a splash at the sun...  effortlessly  \n",
       "1779  after having heard so many critics describe \" ...  effortlessly  "
      ]
     },
     "execution_count": 150,
     "metadata": {},
     "output_type": "execute_result"
    }
   ],
   "source": [
    "searchResultReviews"
   ]
  },
  {
   "cell_type": "code",
   "execution_count": 151,
   "metadata": {},
   "outputs": [
    {
     "data": {
      "text/plain": [
       "category\n",
       "neg     2\n",
       "pos    18\n",
       "Name: words, dtype: int64"
      ]
     },
     "execution_count": 151,
     "metadata": {},
     "output_type": "execute_result"
    }
   ],
   "source": [
    "searchResultReviews.groupby(by=['category'])['words'].count()"
   ]
  },
  {
   "cell_type": "markdown",
   "metadata": {},
   "source": [
    "'Effortlessly' appears in 20 reviews and is used in both positive and negative reviews to convey the ease with which a character in the film, the cast, or the director accomplishes something. In everyday usage, the word 'effortlessly' has a positive connotation. Even in the negative reviews, this term is used to describe something positive. This term is not used sarcastically in any of the reviews."
   ]
  },
  {
   "cell_type": "markdown",
   "metadata": {},
   "source": [
    "#### contains(dismissed)"
   ]
  },
  {
   "cell_type": "code",
   "execution_count": 152,
   "metadata": {},
   "outputs": [
    {
     "data": {
      "text/plain": [
       "10"
      ]
     },
     "execution_count": 152,
     "metadata": {},
     "output_type": "execute_result"
    }
   ],
   "source": [
    "searchWord='dismissed'\n",
    "searchResultReviews,nReviews=findReviews(searchWord,corpusDf)\n",
    "searchResultReviews=searchResultReviews.copy()\n",
    "searchResultReviews['searchWord']=searchWord\n",
    "searchResultReviews.to_csv(outputFileHandle,sep='|',header=False)\n",
    "nReviews"
   ]
  },
  {
   "cell_type": "code",
   "execution_count": 153,
   "metadata": {},
   "outputs": [
    {
     "data": {
      "text/html": [
       "<div>\n",
       "<style>\n",
       "    .dataframe thead tr:only-child th {\n",
       "        text-align: right;\n",
       "    }\n",
       "\n",
       "    .dataframe thead th {\n",
       "        text-align: left;\n",
       "    }\n",
       "\n",
       "    .dataframe tbody tr th {\n",
       "        vertical-align: top;\n",
       "    }\n",
       "</style>\n",
       "<table border=\"1\" class=\"dataframe\">\n",
       "  <thead>\n",
       "    <tr style=\"text-align: right;\">\n",
       "      <th></th>\n",
       "      <th>words</th>\n",
       "      <th>category</th>\n",
       "      <th>nWords</th>\n",
       "      <th>review</th>\n",
       "      <th>searchWord</th>\n",
       "    </tr>\n",
       "  </thead>\n",
       "  <tbody>\n",
       "    <tr>\n",
       "      <th>269</th>\n",
       "      <td>[the, soldiers, of, three, kings, have, taken,...</td>\n",
       "      <td>pos</td>\n",
       "      <td>1143</td>\n",
       "      <td>the soldiers of three kings have taken their c...</td>\n",
       "      <td>dismissed</td>\n",
       "    </tr>\n",
       "    <tr>\n",
       "      <th>416</th>\n",
       "      <td>[\", crazy, /, beautiful, \", suffers, from, the...</td>\n",
       "      <td>pos</td>\n",
       "      <td>653</td>\n",
       "      <td>\" crazy / beautiful \" suffers from the damned ...</td>\n",
       "      <td>dismissed</td>\n",
       "    </tr>\n",
       "    <tr>\n",
       "      <th>587</th>\n",
       "      <td>[capsule, :, a, ham, -, handed, and, over, /, ...</td>\n",
       "      <td>neg</td>\n",
       "      <td>1068</td>\n",
       "      <td>capsule : a ham - handed and over / underwritt...</td>\n",
       "      <td>dismissed</td>\n",
       "    </tr>\n",
       "    <tr>\n",
       "      <th>759</th>\n",
       "      <td>[it, ', s, wednesday, ,, march, 27, ,, and, a,...</td>\n",
       "      <td>pos</td>\n",
       "      <td>1008</td>\n",
       "      <td>it ' s wednesday , march 27 , and a murder inv...</td>\n",
       "      <td>dismissed</td>\n",
       "    </tr>\n",
       "    <tr>\n",
       "      <th>994</th>\n",
       "      <td>[almost, a, full, decade, before, steven, spie...</td>\n",
       "      <td>pos</td>\n",
       "      <td>358</td>\n",
       "      <td>almost a full decade before steven spielberg '...</td>\n",
       "      <td>dismissed</td>\n",
       "    </tr>\n",
       "    <tr>\n",
       "      <th>1164</th>\n",
       "      <td>[here, is, a, film, that, is, so, unexpected, ...</td>\n",
       "      <td>pos</td>\n",
       "      <td>1696</td>\n",
       "      <td>here is a film that is so unexpected , so scar...</td>\n",
       "      <td>dismissed</td>\n",
       "    </tr>\n",
       "    <tr>\n",
       "      <th>1482</th>\n",
       "      <td>[all, those, who, were, offended, by, there, '...</td>\n",
       "      <td>pos</td>\n",
       "      <td>763</td>\n",
       "      <td>all those who were offended by there ' s somet...</td>\n",
       "      <td>dismissed</td>\n",
       "    </tr>\n",
       "    <tr>\n",
       "      <th>1829</th>\n",
       "      <td>[few, films, in, 1999, have, divided, the, cri...</td>\n",
       "      <td>pos</td>\n",
       "      <td>960</td>\n",
       "      <td>few films in 1999 have divided the critical co...</td>\n",
       "      <td>dismissed</td>\n",
       "    </tr>\n",
       "    <tr>\n",
       "      <th>1865</th>\n",
       "      <td>[veteran, actor, clint, eastwood, has, never, ...</td>\n",
       "      <td>pos</td>\n",
       "      <td>576</td>\n",
       "      <td>veteran actor clint eastwood has never looked ...</td>\n",
       "      <td>dismissed</td>\n",
       "    </tr>\n",
       "    <tr>\n",
       "      <th>1893</th>\n",
       "      <td>[i, feel, no, hesitation, in, saying, that, \",...</td>\n",
       "      <td>pos</td>\n",
       "      <td>977</td>\n",
       "      <td>i feel no hesitation in saying that \" there ' ...</td>\n",
       "      <td>dismissed</td>\n",
       "    </tr>\n",
       "  </tbody>\n",
       "</table>\n",
       "</div>"
      ],
      "text/plain": [
       "                                                  words category  nWords  \\\n",
       "269   [the, soldiers, of, three, kings, have, taken,...      pos    1143   \n",
       "416   [\", crazy, /, beautiful, \", suffers, from, the...      pos     653   \n",
       "587   [capsule, :, a, ham, -, handed, and, over, /, ...      neg    1068   \n",
       "759   [it, ', s, wednesday, ,, march, 27, ,, and, a,...      pos    1008   \n",
       "994   [almost, a, full, decade, before, steven, spie...      pos     358   \n",
       "1164  [here, is, a, film, that, is, so, unexpected, ...      pos    1696   \n",
       "1482  [all, those, who, were, offended, by, there, '...      pos     763   \n",
       "1829  [few, films, in, 1999, have, divided, the, cri...      pos     960   \n",
       "1865  [veteran, actor, clint, eastwood, has, never, ...      pos     576   \n",
       "1893  [i, feel, no, hesitation, in, saying, that, \",...      pos     977   \n",
       "\n",
       "                                                 review searchWord  \n",
       "269   the soldiers of three kings have taken their c...  dismissed  \n",
       "416   \" crazy / beautiful \" suffers from the damned ...  dismissed  \n",
       "587   capsule : a ham - handed and over / underwritt...  dismissed  \n",
       "759   it ' s wednesday , march 27 , and a murder inv...  dismissed  \n",
       "994   almost a full decade before steven spielberg '...  dismissed  \n",
       "1164  here is a film that is so unexpected , so scar...  dismissed  \n",
       "1482  all those who were offended by there ' s somet...  dismissed  \n",
       "1829  few films in 1999 have divided the critical co...  dismissed  \n",
       "1865  veteran actor clint eastwood has never looked ...  dismissed  \n",
       "1893  i feel no hesitation in saying that \" there ' ...  dismissed  "
      ]
     },
     "execution_count": 153,
     "metadata": {},
     "output_type": "execute_result"
    }
   ],
   "source": [
    "searchResultReviews"
   ]
  },
  {
   "cell_type": "code",
   "execution_count": 154,
   "metadata": {},
   "outputs": [
    {
     "data": {
      "text/plain": [
       "category\n",
       "neg    1\n",
       "pos    9\n",
       "Name: words, dtype: int64"
      ]
     },
     "execution_count": 154,
     "metadata": {},
     "output_type": "execute_result"
    }
   ],
   "source": [
    "searchResultReviews.groupby(by=['category'])['words'].count()"
   ]
  },
  {
   "cell_type": "markdown",
   "metadata": {},
   "source": [
    "'Dismissed' is generally used in the in-sample reviews in a way synonymous with 'underestimated' or 'underappreciated'. The term is only used in 10 reviews, 9 of which are positive."
   ]
  },
  {
   "cell_type": "markdown",
   "metadata": {},
   "source": [
    "#### contains(uplifting)"
   ]
  },
  {
   "cell_type": "code",
   "execution_count": 155,
   "metadata": {},
   "outputs": [
    {
     "data": {
      "text/plain": [
       "24"
      ]
     },
     "execution_count": 155,
     "metadata": {},
     "output_type": "execute_result"
    }
   ],
   "source": [
    "searchWord='uplifting'\n",
    "searchResultReviews,nReviews=findReviews(searchWord,corpusDf)\n",
    "searchResultReviews=searchResultReviews.copy()\n",
    "searchResultReviews['searchWord']=searchWord\n",
    "searchResultReviews.to_csv(outputFileHandle,sep='|',header=False)\n",
    "nReviews"
   ]
  },
  {
   "cell_type": "code",
   "execution_count": 156,
   "metadata": {},
   "outputs": [
    {
     "data": {
      "text/html": [
       "<div>\n",
       "<style>\n",
       "    .dataframe thead tr:only-child th {\n",
       "        text-align: right;\n",
       "    }\n",
       "\n",
       "    .dataframe thead th {\n",
       "        text-align: left;\n",
       "    }\n",
       "\n",
       "    .dataframe tbody tr th {\n",
       "        vertical-align: top;\n",
       "    }\n",
       "</style>\n",
       "<table border=\"1\" class=\"dataframe\">\n",
       "  <thead>\n",
       "    <tr style=\"text-align: right;\">\n",
       "      <th></th>\n",
       "      <th>words</th>\n",
       "      <th>category</th>\n",
       "      <th>nWords</th>\n",
       "      <th>review</th>\n",
       "      <th>searchWord</th>\n",
       "    </tr>\n",
       "  </thead>\n",
       "  <tbody>\n",
       "    <tr>\n",
       "      <th>94</th>\n",
       "      <td>[note, :, some, may, consider, portions, of, t...</td>\n",
       "      <td>pos</td>\n",
       "      <td>1279</td>\n",
       "      <td>note : some may consider portions of the follo...</td>\n",
       "      <td>uplifting</td>\n",
       "    </tr>\n",
       "    <tr>\n",
       "      <th>190</th>\n",
       "      <td>[near, the, end, of, frank, capra, ', s, holid...</td>\n",
       "      <td>pos</td>\n",
       "      <td>462</td>\n",
       "      <td>near the end of frank capra ' s holiday classi...</td>\n",
       "      <td>uplifting</td>\n",
       "    </tr>\n",
       "    <tr>\n",
       "      <th>257</th>\n",
       "      <td>[i, remember, hearing, about, this, film, when...</td>\n",
       "      <td>pos</td>\n",
       "      <td>686</td>\n",
       "      <td>i remember hearing about this film when it fir...</td>\n",
       "      <td>uplifting</td>\n",
       "    </tr>\n",
       "    <tr>\n",
       "      <th>297</th>\n",
       "      <td>[the, happy, bastard, ', s, quick, movie, revi...</td>\n",
       "      <td>pos</td>\n",
       "      <td>555</td>\n",
       "      <td>the happy bastard ' s quick movie review analy...</td>\n",
       "      <td>uplifting</td>\n",
       "    </tr>\n",
       "    <tr>\n",
       "      <th>329</th>\n",
       "      <td>[i, remember, making, a, pact, ,, right, after...</td>\n",
       "      <td>pos</td>\n",
       "      <td>839</td>\n",
       "      <td>i remember making a pact , right after ` patch...</td>\n",
       "      <td>uplifting</td>\n",
       "    </tr>\n",
       "    <tr>\n",
       "      <th>342</th>\n",
       "      <td>[_in, brief, :, _, this, film, needs, no, intr...</td>\n",
       "      <td>pos</td>\n",
       "      <td>1680</td>\n",
       "      <td>_in brief : _ this film needs no introduction ...</td>\n",
       "      <td>uplifting</td>\n",
       "    </tr>\n",
       "    <tr>\n",
       "      <th>351</th>\n",
       "      <td>[plot, :, a, young, man, who, loves, heavy, me...</td>\n",
       "      <td>pos</td>\n",
       "      <td>718</td>\n",
       "      <td>plot : a young man who loves heavy metal music...</td>\n",
       "      <td>uplifting</td>\n",
       "    </tr>\n",
       "    <tr>\n",
       "      <th>422</th>\n",
       "      <td>[in, a, flashback, ,, the, teenage, girl, in, ...</td>\n",
       "      <td>pos</td>\n",
       "      <td>852</td>\n",
       "      <td>in a flashback , the teenage girl in the eccen...</td>\n",
       "      <td>uplifting</td>\n",
       "    </tr>\n",
       "    <tr>\n",
       "      <th>435</th>\n",
       "      <td>[robert, altman, ', s, cookie, ', s, fortune, ...</td>\n",
       "      <td>pos</td>\n",
       "      <td>837</td>\n",
       "      <td>robert altman ' s cookie ' s fortune is that r...</td>\n",
       "      <td>uplifting</td>\n",
       "    </tr>\n",
       "    <tr>\n",
       "      <th>617</th>\n",
       "      <td>[october, sky, is, a, rare, oddity, in, cinema...</td>\n",
       "      <td>pos</td>\n",
       "      <td>609</td>\n",
       "      <td>october sky is a rare oddity in cinema : a sel...</td>\n",
       "      <td>uplifting</td>\n",
       "    </tr>\n",
       "    <tr>\n",
       "      <th>702</th>\n",
       "      <td>[just, in, time, for, halloween, and, christma...</td>\n",
       "      <td>pos</td>\n",
       "      <td>602</td>\n",
       "      <td>just in time for halloween and christmas , the...</td>\n",
       "      <td>uplifting</td>\n",
       "    </tr>\n",
       "    <tr>\n",
       "      <th>767</th>\n",
       "      <td>[robin, williams, has, the, rarest, of, gifts,...</td>\n",
       "      <td>neg</td>\n",
       "      <td>773</td>\n",
       "      <td>robin williams has the rarest of gifts : the a...</td>\n",
       "      <td>uplifting</td>\n",
       "    </tr>\n",
       "    <tr>\n",
       "      <th>793</th>\n",
       "      <td>[steven, spielberg, is, now, considered, as, o...</td>\n",
       "      <td>pos</td>\n",
       "      <td>1263</td>\n",
       "      <td>steven spielberg is now considered as one of t...</td>\n",
       "      <td>uplifting</td>\n",
       "    </tr>\n",
       "    <tr>\n",
       "      <th>981</th>\n",
       "      <td>[directed, by, :, pixote, hunt, ,, hendel, but...</td>\n",
       "      <td>pos</td>\n",
       "      <td>811</td>\n",
       "      <td>directed by : pixote hunt , hendel butoy , eri...</td>\n",
       "      <td>uplifting</td>\n",
       "    </tr>\n",
       "    <tr>\n",
       "      <th>1026</th>\n",
       "      <td>[i, must, admit, that, i, was, a, tad, skeptic...</td>\n",
       "      <td>pos</td>\n",
       "      <td>966</td>\n",
       "      <td>i must admit that i was a tad skeptical of \" g...</td>\n",
       "      <td>uplifting</td>\n",
       "    </tr>\n",
       "    <tr>\n",
       "      <th>1052</th>\n",
       "      <td>[it, ', s, been, hours, since, i, returned, fr...</td>\n",
       "      <td>neg</td>\n",
       "      <td>1082</td>\n",
       "      <td>it ' s been hours since i returned from the mu...</td>\n",
       "      <td>uplifting</td>\n",
       "    </tr>\n",
       "    <tr>\n",
       "      <th>1078</th>\n",
       "      <td>[there, is, a, striking, scene, early, in, \", ...</td>\n",
       "      <td>pos</td>\n",
       "      <td>1092</td>\n",
       "      <td>there is a striking scene early in \" city of a...</td>\n",
       "      <td>uplifting</td>\n",
       "    </tr>\n",
       "    <tr>\n",
       "      <th>1163</th>\n",
       "      <td>[what, a, great, film, ., what, a, stunning, ,...</td>\n",
       "      <td>pos</td>\n",
       "      <td>1011</td>\n",
       "      <td>what a great film . what a stunning , touching...</td>\n",
       "      <td>uplifting</td>\n",
       "    </tr>\n",
       "    <tr>\n",
       "      <th>1294</th>\n",
       "      <td>[glory, --, starring, matthew, broderick, ,, d...</td>\n",
       "      <td>pos</td>\n",
       "      <td>1232</td>\n",
       "      <td>glory -- starring matthew broderick , denzel w...</td>\n",
       "      <td>uplifting</td>\n",
       "    </tr>\n",
       "    <tr>\n",
       "      <th>1339</th>\n",
       "      <td>[i, ', m, not, quite, sure, how, best, to, go,...</td>\n",
       "      <td>pos</td>\n",
       "      <td>1100</td>\n",
       "      <td>i ' m not quite sure how best to go about writ...</td>\n",
       "      <td>uplifting</td>\n",
       "    </tr>\n",
       "    <tr>\n",
       "      <th>1479</th>\n",
       "      <td>[i, wish, i, could, say, that, there, is, some...</td>\n",
       "      <td>pos</td>\n",
       "      <td>1069</td>\n",
       "      <td>i wish i could say that there is something mor...</td>\n",
       "      <td>uplifting</td>\n",
       "    </tr>\n",
       "    <tr>\n",
       "      <th>1539</th>\n",
       "      <td>[we, share, the, descent, into, darkness, of, ...</td>\n",
       "      <td>pos</td>\n",
       "      <td>683</td>\n",
       "      <td>we share the descent into darkness of a talent...</td>\n",
       "      <td>uplifting</td>\n",
       "    </tr>\n",
       "    <tr>\n",
       "      <th>1637</th>\n",
       "      <td>[according, to, hollywood, movies, made, in, l...</td>\n",
       "      <td>pos</td>\n",
       "      <td>988</td>\n",
       "      <td>according to hollywood movies made in last few...</td>\n",
       "      <td>uplifting</td>\n",
       "    </tr>\n",
       "    <tr>\n",
       "      <th>1874</th>\n",
       "      <td>[when, i, watch, a, movie, like, mike, nichols...</td>\n",
       "      <td>neg</td>\n",
       "      <td>1485</td>\n",
       "      <td>when i watch a movie like mike nichols ' what ...</td>\n",
       "      <td>uplifting</td>\n",
       "    </tr>\n",
       "  </tbody>\n",
       "</table>\n",
       "</div>"
      ],
      "text/plain": [
       "                                                  words category  nWords  \\\n",
       "94    [note, :, some, may, consider, portions, of, t...      pos    1279   \n",
       "190   [near, the, end, of, frank, capra, ', s, holid...      pos     462   \n",
       "257   [i, remember, hearing, about, this, film, when...      pos     686   \n",
       "297   [the, happy, bastard, ', s, quick, movie, revi...      pos     555   \n",
       "329   [i, remember, making, a, pact, ,, right, after...      pos     839   \n",
       "342   [_in, brief, :, _, this, film, needs, no, intr...      pos    1680   \n",
       "351   [plot, :, a, young, man, who, loves, heavy, me...      pos     718   \n",
       "422   [in, a, flashback, ,, the, teenage, girl, in, ...      pos     852   \n",
       "435   [robert, altman, ', s, cookie, ', s, fortune, ...      pos     837   \n",
       "617   [october, sky, is, a, rare, oddity, in, cinema...      pos     609   \n",
       "702   [just, in, time, for, halloween, and, christma...      pos     602   \n",
       "767   [robin, williams, has, the, rarest, of, gifts,...      neg     773   \n",
       "793   [steven, spielberg, is, now, considered, as, o...      pos    1263   \n",
       "981   [directed, by, :, pixote, hunt, ,, hendel, but...      pos     811   \n",
       "1026  [i, must, admit, that, i, was, a, tad, skeptic...      pos     966   \n",
       "1052  [it, ', s, been, hours, since, i, returned, fr...      neg    1082   \n",
       "1078  [there, is, a, striking, scene, early, in, \", ...      pos    1092   \n",
       "1163  [what, a, great, film, ., what, a, stunning, ,...      pos    1011   \n",
       "1294  [glory, --, starring, matthew, broderick, ,, d...      pos    1232   \n",
       "1339  [i, ', m, not, quite, sure, how, best, to, go,...      pos    1100   \n",
       "1479  [i, wish, i, could, say, that, there, is, some...      pos    1069   \n",
       "1539  [we, share, the, descent, into, darkness, of, ...      pos     683   \n",
       "1637  [according, to, hollywood, movies, made, in, l...      pos     988   \n",
       "1874  [when, i, watch, a, movie, like, mike, nichols...      neg    1485   \n",
       "\n",
       "                                                 review searchWord  \n",
       "94    note : some may consider portions of the follo...  uplifting  \n",
       "190   near the end of frank capra ' s holiday classi...  uplifting  \n",
       "257   i remember hearing about this film when it fir...  uplifting  \n",
       "297   the happy bastard ' s quick movie review analy...  uplifting  \n",
       "329   i remember making a pact , right after ` patch...  uplifting  \n",
       "342   _in brief : _ this film needs no introduction ...  uplifting  \n",
       "351   plot : a young man who loves heavy metal music...  uplifting  \n",
       "422   in a flashback , the teenage girl in the eccen...  uplifting  \n",
       "435   robert altman ' s cookie ' s fortune is that r...  uplifting  \n",
       "617   october sky is a rare oddity in cinema : a sel...  uplifting  \n",
       "702   just in time for halloween and christmas , the...  uplifting  \n",
       "767   robin williams has the rarest of gifts : the a...  uplifting  \n",
       "793   steven spielberg is now considered as one of t...  uplifting  \n",
       "981   directed by : pixote hunt , hendel butoy , eri...  uplifting  \n",
       "1026  i must admit that i was a tad skeptical of \" g...  uplifting  \n",
       "1052  it ' s been hours since i returned from the mu...  uplifting  \n",
       "1078  there is a striking scene early in \" city of a...  uplifting  \n",
       "1163  what a great film . what a stunning , touching...  uplifting  \n",
       "1294  glory -- starring matthew broderick , denzel w...  uplifting  \n",
       "1339  i ' m not quite sure how best to go about writ...  uplifting  \n",
       "1479  i wish i could say that there is something mor...  uplifting  \n",
       "1539  we share the descent into darkness of a talent...  uplifting  \n",
       "1637  according to hollywood movies made in last few...  uplifting  \n",
       "1874  when i watch a movie like mike nichols ' what ...  uplifting  "
      ]
     },
     "execution_count": 156,
     "metadata": {},
     "output_type": "execute_result"
    }
   ],
   "source": [
    "searchResultReviews"
   ]
  },
  {
   "cell_type": "code",
   "execution_count": 157,
   "metadata": {},
   "outputs": [
    {
     "data": {
      "text/plain": [
       "category\n",
       "neg     3\n",
       "pos    21\n",
       "Name: words, dtype: int64"
      ]
     },
     "execution_count": 157,
     "metadata": {},
     "output_type": "execute_result"
    }
   ],
   "source": [
    "searchResultReviews.groupby(by=['category'])['words'].count()"
   ]
  },
  {
   "cell_type": "markdown",
   "metadata": {},
   "source": [
    "The word 'uplifting' appears in 24 reviews, 21 of which are categorized as 'positive'. In common usage, this word typically has a positive connotation. In the negative reviews, ‘uplifting’ is used sarcastically."
   ]
  },
  {
   "cell_type": "markdown",
   "metadata": {},
   "source": [
    "#### contains(doubts)"
   ]
  },
  {
   "cell_type": "code",
   "execution_count": 158,
   "metadata": {},
   "outputs": [
    {
     "data": {
      "text/plain": [
       "16"
      ]
     },
     "execution_count": 158,
     "metadata": {},
     "output_type": "execute_result"
    }
   ],
   "source": [
    "searchWord='doubts'\n",
    "searchResultReviews,nReviews=findReviews(searchWord,corpusDf)\n",
    "searchResultReviews=searchResultReviews.copy()\n",
    "searchResultReviews['searchWord']=searchWord\n",
    "searchResultReviews.to_csv(outputFileHandle,sep='|',header=False)\n",
    "nReviews"
   ]
  },
  {
   "cell_type": "code",
   "execution_count": 159,
   "metadata": {},
   "outputs": [
    {
     "data": {
      "text/html": [
       "<div>\n",
       "<style>\n",
       "    .dataframe thead tr:only-child th {\n",
       "        text-align: right;\n",
       "    }\n",
       "\n",
       "    .dataframe thead th {\n",
       "        text-align: left;\n",
       "    }\n",
       "\n",
       "    .dataframe tbody tr th {\n",
       "        vertical-align: top;\n",
       "    }\n",
       "</style>\n",
       "<table border=\"1\" class=\"dataframe\">\n",
       "  <thead>\n",
       "    <tr style=\"text-align: right;\">\n",
       "      <th></th>\n",
       "      <th>words</th>\n",
       "      <th>category</th>\n",
       "      <th>nWords</th>\n",
       "      <th>review</th>\n",
       "      <th>searchWord</th>\n",
       "    </tr>\n",
       "  </thead>\n",
       "  <tbody>\n",
       "    <tr>\n",
       "      <th>275</th>\n",
       "      <td>[let, me, start, off, by, saying, that, leadin...</td>\n",
       "      <td>pos</td>\n",
       "      <td>1576</td>\n",
       "      <td>let me start off by saying that leading up to ...</td>\n",
       "      <td>doubts</td>\n",
       "    </tr>\n",
       "    <tr>\n",
       "      <th>330</th>\n",
       "      <td>[wow, !, what, a, movie, ., it, ', s, everythi...</td>\n",
       "      <td>pos</td>\n",
       "      <td>889</td>\n",
       "      <td>wow ! what a movie . it ' s everything a movie...</td>\n",
       "      <td>doubts</td>\n",
       "    </tr>\n",
       "    <tr>\n",
       "      <th>573</th>\n",
       "      <td>[vegas, vacation, is, the, fourth, film, starr...</td>\n",
       "      <td>neg</td>\n",
       "      <td>449</td>\n",
       "      <td>vegas vacation is the fourth film starring che...</td>\n",
       "      <td>doubts</td>\n",
       "    </tr>\n",
       "    <tr>\n",
       "      <th>859</th>\n",
       "      <td>[in, intolerance, ,, d, ., w, ., griffith, tol...</td>\n",
       "      <td>pos</td>\n",
       "      <td>1106</td>\n",
       "      <td>in intolerance , d . w . griffith told four di...</td>\n",
       "      <td>doubts</td>\n",
       "    </tr>\n",
       "    <tr>\n",
       "      <th>1044</th>\n",
       "      <td>[the, reunion, film, is, not, an, original, id...</td>\n",
       "      <td>pos</td>\n",
       "      <td>1403</td>\n",
       "      <td>the reunion film is not an original idea in an...</td>\n",
       "      <td>doubts</td>\n",
       "    </tr>\n",
       "    <tr>\n",
       "      <th>1136</th>\n",
       "      <td>[i, don, ', t, appreciate, it, when, a, thrill...</td>\n",
       "      <td>neg</td>\n",
       "      <td>757</td>\n",
       "      <td>i don ' t appreciate it when a thriller manipu...</td>\n",
       "      <td>doubts</td>\n",
       "    </tr>\n",
       "    <tr>\n",
       "      <th>1139</th>\n",
       "      <td>[this, \", dumb, \", cowboy, blondie, who, think...</td>\n",
       "      <td>pos</td>\n",
       "      <td>538</td>\n",
       "      <td>this \" dumb \" cowboy blondie who thinks he is ...</td>\n",
       "      <td>doubts</td>\n",
       "    </tr>\n",
       "    <tr>\n",
       "      <th>1222</th>\n",
       "      <td>[magnolia, left, me, relling, from, the, theat...</td>\n",
       "      <td>pos</td>\n",
       "      <td>868</td>\n",
       "      <td>magnolia left me relling from the theatre , st...</td>\n",
       "      <td>doubts</td>\n",
       "    </tr>\n",
       "    <tr>\n",
       "      <th>1283</th>\n",
       "      <td>[warning, :, if, you, actually, wish, to, see,...</td>\n",
       "      <td>pos</td>\n",
       "      <td>816</td>\n",
       "      <td>warning : if you actually wish to see the film...</td>\n",
       "      <td>doubts</td>\n",
       "    </tr>\n",
       "    <tr>\n",
       "      <th>1421</th>\n",
       "      <td>[the, year, is, 1962, and, the, military, is, ...</td>\n",
       "      <td>pos</td>\n",
       "      <td>888</td>\n",
       "      <td>the year is 1962 and the military is conductin...</td>\n",
       "      <td>doubts</td>\n",
       "    </tr>\n",
       "    <tr>\n",
       "      <th>1554</th>\n",
       "      <td>[meteor, threat, set, to, blow, away, all, vol...</td>\n",
       "      <td>pos</td>\n",
       "      <td>948</td>\n",
       "      <td>meteor threat set to blow away all volcanoes &amp;...</td>\n",
       "      <td>doubts</td>\n",
       "    </tr>\n",
       "    <tr>\n",
       "      <th>1712</th>\n",
       "      <td>[\", ., ., it, ', s, certainly, more, than, jus...</td>\n",
       "      <td>pos</td>\n",
       "      <td>1523</td>\n",
       "      <td>\" . . it ' s certainly more than just a monste...</td>\n",
       "      <td>doubts</td>\n",
       "    </tr>\n",
       "    <tr>\n",
       "      <th>1770</th>\n",
       "      <td>[i, want, to, correct, what, i, wrote, last, y...</td>\n",
       "      <td>pos</td>\n",
       "      <td>662</td>\n",
       "      <td>i want to correct what i wrote last year in my...</td>\n",
       "      <td>doubts</td>\n",
       "    </tr>\n",
       "    <tr>\n",
       "      <th>1785</th>\n",
       "      <td>[i, want, to, correct, what, i, wrote, in, a, ...</td>\n",
       "      <td>pos</td>\n",
       "      <td>660</td>\n",
       "      <td>i want to correct what i wrote in a former ret...</td>\n",
       "      <td>doubts</td>\n",
       "    </tr>\n",
       "    <tr>\n",
       "      <th>1786</th>\n",
       "      <td>[with, many, big, -, budget, science, fiction,...</td>\n",
       "      <td>pos</td>\n",
       "      <td>813</td>\n",
       "      <td>with many big - budget science fiction films ,...</td>\n",
       "      <td>doubts</td>\n",
       "    </tr>\n",
       "    <tr>\n",
       "      <th>1843</th>\n",
       "      <td>[i, must, admit, i, ', m, going, to, be, a, bi...</td>\n",
       "      <td>pos</td>\n",
       "      <td>568</td>\n",
       "      <td>i must admit i ' m going to be a bit biased in...</td>\n",
       "      <td>doubts</td>\n",
       "    </tr>\n",
       "  </tbody>\n",
       "</table>\n",
       "</div>"
      ],
      "text/plain": [
       "                                                  words category  nWords  \\\n",
       "275   [let, me, start, off, by, saying, that, leadin...      pos    1576   \n",
       "330   [wow, !, what, a, movie, ., it, ', s, everythi...      pos     889   \n",
       "573   [vegas, vacation, is, the, fourth, film, starr...      neg     449   \n",
       "859   [in, intolerance, ,, d, ., w, ., griffith, tol...      pos    1106   \n",
       "1044  [the, reunion, film, is, not, an, original, id...      pos    1403   \n",
       "1136  [i, don, ', t, appreciate, it, when, a, thrill...      neg     757   \n",
       "1139  [this, \", dumb, \", cowboy, blondie, who, think...      pos     538   \n",
       "1222  [magnolia, left, me, relling, from, the, theat...      pos     868   \n",
       "1283  [warning, :, if, you, actually, wish, to, see,...      pos     816   \n",
       "1421  [the, year, is, 1962, and, the, military, is, ...      pos     888   \n",
       "1554  [meteor, threat, set, to, blow, away, all, vol...      pos     948   \n",
       "1712  [\", ., ., it, ', s, certainly, more, than, jus...      pos    1523   \n",
       "1770  [i, want, to, correct, what, i, wrote, last, y...      pos     662   \n",
       "1785  [i, want, to, correct, what, i, wrote, in, a, ...      pos     660   \n",
       "1786  [with, many, big, -, budget, science, fiction,...      pos     813   \n",
       "1843  [i, must, admit, i, ', m, going, to, be, a, bi...      pos     568   \n",
       "\n",
       "                                                 review searchWord  \n",
       "275   let me start off by saying that leading up to ...     doubts  \n",
       "330   wow ! what a movie . it ' s everything a movie...     doubts  \n",
       "573   vegas vacation is the fourth film starring che...     doubts  \n",
       "859   in intolerance , d . w . griffith told four di...     doubts  \n",
       "1044  the reunion film is not an original idea in an...     doubts  \n",
       "1136  i don ' t appreciate it when a thriller manipu...     doubts  \n",
       "1139  this \" dumb \" cowboy blondie who thinks he is ...     doubts  \n",
       "1222  magnolia left me relling from the theatre , st...     doubts  \n",
       "1283  warning : if you actually wish to see the film...     doubts  \n",
       "1421  the year is 1962 and the military is conductin...     doubts  \n",
       "1554  meteor threat set to blow away all volcanoes &...     doubts  \n",
       "1712  \" . . it ' s certainly more than just a monste...     doubts  \n",
       "1770  i want to correct what i wrote last year in my...     doubts  \n",
       "1785  i want to correct what i wrote in a former ret...     doubts  \n",
       "1786  with many big - budget science fiction films ,...     doubts  \n",
       "1843  i must admit i ' m going to be a bit biased in...     doubts  "
      ]
     },
     "execution_count": 159,
     "metadata": {},
     "output_type": "execute_result"
    }
   ],
   "source": [
    "searchResultReviews"
   ]
  },
  {
   "cell_type": "code",
   "execution_count": 160,
   "metadata": {},
   "outputs": [
    {
     "data": {
      "text/plain": [
       "category\n",
       "neg     2\n",
       "pos    14\n",
       "Name: words, dtype: int64"
      ]
     },
     "execution_count": 160,
     "metadata": {},
     "output_type": "execute_result"
    }
   ],
   "source": [
    "searchResultReviews.groupby(by=['category'])['words'].count()"
   ]
  },
  {
   "cell_type": "markdown",
   "metadata": {},
   "source": [
    "The word, 'doubts', is used in several ways in the reviews of the training set. In some cases, characters with 'doubts' represent a struggle related to the plot and sometimes represent a compelling internal struggle. In other cases, the word is used to describe a viewer's response to a part of a film, but generally the reviewer indicates that their doubts are unfounded or resolved in a positive way."
   ]
  },
  {
   "cell_type": "markdown",
   "metadata": {},
   "source": [
    "#### contains(overwhelmed)"
   ]
  },
  {
   "cell_type": "code",
   "execution_count": 161,
   "metadata": {},
   "outputs": [
    {
     "data": {
      "text/plain": [
       "9"
      ]
     },
     "execution_count": 161,
     "metadata": {},
     "output_type": "execute_result"
    }
   ],
   "source": [
    "searchWord='overwhelmed'\n",
    "searchResultReviews,nReviews=findReviews(searchWord,corpusDf)\n",
    "searchResultReviews=searchResultReviews.copy()\n",
    "searchResultReviews['searchWord']=searchWord\n",
    "searchResultReviews.to_csv(outputFileHandle,sep='|',header=False)\n",
    "nReviews"
   ]
  },
  {
   "cell_type": "code",
   "execution_count": 162,
   "metadata": {},
   "outputs": [
    {
     "data": {
      "text/html": [
       "<div>\n",
       "<style>\n",
       "    .dataframe thead tr:only-child th {\n",
       "        text-align: right;\n",
       "    }\n",
       "\n",
       "    .dataframe thead th {\n",
       "        text-align: left;\n",
       "    }\n",
       "\n",
       "    .dataframe tbody tr th {\n",
       "        vertical-align: top;\n",
       "    }\n",
       "</style>\n",
       "<table border=\"1\" class=\"dataframe\">\n",
       "  <thead>\n",
       "    <tr style=\"text-align: right;\">\n",
       "      <th></th>\n",
       "      <th>words</th>\n",
       "      <th>category</th>\n",
       "      <th>nWords</th>\n",
       "      <th>review</th>\n",
       "      <th>searchWord</th>\n",
       "    </tr>\n",
       "  </thead>\n",
       "  <tbody>\n",
       "    <tr>\n",
       "      <th>29</th>\n",
       "      <td>[who, would, have, thought, ?, jim, carrey, do...</td>\n",
       "      <td>pos</td>\n",
       "      <td>818</td>\n",
       "      <td>who would have thought ? jim carrey does drama...</td>\n",
       "      <td>overwhelmed</td>\n",
       "    </tr>\n",
       "    <tr>\n",
       "      <th>156</th>\n",
       "      <td>[stendhal, ', s, syndrome, :, a, condition, wh...</td>\n",
       "      <td>pos</td>\n",
       "      <td>722</td>\n",
       "      <td>stendhal ' s syndrome : a condition where , in...</td>\n",
       "      <td>overwhelmed</td>\n",
       "    </tr>\n",
       "    <tr>\n",
       "      <th>422</th>\n",
       "      <td>[in, a, flashback, ,, the, teenage, girl, in, ...</td>\n",
       "      <td>pos</td>\n",
       "      <td>852</td>\n",
       "      <td>in a flashback , the teenage girl in the eccen...</td>\n",
       "      <td>overwhelmed</td>\n",
       "    </tr>\n",
       "    <tr>\n",
       "      <th>656</th>\n",
       "      <td>[the, general, ', s, daughter, will, probably,...</td>\n",
       "      <td>neg</td>\n",
       "      <td>787</td>\n",
       "      <td>the general ' s daughter will probably be the ...</td>\n",
       "      <td>overwhelmed</td>\n",
       "    </tr>\n",
       "    <tr>\n",
       "      <th>712</th>\n",
       "      <td>[\", when, will, the, devil, take, me, ?, \", he...</td>\n",
       "      <td>pos</td>\n",
       "      <td>810</td>\n",
       "      <td>\" when will the devil take me ? \" he asks rhet...</td>\n",
       "      <td>overwhelmed</td>\n",
       "    </tr>\n",
       "    <tr>\n",
       "      <th>793</th>\n",
       "      <td>[steven, spielberg, is, now, considered, as, o...</td>\n",
       "      <td>pos</td>\n",
       "      <td>1263</td>\n",
       "      <td>steven spielberg is now considered as one of t...</td>\n",
       "      <td>overwhelmed</td>\n",
       "    </tr>\n",
       "    <tr>\n",
       "      <th>1163</th>\n",
       "      <td>[what, a, great, film, ., what, a, stunning, ,...</td>\n",
       "      <td>pos</td>\n",
       "      <td>1011</td>\n",
       "      <td>what a great film . what a stunning , touching...</td>\n",
       "      <td>overwhelmed</td>\n",
       "    </tr>\n",
       "    <tr>\n",
       "      <th>1170</th>\n",
       "      <td>[alien, 3, is, the, only, alien, film, i, have...</td>\n",
       "      <td>pos</td>\n",
       "      <td>2105</td>\n",
       "      <td>alien 3 is the only alien film i have seen in ...</td>\n",
       "      <td>overwhelmed</td>\n",
       "    </tr>\n",
       "    <tr>\n",
       "      <th>1673</th>\n",
       "      <td>[in, december, of, 1996, ,, a, little, movie, ...</td>\n",
       "      <td>pos</td>\n",
       "      <td>1572</td>\n",
       "      <td>in december of 1996 , a little movie called \" ...</td>\n",
       "      <td>overwhelmed</td>\n",
       "    </tr>\n",
       "  </tbody>\n",
       "</table>\n",
       "</div>"
      ],
      "text/plain": [
       "                                                  words category  nWords  \\\n",
       "29    [who, would, have, thought, ?, jim, carrey, do...      pos     818   \n",
       "156   [stendhal, ', s, syndrome, :, a, condition, wh...      pos     722   \n",
       "422   [in, a, flashback, ,, the, teenage, girl, in, ...      pos     852   \n",
       "656   [the, general, ', s, daughter, will, probably,...      neg     787   \n",
       "712   [\", when, will, the, devil, take, me, ?, \", he...      pos     810   \n",
       "793   [steven, spielberg, is, now, considered, as, o...      pos    1263   \n",
       "1163  [what, a, great, film, ., what, a, stunning, ,...      pos    1011   \n",
       "1170  [alien, 3, is, the, only, alien, film, i, have...      pos    2105   \n",
       "1673  [in, december, of, 1996, ,, a, little, movie, ...      pos    1572   \n",
       "\n",
       "                                                 review   searchWord  \n",
       "29    who would have thought ? jim carrey does drama...  overwhelmed  \n",
       "156   stendhal ' s syndrome : a condition where , in...  overwhelmed  \n",
       "422   in a flashback , the teenage girl in the eccen...  overwhelmed  \n",
       "656   the general ' s daughter will probably be the ...  overwhelmed  \n",
       "712   \" when will the devil take me ? \" he asks rhet...  overwhelmed  \n",
       "793   steven spielberg is now considered as one of t...  overwhelmed  \n",
       "1163  what a great film . what a stunning , touching...  overwhelmed  \n",
       "1170  alien 3 is the only alien film i have seen in ...  overwhelmed  \n",
       "1673  in december of 1996 , a little movie called \" ...  overwhelmed  "
      ]
     },
     "execution_count": 162,
     "metadata": {},
     "output_type": "execute_result"
    }
   ],
   "source": [
    "searchResultReviews"
   ]
  },
  {
   "cell_type": "code",
   "execution_count": 163,
   "metadata": {},
   "outputs": [
    {
     "data": {
      "text/plain": [
       "category\n",
       "neg    1\n",
       "pos    8\n",
       "Name: words, dtype: int64"
      ]
     },
     "execution_count": 163,
     "metadata": {},
     "output_type": "execute_result"
    }
   ],
   "source": [
    "searchResultReviews.groupby(by=['category'])['words'].count()"
   ]
  },
  {
   "cell_type": "markdown",
   "metadata": {},
   "source": [
    "The word 'overwhelmed' is used to describe the emotional responses of both viewers of the film and characters in the film. Although this word typically has a negative connotation, the word is generally used in reviews to describe compelling struggles. This word only appears in 9 reviews."
   ]
  },
  {
   "cell_type": "markdown",
   "metadata": {},
   "source": [
    "#### contains(topping)"
   ]
  },
  {
   "cell_type": "code",
   "execution_count": 164,
   "metadata": {},
   "outputs": [
    {
     "data": {
      "text/plain": [
       "9"
      ]
     },
     "execution_count": 164,
     "metadata": {},
     "output_type": "execute_result"
    }
   ],
   "source": [
    "searchWord='topping'\n",
    "searchResultReviews,nReviews=findReviews(searchWord,corpusDf)\n",
    "searchResultReviews=searchResultReviews.copy()\n",
    "searchResultReviews['searchWord']=searchWord\n",
    "searchResultReviews.to_csv(outputFileHandle,sep='|',header=False)\n",
    "nReviews"
   ]
  },
  {
   "cell_type": "code",
   "execution_count": 165,
   "metadata": {},
   "outputs": [
    {
     "data": {
      "text/html": [
       "<div>\n",
       "<style>\n",
       "    .dataframe thead tr:only-child th {\n",
       "        text-align: right;\n",
       "    }\n",
       "\n",
       "    .dataframe thead th {\n",
       "        text-align: left;\n",
       "    }\n",
       "\n",
       "    .dataframe tbody tr th {\n",
       "        vertical-align: top;\n",
       "    }\n",
       "</style>\n",
       "<table border=\"1\" class=\"dataframe\">\n",
       "  <thead>\n",
       "    <tr style=\"text-align: right;\">\n",
       "      <th></th>\n",
       "      <th>words</th>\n",
       "      <th>category</th>\n",
       "      <th>nWords</th>\n",
       "      <th>review</th>\n",
       "      <th>searchWord</th>\n",
       "    </tr>\n",
       "  </thead>\n",
       "  <tbody>\n",
       "    <tr>\n",
       "      <th>200</th>\n",
       "      <td>[a, month, ago, i, wrote, that, speed, 2, was,...</td>\n",
       "      <td>neg</td>\n",
       "      <td>225</td>\n",
       "      <td>a month ago i wrote that speed 2 was the worst...</td>\n",
       "      <td>topping</td>\n",
       "    </tr>\n",
       "    <tr>\n",
       "      <th>754</th>\n",
       "      <td>[i, was, pleasantly, surprised, by, this, film...</td>\n",
       "      <td>pos</td>\n",
       "      <td>1316</td>\n",
       "      <td>i was pleasantly surprised by this film . with...</td>\n",
       "      <td>topping</td>\n",
       "    </tr>\n",
       "    <tr>\n",
       "      <th>1033</th>\n",
       "      <td>[when, i, first, saw, the, previews, for, ron,...</td>\n",
       "      <td>pos</td>\n",
       "      <td>750</td>\n",
       "      <td>when i first saw the previews for ron howard '...</td>\n",
       "      <td>topping</td>\n",
       "    </tr>\n",
       "    <tr>\n",
       "      <th>1147</th>\n",
       "      <td>[with, the, success, of, the, surprise, hit, a...</td>\n",
       "      <td>pos</td>\n",
       "      <td>1501</td>\n",
       "      <td>with the success of the surprise hit alien , d...</td>\n",
       "      <td>topping</td>\n",
       "    </tr>\n",
       "    <tr>\n",
       "      <th>1270</th>\n",
       "      <td>[you, may, not, have, heard, of, lucas, ,, or,...</td>\n",
       "      <td>pos</td>\n",
       "      <td>1023</td>\n",
       "      <td>you may not have heard of lucas , or if you ha...</td>\n",
       "      <td>topping</td>\n",
       "    </tr>\n",
       "    <tr>\n",
       "      <th>1665</th>\n",
       "      <td>[\", living, out, loud, ,, \", is, the, type, of...</td>\n",
       "      <td>pos</td>\n",
       "      <td>814</td>\n",
       "      <td>\" living out loud , \" is the type of motion pi...</td>\n",
       "      <td>topping</td>\n",
       "    </tr>\n",
       "    <tr>\n",
       "      <th>1695</th>\n",
       "      <td>[note, :, some, may, consider, portions, of, t...</td>\n",
       "      <td>pos</td>\n",
       "      <td>1153</td>\n",
       "      <td>note : some may consider portions of the follo...</td>\n",
       "      <td>topping</td>\n",
       "    </tr>\n",
       "    <tr>\n",
       "      <th>1749</th>\n",
       "      <td>[written, by, john, grisham, and, robert, altm...</td>\n",
       "      <td>pos</td>\n",
       "      <td>1373</td>\n",
       "      <td>written by john grisham and robert altman ( as...</td>\n",
       "      <td>topping</td>\n",
       "    </tr>\n",
       "    <tr>\n",
       "      <th>1782</th>\n",
       "      <td>[note, :, some, may, consider, portions, of, t...</td>\n",
       "      <td>pos</td>\n",
       "      <td>1921</td>\n",
       "      <td>note : some may consider portions of the follo...</td>\n",
       "      <td>topping</td>\n",
       "    </tr>\n",
       "  </tbody>\n",
       "</table>\n",
       "</div>"
      ],
      "text/plain": [
       "                                                  words category  nWords  \\\n",
       "200   [a, month, ago, i, wrote, that, speed, 2, was,...      neg     225   \n",
       "754   [i, was, pleasantly, surprised, by, this, film...      pos    1316   \n",
       "1033  [when, i, first, saw, the, previews, for, ron,...      pos     750   \n",
       "1147  [with, the, success, of, the, surprise, hit, a...      pos    1501   \n",
       "1270  [you, may, not, have, heard, of, lucas, ,, or,...      pos    1023   \n",
       "1665  [\", living, out, loud, ,, \", is, the, type, of...      pos     814   \n",
       "1695  [note, :, some, may, consider, portions, of, t...      pos    1153   \n",
       "1749  [written, by, john, grisham, and, robert, altm...      pos    1373   \n",
       "1782  [note, :, some, may, consider, portions, of, t...      pos    1921   \n",
       "\n",
       "                                                 review searchWord  \n",
       "200   a month ago i wrote that speed 2 was the worst...    topping  \n",
       "754   i was pleasantly surprised by this film . with...    topping  \n",
       "1033  when i first saw the previews for ron howard '...    topping  \n",
       "1147  with the success of the surprise hit alien , d...    topping  \n",
       "1270  you may not have heard of lucas , or if you ha...    topping  \n",
       "1665  \" living out loud , \" is the type of motion pi...    topping  \n",
       "1695  note : some may consider portions of the follo...    topping  \n",
       "1749  written by john grisham and robert altman ( as...    topping  \n",
       "1782  note : some may consider portions of the follo...    topping  "
      ]
     },
     "execution_count": 165,
     "metadata": {},
     "output_type": "execute_result"
    }
   ],
   "source": [
    "searchResultReviews"
   ]
  },
  {
   "cell_type": "code",
   "execution_count": 166,
   "metadata": {},
   "outputs": [
    {
     "data": {
      "text/plain": [
       "category\n",
       "neg    1\n",
       "pos    8\n",
       "Name: words, dtype: int64"
      ]
     },
     "execution_count": 166,
     "metadata": {},
     "output_type": "execute_result"
    }
   ],
   "source": [
    "searchResultReviews.groupby(by=['category'])['words'].count()"
   ]
  },
  {
   "cell_type": "markdown",
   "metadata": {},
   "source": [
    "As a synonym for ‘surpassing’, it is not surprising that the word, 'topping' appears predominantly in positive reviews."
   ]
  },
  {
   "cell_type": "markdown",
   "metadata": {},
   "source": [
    "#### contains(fabric)"
   ]
  },
  {
   "cell_type": "code",
   "execution_count": 167,
   "metadata": {},
   "outputs": [
    {
     "data": {
      "text/plain": [
       "9"
      ]
     },
     "execution_count": 167,
     "metadata": {},
     "output_type": "execute_result"
    }
   ],
   "source": [
    "searchWord='fabric'\n",
    "searchResultReviews,nReviews=findReviews(searchWord,corpusDf)\n",
    "searchResultReviews=searchResultReviews.copy()\n",
    "searchResultReviews['searchWord']=searchWord\n",
    "searchResultReviews.to_csv(outputFileHandle,sep='|',header=False)\n",
    "nReviews"
   ]
  },
  {
   "cell_type": "code",
   "execution_count": 168,
   "metadata": {},
   "outputs": [
    {
     "data": {
      "text/html": [
       "<div>\n",
       "<style>\n",
       "    .dataframe thead tr:only-child th {\n",
       "        text-align: right;\n",
       "    }\n",
       "\n",
       "    .dataframe thead th {\n",
       "        text-align: left;\n",
       "    }\n",
       "\n",
       "    .dataframe tbody tr th {\n",
       "        vertical-align: top;\n",
       "    }\n",
       "</style>\n",
       "<table border=\"1\" class=\"dataframe\">\n",
       "  <thead>\n",
       "    <tr style=\"text-align: right;\">\n",
       "      <th></th>\n",
       "      <th>words</th>\n",
       "      <th>category</th>\n",
       "      <th>nWords</th>\n",
       "      <th>review</th>\n",
       "      <th>searchWord</th>\n",
       "    </tr>\n",
       "  </thead>\n",
       "  <tbody>\n",
       "    <tr>\n",
       "      <th>27</th>\n",
       "      <td>[there, ', s, more, to, a, quilt, than, fabric...</td>\n",
       "      <td>pos</td>\n",
       "      <td>799</td>\n",
       "      <td>there ' s more to a quilt than fabric and thre...</td>\n",
       "      <td>fabric</td>\n",
       "    </tr>\n",
       "    <tr>\n",
       "      <th>174</th>\n",
       "      <td>[here, ', s, a, word, analogy, :, amistad, is,...</td>\n",
       "      <td>pos</td>\n",
       "      <td>1467</td>\n",
       "      <td>here ' s a word analogy : amistad is to the lo...</td>\n",
       "      <td>fabric</td>\n",
       "    </tr>\n",
       "    <tr>\n",
       "      <th>349</th>\n",
       "      <td>[at, first, glance, ,, it, appears, that, the,...</td>\n",
       "      <td>pos</td>\n",
       "      <td>1019</td>\n",
       "      <td>at first glance , it appears that the home alo...</td>\n",
       "      <td>fabric</td>\n",
       "    </tr>\n",
       "    <tr>\n",
       "      <th>434</th>\n",
       "      <td>[unzipped, is, a, cinematic, portrait, of, isa...</td>\n",
       "      <td>pos</td>\n",
       "      <td>603</td>\n",
       "      <td>unzipped is a cinematic portrait of isaac mizr...</td>\n",
       "      <td>fabric</td>\n",
       "    </tr>\n",
       "    <tr>\n",
       "      <th>736</th>\n",
       "      <td>[i, ', ve, always, been, told, that, there, ar...</td>\n",
       "      <td>pos</td>\n",
       "      <td>582</td>\n",
       "      <td>i ' ve always been told that there are two thi...</td>\n",
       "      <td>fabric</td>\n",
       "    </tr>\n",
       "    <tr>\n",
       "      <th>827</th>\n",
       "      <td>[in, arguably, the, most, anticipated, movie, ...</td>\n",
       "      <td>pos</td>\n",
       "      <td>463</td>\n",
       "      <td>in arguably the most anticipated movie this ce...</td>\n",
       "      <td>fabric</td>\n",
       "    </tr>\n",
       "    <tr>\n",
       "      <th>1161</th>\n",
       "      <td>[porter, stoddard, (, warren, beatty, ), is, a...</td>\n",
       "      <td>neg</td>\n",
       "      <td>824</td>\n",
       "      <td>porter stoddard ( warren beatty ) is a success...</td>\n",
       "      <td>fabric</td>\n",
       "    </tr>\n",
       "    <tr>\n",
       "      <th>1380</th>\n",
       "      <td>[set, in, the, late, 80, ', s, at, the, height...</td>\n",
       "      <td>pos</td>\n",
       "      <td>1326</td>\n",
       "      <td>set in the late 80 ' s at the height of yuppie...</td>\n",
       "      <td>fabric</td>\n",
       "    </tr>\n",
       "    <tr>\n",
       "      <th>1850</th>\n",
       "      <td>[with, a, team, of, 200, graphic, artists, and...</td>\n",
       "      <td>pos</td>\n",
       "      <td>711</td>\n",
       "      <td>with a team of 200 graphic artists and animato...</td>\n",
       "      <td>fabric</td>\n",
       "    </tr>\n",
       "  </tbody>\n",
       "</table>\n",
       "</div>"
      ],
      "text/plain": [
       "                                                  words category  nWords  \\\n",
       "27    [there, ', s, more, to, a, quilt, than, fabric...      pos     799   \n",
       "174   [here, ', s, a, word, analogy, :, amistad, is,...      pos    1467   \n",
       "349   [at, first, glance, ,, it, appears, that, the,...      pos    1019   \n",
       "434   [unzipped, is, a, cinematic, portrait, of, isa...      pos     603   \n",
       "736   [i, ', ve, always, been, told, that, there, ar...      pos     582   \n",
       "827   [in, arguably, the, most, anticipated, movie, ...      pos     463   \n",
       "1161  [porter, stoddard, (, warren, beatty, ), is, a...      neg     824   \n",
       "1380  [set, in, the, late, 80, ', s, at, the, height...      pos    1326   \n",
       "1850  [with, a, team, of, 200, graphic, artists, and...      pos     711   \n",
       "\n",
       "                                                 review searchWord  \n",
       "27    there ' s more to a quilt than fabric and thre...     fabric  \n",
       "174   here ' s a word analogy : amistad is to the lo...     fabric  \n",
       "349   at first glance , it appears that the home alo...     fabric  \n",
       "434   unzipped is a cinematic portrait of isaac mizr...     fabric  \n",
       "736   i ' ve always been told that there are two thi...     fabric  \n",
       "827   in arguably the most anticipated movie this ce...     fabric  \n",
       "1161  porter stoddard ( warren beatty ) is a success...     fabric  \n",
       "1380  set in the late 80 ' s at the height of yuppie...     fabric  \n",
       "1850  with a team of 200 graphic artists and animato...     fabric  "
      ]
     },
     "execution_count": 168,
     "metadata": {},
     "output_type": "execute_result"
    }
   ],
   "source": [
    "searchResultReviews"
   ]
  },
  {
   "cell_type": "code",
   "execution_count": 169,
   "metadata": {},
   "outputs": [
    {
     "data": {
      "text/plain": [
       "category\n",
       "neg    1\n",
       "pos    8\n",
       "Name: words, dtype: int64"
      ]
     },
     "execution_count": 169,
     "metadata": {},
     "output_type": "execute_result"
    }
   ],
   "source": [
    "searchResultReviews.groupby(by=['category'])['words'].count()"
   ]
  },
  {
   "cell_type": "markdown",
   "metadata": {},
   "source": [
    "Although the word, 'fabric' only appears in 9 reviews, in common usage this word does not have a positive or negative connotation. This word seems unlikely to have predictive power out-of-sample."
   ]
  },
  {
   "cell_type": "markdown",
   "metadata": {},
   "source": [
    "#### contains(lang)"
   ]
  },
  {
   "cell_type": "code",
   "execution_count": 170,
   "metadata": {},
   "outputs": [
    {
     "data": {
      "text/plain": [
       "9"
      ]
     },
     "execution_count": 170,
     "metadata": {},
     "output_type": "execute_result"
    }
   ],
   "source": [
    "searchWord='lang'\n",
    "searchResultReviews,nReviews=findReviews(searchWord,corpusDf)\n",
    "searchResultReviews=searchResultReviews.copy()\n",
    "searchResultReviews['searchWord']=searchWord\n",
    "searchResultReviews.to_csv(outputFileHandle,sep='|',header=False)\n",
    "nReviews"
   ]
  },
  {
   "cell_type": "code",
   "execution_count": 171,
   "metadata": {},
   "outputs": [
    {
     "data": {
      "text/html": [
       "<div>\n",
       "<style>\n",
       "    .dataframe thead tr:only-child th {\n",
       "        text-align: right;\n",
       "    }\n",
       "\n",
       "    .dataframe thead th {\n",
       "        text-align: left;\n",
       "    }\n",
       "\n",
       "    .dataframe tbody tr th {\n",
       "        vertical-align: top;\n",
       "    }\n",
       "</style>\n",
       "<table border=\"1\" class=\"dataframe\">\n",
       "  <thead>\n",
       "    <tr style=\"text-align: right;\">\n",
       "      <th></th>\n",
       "      <th>words</th>\n",
       "      <th>category</th>\n",
       "      <th>nWords</th>\n",
       "      <th>review</th>\n",
       "      <th>searchWord</th>\n",
       "    </tr>\n",
       "  </thead>\n",
       "  <tbody>\n",
       "    <tr>\n",
       "      <th>937</th>\n",
       "      <td>[cinema, has, been, around, for, about, a, hun...</td>\n",
       "      <td>pos</td>\n",
       "      <td>1407</td>\n",
       "      <td>cinema has been around for about a hundred yea...</td>\n",
       "      <td>lang</td>\n",
       "    </tr>\n",
       "    <tr>\n",
       "      <th>1022</th>\n",
       "      <td>[niagara, niagara, (, r, ), bob, gosse, ', s, ...</td>\n",
       "      <td>pos</td>\n",
       "      <td>411</td>\n",
       "      <td>niagara niagara ( r ) bob gosse ' s niagara ni...</td>\n",
       "      <td>lang</td>\n",
       "    </tr>\n",
       "    <tr>\n",
       "      <th>1041</th>\n",
       "      <td>[hollywood, has, really, done, the, whole, dra...</td>\n",
       "      <td>pos</td>\n",
       "      <td>887</td>\n",
       "      <td>hollywood has really done the whole dracula th...</td>\n",
       "      <td>lang</td>\n",
       "    </tr>\n",
       "    <tr>\n",
       "      <th>1427</th>\n",
       "      <td>[a, big, surprise, to, me, ., the, good, trail...</td>\n",
       "      <td>pos</td>\n",
       "      <td>407</td>\n",
       "      <td>a big surprise to me . the good trailer had hi...</td>\n",
       "      <td>lang</td>\n",
       "    </tr>\n",
       "    <tr>\n",
       "      <th>1444</th>\n",
       "      <td>[most, movies, seem, to, release, a, third, mo...</td>\n",
       "      <td>pos</td>\n",
       "      <td>376</td>\n",
       "      <td>most movies seem to release a third movie just...</td>\n",
       "      <td>lang</td>\n",
       "    </tr>\n",
       "    <tr>\n",
       "      <th>1479</th>\n",
       "      <td>[i, wish, i, could, say, that, there, is, some...</td>\n",
       "      <td>pos</td>\n",
       "      <td>1069</td>\n",
       "      <td>i wish i could say that there is something mor...</td>\n",
       "      <td>lang</td>\n",
       "    </tr>\n",
       "    <tr>\n",
       "      <th>1743</th>\n",
       "      <td>[i, should, have, known, ,, damn, it, ,, i, sh...</td>\n",
       "      <td>neg</td>\n",
       "      <td>1316</td>\n",
       "      <td>i should have known , damn it , i should have ...</td>\n",
       "      <td>lang</td>\n",
       "    </tr>\n",
       "    <tr>\n",
       "      <th>1752</th>\n",
       "      <td>[waiting, at, the, train, station, near, the, ...</td>\n",
       "      <td>pos</td>\n",
       "      <td>740</td>\n",
       "      <td>waiting at the train station near the beginnin...</td>\n",
       "      <td>lang</td>\n",
       "    </tr>\n",
       "    <tr>\n",
       "      <th>1798</th>\n",
       "      <td>[fritz, lang, ', s, first, american, film, sin...</td>\n",
       "      <td>pos</td>\n",
       "      <td>1025</td>\n",
       "      <td>fritz lang ' s first american film since leavi...</td>\n",
       "      <td>lang</td>\n",
       "    </tr>\n",
       "  </tbody>\n",
       "</table>\n",
       "</div>"
      ],
      "text/plain": [
       "                                                  words category  nWords  \\\n",
       "937   [cinema, has, been, around, for, about, a, hun...      pos    1407   \n",
       "1022  [niagara, niagara, (, r, ), bob, gosse, ', s, ...      pos     411   \n",
       "1041  [hollywood, has, really, done, the, whole, dra...      pos     887   \n",
       "1427  [a, big, surprise, to, me, ., the, good, trail...      pos     407   \n",
       "1444  [most, movies, seem, to, release, a, third, mo...      pos     376   \n",
       "1479  [i, wish, i, could, say, that, there, is, some...      pos    1069   \n",
       "1743  [i, should, have, known, ,, damn, it, ,, i, sh...      neg    1316   \n",
       "1752  [waiting, at, the, train, station, near, the, ...      pos     740   \n",
       "1798  [fritz, lang, ', s, first, american, film, sin...      pos    1025   \n",
       "\n",
       "                                                 review searchWord  \n",
       "937   cinema has been around for about a hundred yea...       lang  \n",
       "1022  niagara niagara ( r ) bob gosse ' s niagara ni...       lang  \n",
       "1041  hollywood has really done the whole dracula th...       lang  \n",
       "1427  a big surprise to me . the good trailer had hi...       lang  \n",
       "1444  most movies seem to release a third movie just...       lang  \n",
       "1479  i wish i could say that there is something mor...       lang  \n",
       "1743  i should have known , damn it , i should have ...       lang  \n",
       "1752  waiting at the train station near the beginnin...       lang  \n",
       "1798  fritz lang ' s first american film since leavi...       lang  "
      ]
     },
     "execution_count": 171,
     "metadata": {},
     "output_type": "execute_result"
    }
   ],
   "source": [
    "searchResultReviews"
   ]
  },
  {
   "cell_type": "code",
   "execution_count": 172,
   "metadata": {},
   "outputs": [
    {
     "data": {
      "text/plain": [
       "category\n",
       "neg    1\n",
       "pos    8\n",
       "Name: words, dtype: int64"
      ]
     },
     "execution_count": 172,
     "metadata": {},
     "output_type": "execute_result"
    }
   ],
   "source": [
    "searchResultReviews.groupby(by=['category'])['words'].count()"
   ]
  },
  {
   "cell_type": "markdown",
   "metadata": {},
   "source": [
    "Fritz Lang - an Austrian film director, producer and screenwriter - directed popular films of the silent era (including Metropolis). James \"Clubber\" Lang is the main antagonist in Rocky III played by Mr. T. Most of the 8 positive reviews reference 'Fritz Lang'. The negative review has a neutral reference to K.D. Lang."
   ]
  },
  {
   "cell_type": "markdown",
   "metadata": {},
   "source": [
    "#### contains(wits)"
   ]
  },
  {
   "cell_type": "code",
   "execution_count": 173,
   "metadata": {},
   "outputs": [
    {
     "data": {
      "text/plain": [
       "8"
      ]
     },
     "execution_count": 173,
     "metadata": {},
     "output_type": "execute_result"
    }
   ],
   "source": [
    "searchWord='wits'\n",
    "searchResultReviews,nReviews=findReviews(searchWord,corpusDf)\n",
    "searchResultReviews=searchResultReviews.copy()\n",
    "searchResultReviews['searchWord']=searchWord\n",
    "searchResultReviews.to_csv(outputFileHandle,sep='|',header=False)\n",
    "nReviews"
   ]
  },
  {
   "cell_type": "code",
   "execution_count": 174,
   "metadata": {},
   "outputs": [
    {
     "data": {
      "text/html": [
       "<div>\n",
       "<style>\n",
       "    .dataframe thead tr:only-child th {\n",
       "        text-align: right;\n",
       "    }\n",
       "\n",
       "    .dataframe thead th {\n",
       "        text-align: left;\n",
       "    }\n",
       "\n",
       "    .dataframe tbody tr th {\n",
       "        vertical-align: top;\n",
       "    }\n",
       "</style>\n",
       "<table border=\"1\" class=\"dataframe\">\n",
       "  <thead>\n",
       "    <tr style=\"text-align: right;\">\n",
       "      <th></th>\n",
       "      <th>words</th>\n",
       "      <th>category</th>\n",
       "      <th>nWords</th>\n",
       "      <th>review</th>\n",
       "      <th>searchWord</th>\n",
       "    </tr>\n",
       "  </thead>\n",
       "  <tbody>\n",
       "    <tr>\n",
       "      <th>275</th>\n",
       "      <td>[let, me, start, off, by, saying, that, leadin...</td>\n",
       "      <td>pos</td>\n",
       "      <td>1576</td>\n",
       "      <td>let me start off by saying that leading up to ...</td>\n",
       "      <td>wits</td>\n",
       "    </tr>\n",
       "    <tr>\n",
       "      <th>425</th>\n",
       "      <td>[ever, watch, a, very, young, child, try, and,...</td>\n",
       "      <td>neg</td>\n",
       "      <td>651</td>\n",
       "      <td>ever watch a very young child try and tell a j...</td>\n",
       "      <td>wits</td>\n",
       "    </tr>\n",
       "    <tr>\n",
       "      <th>462</th>\n",
       "      <td>[\", the, fugitive, \", is, probably, one, of, t...</td>\n",
       "      <td>pos</td>\n",
       "      <td>779</td>\n",
       "      <td>\" the fugitive \" is probably one of the greate...</td>\n",
       "      <td>wits</td>\n",
       "    </tr>\n",
       "    <tr>\n",
       "      <th>708</th>\n",
       "      <td>[quentin, tarantino, seems, to, have, a, knack...</td>\n",
       "      <td>pos</td>\n",
       "      <td>1482</td>\n",
       "      <td>quentin tarantino seems to have a knack for gi...</td>\n",
       "      <td>wits</td>\n",
       "    </tr>\n",
       "    <tr>\n",
       "      <th>1521</th>\n",
       "      <td>[the, film, starts, out, with, a, creepy, open...</td>\n",
       "      <td>pos</td>\n",
       "      <td>628</td>\n",
       "      <td>the film starts out with a creepy opening sequ...</td>\n",
       "      <td>wits</td>\n",
       "    </tr>\n",
       "    <tr>\n",
       "      <th>1791</th>\n",
       "      <td>[plot, :, a, dude, and, his, brother, are, dri...</td>\n",
       "      <td>pos</td>\n",
       "      <td>804</td>\n",
       "      <td>plot : a dude and his brother are driving cros...</td>\n",
       "      <td>wits</td>\n",
       "    </tr>\n",
       "    <tr>\n",
       "      <th>1881</th>\n",
       "      <td>[by, phil, curtolo, mel, gibson, (, braveheart...</td>\n",
       "      <td>pos</td>\n",
       "      <td>405</td>\n",
       "      <td>by phil curtolo mel gibson ( braveheart ) gave...</td>\n",
       "      <td>wits</td>\n",
       "    </tr>\n",
       "    <tr>\n",
       "      <th>1884</th>\n",
       "      <td>[elmore, leonard, has, quickly, become, one, o...</td>\n",
       "      <td>pos</td>\n",
       "      <td>543</td>\n",
       "      <td>elmore leonard has quickly become one of holly...</td>\n",
       "      <td>wits</td>\n",
       "    </tr>\n",
       "  </tbody>\n",
       "</table>\n",
       "</div>"
      ],
      "text/plain": [
       "                                                  words category  nWords  \\\n",
       "275   [let, me, start, off, by, saying, that, leadin...      pos    1576   \n",
       "425   [ever, watch, a, very, young, child, try, and,...      neg     651   \n",
       "462   [\", the, fugitive, \", is, probably, one, of, t...      pos     779   \n",
       "708   [quentin, tarantino, seems, to, have, a, knack...      pos    1482   \n",
       "1521  [the, film, starts, out, with, a, creepy, open...      pos     628   \n",
       "1791  [plot, :, a, dude, and, his, brother, are, dri...      pos     804   \n",
       "1881  [by, phil, curtolo, mel, gibson, (, braveheart...      pos     405   \n",
       "1884  [elmore, leonard, has, quickly, become, one, o...      pos     543   \n",
       "\n",
       "                                                 review searchWord  \n",
       "275   let me start off by saying that leading up to ...       wits  \n",
       "425   ever watch a very young child try and tell a j...       wits  \n",
       "462   \" the fugitive \" is probably one of the greate...       wits  \n",
       "708   quentin tarantino seems to have a knack for gi...       wits  \n",
       "1521  the film starts out with a creepy opening sequ...       wits  \n",
       "1791  plot : a dude and his brother are driving cros...       wits  \n",
       "1881  by phil curtolo mel gibson ( braveheart ) gave...       wits  \n",
       "1884  elmore leonard has quickly become one of holly...       wits  "
      ]
     },
     "execution_count": 174,
     "metadata": {},
     "output_type": "execute_result"
    }
   ],
   "source": [
    "searchResultReviews"
   ]
  },
  {
   "cell_type": "code",
   "execution_count": 175,
   "metadata": {},
   "outputs": [
    {
     "data": {
      "text/plain": [
       "category\n",
       "neg    1\n",
       "pos    7\n",
       "Name: words, dtype: int64"
      ]
     },
     "execution_count": 175,
     "metadata": {},
     "output_type": "execute_result"
    }
   ],
   "source": [
    "searchResultReviews.groupby(by=['category'])['words'].count()"
   ]
  },
  {
   "cell_type": "markdown",
   "metadata": {},
   "source": [
    "The word, 'wits', is generally used in the training set reviews to positively describe characters in the film being reviewed. This word appears only 8 times in the training set. Typically, the word 'wit' has a positive connation. In the single negative review, the absence of characters with 'wit' is part of the negative critique."
   ]
  },
  {
   "cell_type": "markdown",
   "metadata": {},
   "source": [
    "#### contains(unwittingly)"
   ]
  },
  {
   "cell_type": "code",
   "execution_count": 176,
   "metadata": {},
   "outputs": [
    {
     "data": {
      "text/plain": [
       "13"
      ]
     },
     "execution_count": 176,
     "metadata": {},
     "output_type": "execute_result"
    }
   ],
   "source": [
    "searchWord='unwittingly'\n",
    "searchResultReviews,nReviews=findReviews(searchWord,corpusDf)\n",
    "searchResultReviews=searchResultReviews.copy()\n",
    "searchResultReviews['searchWord']=searchWord\n",
    "searchResultReviews.to_csv(outputFileHandle,sep='|',header=False)\n",
    "nReviews"
   ]
  },
  {
   "cell_type": "code",
   "execution_count": 177,
   "metadata": {},
   "outputs": [
    {
     "data": {
      "text/html": [
       "<div>\n",
       "<style>\n",
       "    .dataframe thead tr:only-child th {\n",
       "        text-align: right;\n",
       "    }\n",
       "\n",
       "    .dataframe thead th {\n",
       "        text-align: left;\n",
       "    }\n",
       "\n",
       "    .dataframe tbody tr th {\n",
       "        vertical-align: top;\n",
       "    }\n",
       "</style>\n",
       "<table border=\"1\" class=\"dataframe\">\n",
       "  <thead>\n",
       "    <tr style=\"text-align: right;\">\n",
       "      <th></th>\n",
       "      <th>words</th>\n",
       "      <th>category</th>\n",
       "      <th>nWords</th>\n",
       "      <th>review</th>\n",
       "      <th>searchWord</th>\n",
       "    </tr>\n",
       "  </thead>\n",
       "  <tbody>\n",
       "    <tr>\n",
       "      <th>95</th>\n",
       "      <td>[with, storytelling, this, compelling, ,, who,...</td>\n",
       "      <td>pos</td>\n",
       "      <td>497</td>\n",
       "      <td>with storytelling this compelling , who needs ...</td>\n",
       "      <td>unwittingly</td>\n",
       "    </tr>\n",
       "    <tr>\n",
       "      <th>1075</th>\n",
       "      <td>[expand, the, final, fifteen, minutes, of, hom...</td>\n",
       "      <td>pos</td>\n",
       "      <td>370</td>\n",
       "      <td>expand the final fifteen minutes of home alone...</td>\n",
       "      <td>unwittingly</td>\n",
       "    </tr>\n",
       "    <tr>\n",
       "      <th>1213</th>\n",
       "      <td>[i, ', m, not, quite, sure, what, to, say, abo...</td>\n",
       "      <td>pos</td>\n",
       "      <td>1241</td>\n",
       "      <td>i ' m not quite sure what to say about mars at...</td>\n",
       "      <td>unwittingly</td>\n",
       "    </tr>\n",
       "    <tr>\n",
       "      <th>1217</th>\n",
       "      <td>[jackie, brown, entered, theaters, with, littl...</td>\n",
       "      <td>pos</td>\n",
       "      <td>1394</td>\n",
       "      <td>jackie brown entered theaters with little fanf...</td>\n",
       "      <td>unwittingly</td>\n",
       "    </tr>\n",
       "    <tr>\n",
       "      <th>1372</th>\n",
       "      <td>[you, ', ve, got, mail, is, a, timely, romance...</td>\n",
       "      <td>pos</td>\n",
       "      <td>495</td>\n",
       "      <td>you ' ve got mail is a timely romance for this...</td>\n",
       "      <td>unwittingly</td>\n",
       "    </tr>\n",
       "    <tr>\n",
       "      <th>1399</th>\n",
       "      <td>[the, truman, show, (, paramount, pictures, ),...</td>\n",
       "      <td>pos</td>\n",
       "      <td>653</td>\n",
       "      <td>the truman show ( paramount pictures ) running...</td>\n",
       "      <td>unwittingly</td>\n",
       "    </tr>\n",
       "    <tr>\n",
       "      <th>1456</th>\n",
       "      <td>[he, has, spent, his, entire, life, in, an, aw...</td>\n",
       "      <td>pos</td>\n",
       "      <td>1064</td>\n",
       "      <td>he has spent his entire life in an awful littl...</td>\n",
       "      <td>unwittingly</td>\n",
       "    </tr>\n",
       "    <tr>\n",
       "      <th>1509</th>\n",
       "      <td>[in, \", the, astronaut, ', s, wife, ,, \", char...</td>\n",
       "      <td>neg</td>\n",
       "      <td>583</td>\n",
       "      <td>in \" the astronaut ' s wife , \" charlize thero...</td>\n",
       "      <td>unwittingly</td>\n",
       "    </tr>\n",
       "    <tr>\n",
       "      <th>1511</th>\n",
       "      <td>[once, upon, a, time, a, solitary, ogre, named...</td>\n",
       "      <td>pos</td>\n",
       "      <td>897</td>\n",
       "      <td>once upon a time a solitary ogre named shrek (...</td>\n",
       "      <td>unwittingly</td>\n",
       "    </tr>\n",
       "    <tr>\n",
       "      <th>1515</th>\n",
       "      <td>[tbwp, is, probably, the, single, most, profit...</td>\n",
       "      <td>pos</td>\n",
       "      <td>413</td>\n",
       "      <td>tbwp is probably the single most profitable fi...</td>\n",
       "      <td>unwittingly</td>\n",
       "    </tr>\n",
       "    <tr>\n",
       "      <th>1563</th>\n",
       "      <td>[a, new, entry, in, the, \", revisionist, histo...</td>\n",
       "      <td>neg</td>\n",
       "      <td>828</td>\n",
       "      <td>a new entry in the \" revisionist history \" gen...</td>\n",
       "      <td>unwittingly</td>\n",
       "    </tr>\n",
       "    <tr>\n",
       "      <th>1597</th>\n",
       "      <td>[a, frequent, error, is, the, categorization, ...</td>\n",
       "      <td>pos</td>\n",
       "      <td>1447</td>\n",
       "      <td>a frequent error is the categorization of a te...</td>\n",
       "      <td>unwittingly</td>\n",
       "    </tr>\n",
       "    <tr>\n",
       "      <th>1894</th>\n",
       "      <td>[it, ', s, no, secret, in, the, motion, pictur...</td>\n",
       "      <td>pos</td>\n",
       "      <td>607</td>\n",
       "      <td>it ' s no secret in the motion picture industr...</td>\n",
       "      <td>unwittingly</td>\n",
       "    </tr>\n",
       "  </tbody>\n",
       "</table>\n",
       "</div>"
      ],
      "text/plain": [
       "                                                  words category  nWords  \\\n",
       "95    [with, storytelling, this, compelling, ,, who,...      pos     497   \n",
       "1075  [expand, the, final, fifteen, minutes, of, hom...      pos     370   \n",
       "1213  [i, ', m, not, quite, sure, what, to, say, abo...      pos    1241   \n",
       "1217  [jackie, brown, entered, theaters, with, littl...      pos    1394   \n",
       "1372  [you, ', ve, got, mail, is, a, timely, romance...      pos     495   \n",
       "1399  [the, truman, show, (, paramount, pictures, ),...      pos     653   \n",
       "1456  [he, has, spent, his, entire, life, in, an, aw...      pos    1064   \n",
       "1509  [in, \", the, astronaut, ', s, wife, ,, \", char...      neg     583   \n",
       "1511  [once, upon, a, time, a, solitary, ogre, named...      pos     897   \n",
       "1515  [tbwp, is, probably, the, single, most, profit...      pos     413   \n",
       "1563  [a, new, entry, in, the, \", revisionist, histo...      neg     828   \n",
       "1597  [a, frequent, error, is, the, categorization, ...      pos    1447   \n",
       "1894  [it, ', s, no, secret, in, the, motion, pictur...      pos     607   \n",
       "\n",
       "                                                 review   searchWord  \n",
       "95    with storytelling this compelling , who needs ...  unwittingly  \n",
       "1075  expand the final fifteen minutes of home alone...  unwittingly  \n",
       "1213  i ' m not quite sure what to say about mars at...  unwittingly  \n",
       "1217  jackie brown entered theaters with little fanf...  unwittingly  \n",
       "1372  you ' ve got mail is a timely romance for this...  unwittingly  \n",
       "1399  the truman show ( paramount pictures ) running...  unwittingly  \n",
       "1456  he has spent his entire life in an awful littl...  unwittingly  \n",
       "1509  in \" the astronaut ' s wife , \" charlize thero...  unwittingly  \n",
       "1511  once upon a time a solitary ogre named shrek (...  unwittingly  \n",
       "1515  tbwp is probably the single most profitable fi...  unwittingly  \n",
       "1563  a new entry in the \" revisionist history \" gen...  unwittingly  \n",
       "1597  a frequent error is the categorization of a te...  unwittingly  \n",
       "1894  it ' s no secret in the motion picture industr...  unwittingly  "
      ]
     },
     "execution_count": 177,
     "metadata": {},
     "output_type": "execute_result"
    }
   ],
   "source": [
    "searchResultReviews"
   ]
  },
  {
   "cell_type": "code",
   "execution_count": 178,
   "metadata": {},
   "outputs": [
    {
     "data": {
      "text/plain": [
       "category\n",
       "neg     2\n",
       "pos    11\n",
       "Name: words, dtype: int64"
      ]
     },
     "execution_count": 178,
     "metadata": {},
     "output_type": "execute_result"
    }
   ],
   "source": [
    "searchResultReviews.groupby(by=['category'])['words'].count()"
   ]
  },
  {
   "cell_type": "markdown",
   "metadata": {},
   "source": [
    "The word, 'unwittingly', appears in 11 positive reviews, and is used to denote innocence or something accidental. The term is generally associated with likeable characters. Even in the negative reviews, the word is used to describe characters positively."
   ]
  },
  {
   "cell_type": "markdown",
   "metadata": {},
   "source": [
    "#### contains(hugo)"
   ]
  },
  {
   "cell_type": "code",
   "execution_count": 179,
   "metadata": {},
   "outputs": [
    {
     "data": {
      "text/plain": [
       "13"
      ]
     },
     "execution_count": 179,
     "metadata": {},
     "output_type": "execute_result"
    }
   ],
   "source": [
    "searchWord='hugo'\n",
    "searchResultReviews,nReviews=findReviews(searchWord,corpusDf)\n",
    "searchResultReviews=searchResultReviews.copy()\n",
    "searchResultReviews['searchWord']=searchWord\n",
    "searchResultReviews.to_csv(outputFileHandle,sep='|',header=False)\n",
    "nReviews"
   ]
  },
  {
   "cell_type": "code",
   "execution_count": 180,
   "metadata": {},
   "outputs": [
    {
     "data": {
      "text/html": [
       "<div>\n",
       "<style>\n",
       "    .dataframe thead tr:only-child th {\n",
       "        text-align: right;\n",
       "    }\n",
       "\n",
       "    .dataframe thead th {\n",
       "        text-align: left;\n",
       "    }\n",
       "\n",
       "    .dataframe tbody tr th {\n",
       "        vertical-align: top;\n",
       "    }\n",
       "</style>\n",
       "<table border=\"1\" class=\"dataframe\">\n",
       "  <thead>\n",
       "    <tr style=\"text-align: right;\">\n",
       "      <th></th>\n",
       "      <th>words</th>\n",
       "      <th>category</th>\n",
       "      <th>nWords</th>\n",
       "      <th>review</th>\n",
       "      <th>searchWord</th>\n",
       "    </tr>\n",
       "  </thead>\n",
       "  <tbody>\n",
       "    <tr>\n",
       "      <th>46</th>\n",
       "      <td>[various, films, seen, at, the, seattle, film,...</td>\n",
       "      <td>neg</td>\n",
       "      <td>1490</td>\n",
       "      <td>various films seen at the seattle film festiva...</td>\n",
       "      <td>hugo</td>\n",
       "    </tr>\n",
       "    <tr>\n",
       "      <th>197</th>\n",
       "      <td>[plot, outline, -, wendy, (, samantha, press, ...</td>\n",
       "      <td>neg</td>\n",
       "      <td>736</td>\n",
       "      <td>plot outline - wendy ( samantha press ) , a ja...</td>\n",
       "      <td>hugo</td>\n",
       "    </tr>\n",
       "    <tr>\n",
       "      <th>332</th>\n",
       "      <td>[modern, audiences, are, more, likely, to, be,...</td>\n",
       "      <td>pos</td>\n",
       "      <td>529</td>\n",
       "      <td>modern audiences are more likely to be familia...</td>\n",
       "      <td>hugo</td>\n",
       "    </tr>\n",
       "    <tr>\n",
       "      <th>437</th>\n",
       "      <td>[the, calendar, year, has, not, even, reached,...</td>\n",
       "      <td>pos</td>\n",
       "      <td>795</td>\n",
       "      <td>the calendar year has not even reached its mid...</td>\n",
       "      <td>hugo</td>\n",
       "    </tr>\n",
       "    <tr>\n",
       "      <th>454</th>\n",
       "      <td>[plot, :, odin, is, a, great, high, school, ba...</td>\n",
       "      <td>pos</td>\n",
       "      <td>838</td>\n",
       "      <td>plot : odin is a great high school basketball ...</td>\n",
       "      <td>hugo</td>\n",
       "    </tr>\n",
       "    <tr>\n",
       "      <th>758</th>\n",
       "      <td>[a, welcome, cinematic, trend, over, the, past...</td>\n",
       "      <td>pos</td>\n",
       "      <td>766</td>\n",
       "      <td>a welcome cinematic trend over the past couple...</td>\n",
       "      <td>hugo</td>\n",
       "    </tr>\n",
       "    <tr>\n",
       "      <th>779</th>\n",
       "      <td>[those, of, you, who, frequently, read, my, re...</td>\n",
       "      <td>pos</td>\n",
       "      <td>830</td>\n",
       "      <td>those of you who frequently read my reviews ar...</td>\n",
       "      <td>hugo</td>\n",
       "    </tr>\n",
       "    <tr>\n",
       "      <th>899</th>\n",
       "      <td>[if, you, had, a, chance, to, create, a, genet...</td>\n",
       "      <td>pos</td>\n",
       "      <td>1226</td>\n",
       "      <td>if you had a chance to create a genetically pe...</td>\n",
       "      <td>hugo</td>\n",
       "    </tr>\n",
       "    <tr>\n",
       "      <th>1046</th>\n",
       "      <td>[it, ', s, an, interesting, premise, ., our, r...</td>\n",
       "      <td>pos</td>\n",
       "      <td>1140</td>\n",
       "      <td>it ' s an interesting premise . our reality is...</td>\n",
       "      <td>hugo</td>\n",
       "    </tr>\n",
       "    <tr>\n",
       "      <th>1125</th>\n",
       "      <td>[while, watching, \", shallow, grave, ,, \", i, ...</td>\n",
       "      <td>pos</td>\n",
       "      <td>878</td>\n",
       "      <td>while watching \" shallow grave , \" i found mys...</td>\n",
       "      <td>hugo</td>\n",
       "    </tr>\n",
       "    <tr>\n",
       "      <th>1589</th>\n",
       "      <td>[how, many, of, us, would, become, strippers, ...</td>\n",
       "      <td>pos</td>\n",
       "      <td>668</td>\n",
       "      <td>how many of us would become strippers ? for th...</td>\n",
       "      <td>hugo</td>\n",
       "    </tr>\n",
       "    <tr>\n",
       "      <th>1724</th>\n",
       "      <td>[perhaps, the, most, dramatic, changes, in, th...</td>\n",
       "      <td>pos</td>\n",
       "      <td>708</td>\n",
       "      <td>perhaps the most dramatic changes in the motio...</td>\n",
       "      <td>hugo</td>\n",
       "    </tr>\n",
       "    <tr>\n",
       "      <th>1786</th>\n",
       "      <td>[with, many, big, -, budget, science, fiction,...</td>\n",
       "      <td>pos</td>\n",
       "      <td>813</td>\n",
       "      <td>with many big - budget science fiction films ,...</td>\n",
       "      <td>hugo</td>\n",
       "    </tr>\n",
       "  </tbody>\n",
       "</table>\n",
       "</div>"
      ],
      "text/plain": [
       "                                                  words category  nWords  \\\n",
       "46    [various, films, seen, at, the, seattle, film,...      neg    1490   \n",
       "197   [plot, outline, -, wendy, (, samantha, press, ...      neg     736   \n",
       "332   [modern, audiences, are, more, likely, to, be,...      pos     529   \n",
       "437   [the, calendar, year, has, not, even, reached,...      pos     795   \n",
       "454   [plot, :, odin, is, a, great, high, school, ba...      pos     838   \n",
       "758   [a, welcome, cinematic, trend, over, the, past...      pos     766   \n",
       "779   [those, of, you, who, frequently, read, my, re...      pos     830   \n",
       "899   [if, you, had, a, chance, to, create, a, genet...      pos    1226   \n",
       "1046  [it, ', s, an, interesting, premise, ., our, r...      pos    1140   \n",
       "1125  [while, watching, \", shallow, grave, ,, \", i, ...      pos     878   \n",
       "1589  [how, many, of, us, would, become, strippers, ...      pos     668   \n",
       "1724  [perhaps, the, most, dramatic, changes, in, th...      pos     708   \n",
       "1786  [with, many, big, -, budget, science, fiction,...      pos     813   \n",
       "\n",
       "                                                 review searchWord  \n",
       "46    various films seen at the seattle film festiva...       hugo  \n",
       "197   plot outline - wendy ( samantha press ) , a ja...       hugo  \n",
       "332   modern audiences are more likely to be familia...       hugo  \n",
       "437   the calendar year has not even reached its mid...       hugo  \n",
       "454   plot : odin is a great high school basketball ...       hugo  \n",
       "758   a welcome cinematic trend over the past couple...       hugo  \n",
       "779   those of you who frequently read my reviews ar...       hugo  \n",
       "899   if you had a chance to create a genetically pe...       hugo  \n",
       "1046  it ' s an interesting premise . our reality is...       hugo  \n",
       "1125  while watching \" shallow grave , \" i found mys...       hugo  \n",
       "1589  how many of us would become strippers ? for th...       hugo  \n",
       "1724  perhaps the most dramatic changes in the motio...       hugo  \n",
       "1786  with many big - budget science fiction films ,...       hugo  "
      ]
     },
     "execution_count": 180,
     "metadata": {},
     "output_type": "execute_result"
    }
   ],
   "source": [
    "searchResultReviews"
   ]
  },
  {
   "cell_type": "code",
   "execution_count": 181,
   "metadata": {},
   "outputs": [
    {
     "data": {
      "text/plain": [
       "category\n",
       "neg     2\n",
       "pos    11\n",
       "Name: words, dtype: int64"
      ]
     },
     "execution_count": 181,
     "metadata": {},
     "output_type": "execute_result"
    }
   ],
   "source": [
    "searchResultReviews.groupby(by=['category'])['words'].count()"
   ]
  },
  {
   "cell_type": "markdown",
   "metadata": {},
   "source": [
    "The name, 'Hugo', appears in 13 reviews, 11 of which or positive. No pattern is evident. This feature seems spurious."
   ]
  },
  {
   "cell_type": "markdown",
   "metadata": {},
   "source": [
    "#### contains(benson)"
   ]
  },
  {
   "cell_type": "code",
   "execution_count": 182,
   "metadata": {},
   "outputs": [
    {
     "data": {
      "text/plain": [
       "7"
      ]
     },
     "execution_count": 182,
     "metadata": {},
     "output_type": "execute_result"
    }
   ],
   "source": [
    "searchWord='benson'\n",
    "searchResultReviews,nReviews=findReviews(searchWord,corpusDf)\n",
    "searchResultReviews=searchResultReviews.copy()\n",
    "searchResultReviews['searchWord']=searchWord\n",
    "searchResultReviews.to_csv(outputFileHandle,sep='|',header=False)\n",
    "nReviews"
   ]
  },
  {
   "cell_type": "code",
   "execution_count": 183,
   "metadata": {},
   "outputs": [
    {
     "data": {
      "text/html": [
       "<div>\n",
       "<style>\n",
       "    .dataframe thead tr:only-child th {\n",
       "        text-align: right;\n",
       "    }\n",
       "\n",
       "    .dataframe thead th {\n",
       "        text-align: left;\n",
       "    }\n",
       "\n",
       "    .dataframe tbody tr th {\n",
       "        vertical-align: top;\n",
       "    }\n",
       "</style>\n",
       "<table border=\"1\" class=\"dataframe\">\n",
       "  <thead>\n",
       "    <tr style=\"text-align: right;\">\n",
       "      <th></th>\n",
       "      <th>words</th>\n",
       "      <th>category</th>\n",
       "      <th>nWords</th>\n",
       "      <th>review</th>\n",
       "      <th>searchWord</th>\n",
       "    </tr>\n",
       "  </thead>\n",
       "  <tbody>\n",
       "    <tr>\n",
       "      <th>154</th>\n",
       "      <td>[eight, years, after, its, release, ,, disney,...</td>\n",
       "      <td>pos</td>\n",
       "      <td>844</td>\n",
       "      <td>eight years after its release , disney has dec...</td>\n",
       "      <td>benson</td>\n",
       "    </tr>\n",
       "    <tr>\n",
       "      <th>203</th>\n",
       "      <td>[note, :, some, may, consider, portions, of, t...</td>\n",
       "      <td>pos</td>\n",
       "      <td>1554</td>\n",
       "      <td>note : some may consider portions of the follo...</td>\n",
       "      <td>benson</td>\n",
       "    </tr>\n",
       "    <tr>\n",
       "      <th>519</th>\n",
       "      <td>[\", it, ', s, not, good, to, know, too, much, ...</td>\n",
       "      <td>pos</td>\n",
       "      <td>563</td>\n",
       "      <td>\" it ' s not good to know too much about someo...</td>\n",
       "      <td>benson</td>\n",
       "    </tr>\n",
       "    <tr>\n",
       "      <th>522</th>\n",
       "      <td>[when, i, first, heard, that, disney, ', s, ne...</td>\n",
       "      <td>pos</td>\n",
       "      <td>1459</td>\n",
       "      <td>when i first heard that disney ' s next animat...</td>\n",
       "      <td>benson</td>\n",
       "    </tr>\n",
       "    <tr>\n",
       "      <th>689</th>\n",
       "      <td>[you, ', ve, got, to, love, disney, ., no, mat...</td>\n",
       "      <td>pos</td>\n",
       "      <td>1403</td>\n",
       "      <td>you ' ve got to love disney . no matter what t...</td>\n",
       "      <td>benson</td>\n",
       "    </tr>\n",
       "    <tr>\n",
       "      <th>1458</th>\n",
       "      <td>[in, october, of, 1997, ,, audiences, were, da...</td>\n",
       "      <td>pos</td>\n",
       "      <td>957</td>\n",
       "      <td>in october of 1997 , audiences were dazzled by...</td>\n",
       "      <td>benson</td>\n",
       "    </tr>\n",
       "    <tr>\n",
       "      <th>1533</th>\n",
       "      <td>[\", flubber, \", is, the, second, best, example...</td>\n",
       "      <td>neg</td>\n",
       "      <td>1162</td>\n",
       "      <td>\" flubber \" is the second best example of how ...</td>\n",
       "      <td>benson</td>\n",
       "    </tr>\n",
       "  </tbody>\n",
       "</table>\n",
       "</div>"
      ],
      "text/plain": [
       "                                                  words category  nWords  \\\n",
       "154   [eight, years, after, its, release, ,, disney,...      pos     844   \n",
       "203   [note, :, some, may, consider, portions, of, t...      pos    1554   \n",
       "519   [\", it, ', s, not, good, to, know, too, much, ...      pos     563   \n",
       "522   [when, i, first, heard, that, disney, ', s, ne...      pos    1459   \n",
       "689   [you, ', ve, got, to, love, disney, ., no, mat...      pos    1403   \n",
       "1458  [in, october, of, 1997, ,, audiences, were, da...      pos     957   \n",
       "1533  [\", flubber, \", is, the, second, best, example...      neg    1162   \n",
       "\n",
       "                                                 review searchWord  \n",
       "154   eight years after its release , disney has dec...     benson  \n",
       "203   note : some may consider portions of the follo...     benson  \n",
       "519   \" it ' s not good to know too much about someo...     benson  \n",
       "522   when i first heard that disney ' s next animat...     benson  \n",
       "689   you ' ve got to love disney . no matter what t...     benson  \n",
       "1458  in october of 1997 , audiences were dazzled by...     benson  \n",
       "1533  \" flubber \" is the second best example of how ...     benson  "
      ]
     },
     "execution_count": 183,
     "metadata": {},
     "output_type": "execute_result"
    }
   ],
   "source": [
    "searchResultReviews"
   ]
  },
  {
   "cell_type": "code",
   "execution_count": 184,
   "metadata": {},
   "outputs": [
    {
     "data": {
      "text/plain": [
       "category\n",
       "neg    1\n",
       "pos    6\n",
       "Name: words, dtype: int64"
      ]
     },
     "execution_count": 184,
     "metadata": {},
     "output_type": "execute_result"
    }
   ],
   "source": [
    "searchResultReviews.groupby(by=['category'])['words'].count()"
   ]
  },
  {
   "cell_type": "markdown",
   "metadata": {},
   "source": [
    "The name, 'Benson', appears in just 7 reviews, 6 of which or positive. No pattern is evident. This feature seems spurious."
   ]
  },
  {
   "cell_type": "markdown",
   "metadata": {},
   "source": [
    "#### contains(wang)"
   ]
  },
  {
   "cell_type": "code",
   "execution_count": 185,
   "metadata": {},
   "outputs": [
    {
     "data": {
      "text/plain": [
       "7"
      ]
     },
     "execution_count": 185,
     "metadata": {},
     "output_type": "execute_result"
    }
   ],
   "source": [
    "searchWord='wang'\n",
    "searchResultReviews,nReviews=findReviews(searchWord,corpusDf)\n",
    "searchResultReviews=searchResultReviews.copy()\n",
    "searchResultReviews['searchWord']=searchWord\n",
    "searchResultReviews.to_csv(outputFileHandle,sep='|',header=False)\n",
    "nReviews"
   ]
  },
  {
   "cell_type": "code",
   "execution_count": 186,
   "metadata": {},
   "outputs": [
    {
     "data": {
      "text/html": [
       "<div>\n",
       "<style>\n",
       "    .dataframe thead tr:only-child th {\n",
       "        text-align: right;\n",
       "    }\n",
       "\n",
       "    .dataframe thead th {\n",
       "        text-align: left;\n",
       "    }\n",
       "\n",
       "    .dataframe tbody tr th {\n",
       "        vertical-align: top;\n",
       "    }\n",
       "</style>\n",
       "<table border=\"1\" class=\"dataframe\">\n",
       "  <thead>\n",
       "    <tr style=\"text-align: right;\">\n",
       "      <th></th>\n",
       "      <th>words</th>\n",
       "      <th>category</th>\n",
       "      <th>nWords</th>\n",
       "      <th>review</th>\n",
       "      <th>searchWord</th>\n",
       "    </tr>\n",
       "  </thead>\n",
       "  <tbody>\n",
       "    <tr>\n",
       "      <th>19</th>\n",
       "      <td>[touchstone, pictures, and, spyglass, entertai...</td>\n",
       "      <td>pos</td>\n",
       "      <td>1352</td>\n",
       "      <td>touchstone pictures and spyglass entertainment...</td>\n",
       "      <td>wang</td>\n",
       "    </tr>\n",
       "    <tr>\n",
       "      <th>615</th>\n",
       "      <td>[the, laserman, :, somehow, the, title, of, wr...</td>\n",
       "      <td>pos</td>\n",
       "      <td>971</td>\n",
       "      <td>the laserman : somehow the title of writer - d...</td>\n",
       "      <td>wang</td>\n",
       "    </tr>\n",
       "    <tr>\n",
       "      <th>895</th>\n",
       "      <td>[if, the, current, trends, of, hollywood, film...</td>\n",
       "      <td>pos</td>\n",
       "      <td>858</td>\n",
       "      <td>if the current trends of hollywood filmmaking ...</td>\n",
       "      <td>wang</td>\n",
       "    </tr>\n",
       "    <tr>\n",
       "      <th>924</th>\n",
       "      <td>[the, title, is, taken, from, the, writings, o...</td>\n",
       "      <td>neg</td>\n",
       "      <td>833</td>\n",
       "      <td>the title is taken from the writings of ralph ...</td>\n",
       "      <td>wang</td>\n",
       "    </tr>\n",
       "    <tr>\n",
       "      <th>1312</th>\n",
       "      <td>[note, :, some, may, consider, portions, of, t...</td>\n",
       "      <td>pos</td>\n",
       "      <td>851</td>\n",
       "      <td>note : some may consider portions of the follo...</td>\n",
       "      <td>wang</td>\n",
       "    </tr>\n",
       "    <tr>\n",
       "      <th>1359</th>\n",
       "      <td>[as, i, walked, out, of, crouching, tiger, ,, ...</td>\n",
       "      <td>pos</td>\n",
       "      <td>672</td>\n",
       "      <td>as i walked out of crouching tiger , hidden dr...</td>\n",
       "      <td>wang</td>\n",
       "    </tr>\n",
       "    <tr>\n",
       "      <th>1525</th>\n",
       "      <td>[synopsis, :, in, this, cultural, exploration,...</td>\n",
       "      <td>pos</td>\n",
       "      <td>342</td>\n",
       "      <td>synopsis : in this cultural exploration , a ch...</td>\n",
       "      <td>wang</td>\n",
       "    </tr>\n",
       "  </tbody>\n",
       "</table>\n",
       "</div>"
      ],
      "text/plain": [
       "                                                  words category  nWords  \\\n",
       "19    [touchstone, pictures, and, spyglass, entertai...      pos    1352   \n",
       "615   [the, laserman, :, somehow, the, title, of, wr...      pos     971   \n",
       "895   [if, the, current, trends, of, hollywood, film...      pos     858   \n",
       "924   [the, title, is, taken, from, the, writings, o...      neg     833   \n",
       "1312  [note, :, some, may, consider, portions, of, t...      pos     851   \n",
       "1359  [as, i, walked, out, of, crouching, tiger, ,, ...      pos     672   \n",
       "1525  [synopsis, :, in, this, cultural, exploration,...      pos     342   \n",
       "\n",
       "                                                 review searchWord  \n",
       "19    touchstone pictures and spyglass entertainment...       wang  \n",
       "615   the laserman : somehow the title of writer - d...       wang  \n",
       "895   if the current trends of hollywood filmmaking ...       wang  \n",
       "924   the title is taken from the writings of ralph ...       wang  \n",
       "1312  note : some may consider portions of the follo...       wang  \n",
       "1359  as i walked out of crouching tiger , hidden dr...       wang  \n",
       "1525  synopsis : in this cultural exploration , a ch...       wang  "
      ]
     },
     "execution_count": 186,
     "metadata": {},
     "output_type": "execute_result"
    }
   ],
   "source": [
    "searchResultReviews"
   ]
  },
  {
   "cell_type": "code",
   "execution_count": 187,
   "metadata": {},
   "outputs": [
    {
     "data": {
      "text/plain": [
       "category\n",
       "neg    1\n",
       "pos    6\n",
       "Name: words, dtype: int64"
      ]
     },
     "execution_count": 187,
     "metadata": {},
     "output_type": "execute_result"
    }
   ],
   "source": [
    "searchResultReviews.groupby(by=['category'])['words'].count()"
   ]
  },
  {
   "cell_type": "markdown",
   "metadata": {},
   "source": [
    "The surname, 'Wang', is found in 7 reviews, 6 of which are positive. No pattern is evident. This feature seems spurious."
   ]
  },
  {
   "cell_type": "markdown",
   "metadata": {},
   "source": [
    "#### contains(understands)"
   ]
  },
  {
   "cell_type": "code",
   "execution_count": 188,
   "metadata": {},
   "outputs": [
    {
     "data": {
      "text/plain": [
       "17"
      ]
     },
     "execution_count": 188,
     "metadata": {},
     "output_type": "execute_result"
    }
   ],
   "source": [
    "searchWord='understands'\n",
    "searchResultReviews,nReviews=findReviews(searchWord,corpusDf)\n",
    "searchResultReviews=searchResultReviews.copy()\n",
    "searchResultReviews['searchWord']=searchWord\n",
    "searchResultReviews.to_csv(outputFileHandle,sep='|',header=False)\n",
    "nReviews"
   ]
  },
  {
   "cell_type": "code",
   "execution_count": 189,
   "metadata": {},
   "outputs": [
    {
     "data": {
      "text/html": [
       "<div>\n",
       "<style>\n",
       "    .dataframe thead tr:only-child th {\n",
       "        text-align: right;\n",
       "    }\n",
       "\n",
       "    .dataframe thead th {\n",
       "        text-align: left;\n",
       "    }\n",
       "\n",
       "    .dataframe tbody tr th {\n",
       "        vertical-align: top;\n",
       "    }\n",
       "</style>\n",
       "<table border=\"1\" class=\"dataframe\">\n",
       "  <thead>\n",
       "    <tr style=\"text-align: right;\">\n",
       "      <th></th>\n",
       "      <th>words</th>\n",
       "      <th>category</th>\n",
       "      <th>nWords</th>\n",
       "      <th>review</th>\n",
       "      <th>searchWord</th>\n",
       "    </tr>\n",
       "  </thead>\n",
       "  <tbody>\n",
       "    <tr>\n",
       "      <th>110</th>\n",
       "      <td>[driving, miss, daisy, takes, its, sweet, time...</td>\n",
       "      <td>pos</td>\n",
       "      <td>1039</td>\n",
       "      <td>driving miss daisy takes its sweet time to tel...</td>\n",
       "      <td>understands</td>\n",
       "    </tr>\n",
       "    <tr>\n",
       "      <th>162</th>\n",
       "      <td>[sandra, bullock, in, high, heels, and, wieldi...</td>\n",
       "      <td>neg</td>\n",
       "      <td>933</td>\n",
       "      <td>sandra bullock in high heels and wielding a ch...</td>\n",
       "      <td>understands</td>\n",
       "    </tr>\n",
       "    <tr>\n",
       "      <th>294</th>\n",
       "      <td>[roberto, benigni, is, a, clown, in, the, trad...</td>\n",
       "      <td>pos</td>\n",
       "      <td>742</td>\n",
       "      <td>roberto benigni is a clown in the tradition of...</td>\n",
       "      <td>understands</td>\n",
       "    </tr>\n",
       "    <tr>\n",
       "      <th>431</th>\n",
       "      <td>[garry, shandling, makes, his, long, overdue, ...</td>\n",
       "      <td>pos</td>\n",
       "      <td>727</td>\n",
       "      <td>garry shandling makes his long overdue starrin...</td>\n",
       "      <td>understands</td>\n",
       "    </tr>\n",
       "    <tr>\n",
       "      <th>520</th>\n",
       "      <td>[while, watching, loser, ,, it, occurred, to, ...</td>\n",
       "      <td>neg</td>\n",
       "      <td>1012</td>\n",
       "      <td>while watching loser , it occurred to me that ...</td>\n",
       "      <td>understands</td>\n",
       "    </tr>\n",
       "    <tr>\n",
       "      <th>564</th>\n",
       "      <td>[the, uncompromising, nudity, bared, throughou...</td>\n",
       "      <td>pos</td>\n",
       "      <td>880</td>\n",
       "      <td>the uncompromising nudity bared throughout pet...</td>\n",
       "      <td>understands</td>\n",
       "    </tr>\n",
       "    <tr>\n",
       "      <th>566</th>\n",
       "      <td>[all, through, its, production, and, into, the...</td>\n",
       "      <td>neg</td>\n",
       "      <td>888</td>\n",
       "      <td>all through its production and into the early ...</td>\n",
       "      <td>understands</td>\n",
       "    </tr>\n",
       "    <tr>\n",
       "      <th>735</th>\n",
       "      <td>[\", the, tailor, of, panama, \", is, a, differe...</td>\n",
       "      <td>pos</td>\n",
       "      <td>907</td>\n",
       "      <td>\" the tailor of panama \" is a different kind o...</td>\n",
       "      <td>understands</td>\n",
       "    </tr>\n",
       "    <tr>\n",
       "      <th>794</th>\n",
       "      <td>[the, long, and, illustrious, career, of, robi...</td>\n",
       "      <td>pos</td>\n",
       "      <td>586</td>\n",
       "      <td>the long and illustrious career of robin willi...</td>\n",
       "      <td>understands</td>\n",
       "    </tr>\n",
       "    <tr>\n",
       "      <th>1008</th>\n",
       "      <td>[bill, condon, ', s, \", gods, and, monsters, \"...</td>\n",
       "      <td>pos</td>\n",
       "      <td>1113</td>\n",
       "      <td>bill condon ' s \" gods and monsters \" is a fas...</td>\n",
       "      <td>understands</td>\n",
       "    </tr>\n",
       "    <tr>\n",
       "      <th>1015</th>\n",
       "      <td>[jake, kasdan, ,, son, of, one, of, the, best,...</td>\n",
       "      <td>pos</td>\n",
       "      <td>829</td>\n",
       "      <td>jake kasdan , son of one of the best screenwri...</td>\n",
       "      <td>understands</td>\n",
       "    </tr>\n",
       "    <tr>\n",
       "      <th>1089</th>\n",
       "      <td>[warning, :, this, review, contains, some, spo...</td>\n",
       "      <td>pos</td>\n",
       "      <td>1680</td>\n",
       "      <td>warning : this review contains some spoilers f...</td>\n",
       "      <td>understands</td>\n",
       "    </tr>\n",
       "    <tr>\n",
       "      <th>1270</th>\n",
       "      <td>[you, may, not, have, heard, of, lucas, ,, or,...</td>\n",
       "      <td>pos</td>\n",
       "      <td>1023</td>\n",
       "      <td>you may not have heard of lucas , or if you ha...</td>\n",
       "      <td>understands</td>\n",
       "    </tr>\n",
       "    <tr>\n",
       "      <th>1389</th>\n",
       "      <td>[the, dramatic, comedy, cousins, has, all, the...</td>\n",
       "      <td>pos</td>\n",
       "      <td>448</td>\n",
       "      <td>the dramatic comedy cousins has all the necess...</td>\n",
       "      <td>understands</td>\n",
       "    </tr>\n",
       "    <tr>\n",
       "      <th>1432</th>\n",
       "      <td>[the, most, common, (, and, in, many, cases, t...</td>\n",
       "      <td>pos</td>\n",
       "      <td>1311</td>\n",
       "      <td>the most common ( and in many cases the only )...</td>\n",
       "      <td>understands</td>\n",
       "    </tr>\n",
       "    <tr>\n",
       "      <th>1681</th>\n",
       "      <td>[capsule, :, a, rock, and, roll, fable, ,, ind...</td>\n",
       "      <td>pos</td>\n",
       "      <td>471</td>\n",
       "      <td>capsule : a rock and roll fable , indeed . lik...</td>\n",
       "      <td>understands</td>\n",
       "    </tr>\n",
       "    <tr>\n",
       "      <th>1780</th>\n",
       "      <td>[natural, born, killers, is, really, a, very, ...</td>\n",
       "      <td>pos</td>\n",
       "      <td>2287</td>\n",
       "      <td>natural born killers is really a very simple s...</td>\n",
       "      <td>understands</td>\n",
       "    </tr>\n",
       "  </tbody>\n",
       "</table>\n",
       "</div>"
      ],
      "text/plain": [
       "                                                  words category  nWords  \\\n",
       "110   [driving, miss, daisy, takes, its, sweet, time...      pos    1039   \n",
       "162   [sandra, bullock, in, high, heels, and, wieldi...      neg     933   \n",
       "294   [roberto, benigni, is, a, clown, in, the, trad...      pos     742   \n",
       "431   [garry, shandling, makes, his, long, overdue, ...      pos     727   \n",
       "520   [while, watching, loser, ,, it, occurred, to, ...      neg    1012   \n",
       "564   [the, uncompromising, nudity, bared, throughou...      pos     880   \n",
       "566   [all, through, its, production, and, into, the...      neg     888   \n",
       "735   [\", the, tailor, of, panama, \", is, a, differe...      pos     907   \n",
       "794   [the, long, and, illustrious, career, of, robi...      pos     586   \n",
       "1008  [bill, condon, ', s, \", gods, and, monsters, \"...      pos    1113   \n",
       "1015  [jake, kasdan, ,, son, of, one, of, the, best,...      pos     829   \n",
       "1089  [warning, :, this, review, contains, some, spo...      pos    1680   \n",
       "1270  [you, may, not, have, heard, of, lucas, ,, or,...      pos    1023   \n",
       "1389  [the, dramatic, comedy, cousins, has, all, the...      pos     448   \n",
       "1432  [the, most, common, (, and, in, many, cases, t...      pos    1311   \n",
       "1681  [capsule, :, a, rock, and, roll, fable, ,, ind...      pos     471   \n",
       "1780  [natural, born, killers, is, really, a, very, ...      pos    2287   \n",
       "\n",
       "                                                 review   searchWord  \n",
       "110   driving miss daisy takes its sweet time to tel...  understands  \n",
       "162   sandra bullock in high heels and wielding a ch...  understands  \n",
       "294   roberto benigni is a clown in the tradition of...  understands  \n",
       "431   garry shandling makes his long overdue starrin...  understands  \n",
       "520   while watching loser , it occurred to me that ...  understands  \n",
       "564   the uncompromising nudity bared throughout pet...  understands  \n",
       "566   all through its production and into the early ...  understands  \n",
       "735   \" the tailor of panama \" is a different kind o...  understands  \n",
       "794   the long and illustrious career of robin willi...  understands  \n",
       "1008  bill condon ' s \" gods and monsters \" is a fas...  understands  \n",
       "1015  jake kasdan , son of one of the best screenwri...  understands  \n",
       "1089  warning : this review contains some spoilers f...  understands  \n",
       "1270  you may not have heard of lucas , or if you ha...  understands  \n",
       "1389  the dramatic comedy cousins has all the necess...  understands  \n",
       "1432  the most common ( and in many cases the only )...  understands  \n",
       "1681  capsule : a rock and roll fable , indeed . lik...  understands  \n",
       "1780  natural born killers is really a very simple s...  understands  "
      ]
     },
     "execution_count": 189,
     "metadata": {},
     "output_type": "execute_result"
    }
   ],
   "source": [
    "searchResultReviews"
   ]
  },
  {
   "cell_type": "code",
   "execution_count": 190,
   "metadata": {},
   "outputs": [
    {
     "data": {
      "text/plain": [
       "category\n",
       "neg     3\n",
       "pos    14\n",
       "Name: words, dtype: int64"
      ]
     },
     "execution_count": 190,
     "metadata": {},
     "output_type": "execute_result"
    }
   ],
   "source": [
    "searchResultReviews.groupby(by=['category'])['words'].count()"
   ]
  },
  {
   "cell_type": "markdown",
   "metadata": {},
   "source": [
    "The word, 'understands', has a positive connotation. In the negative reviews, the word is used in a way to indicate that a character behaves in an implausible way."
   ]
  },
  {
   "cell_type": "markdown",
   "metadata": {},
   "source": [
    "#### contains(admired)"
   ]
  },
  {
   "cell_type": "code",
   "execution_count": 191,
   "metadata": {},
   "outputs": [
    {
     "data": {
      "text/plain": [
       "17"
      ]
     },
     "execution_count": 191,
     "metadata": {},
     "output_type": "execute_result"
    }
   ],
   "source": [
    "searchWord='admired'\n",
    "searchResultReviews,nReviews=findReviews(searchWord,corpusDf)\n",
    "searchResultReviews=searchResultReviews.copy()\n",
    "searchResultReviews['searchWord']=searchWord\n",
    "searchResultReviews.to_csv(outputFileHandle,sep='|',header=False)\n",
    "nReviews"
   ]
  },
  {
   "cell_type": "code",
   "execution_count": 192,
   "metadata": {},
   "outputs": [
    {
     "data": {
      "text/html": [
       "<div>\n",
       "<style>\n",
       "    .dataframe thead tr:only-child th {\n",
       "        text-align: right;\n",
       "    }\n",
       "\n",
       "    .dataframe thead th {\n",
       "        text-align: left;\n",
       "    }\n",
       "\n",
       "    .dataframe tbody tr th {\n",
       "        vertical-align: top;\n",
       "    }\n",
       "</style>\n",
       "<table border=\"1\" class=\"dataframe\">\n",
       "  <thead>\n",
       "    <tr style=\"text-align: right;\">\n",
       "      <th></th>\n",
       "      <th>words</th>\n",
       "      <th>category</th>\n",
       "      <th>nWords</th>\n",
       "      <th>review</th>\n",
       "      <th>searchWord</th>\n",
       "    </tr>\n",
       "  </thead>\n",
       "  <tbody>\n",
       "    <tr>\n",
       "      <th>8</th>\n",
       "      <td>[this, is, one, of, the, most, funny, and, ent...</td>\n",
       "      <td>pos</td>\n",
       "      <td>1008</td>\n",
       "      <td>this is one of the most funny and entertaining...</td>\n",
       "      <td>admired</td>\n",
       "    </tr>\n",
       "    <tr>\n",
       "      <th>44</th>\n",
       "      <td>[you, ', ve, seen, this, moment, before, ,, re...</td>\n",
       "      <td>pos</td>\n",
       "      <td>641</td>\n",
       "      <td>you ' ve seen this moment before , recently : ...</td>\n",
       "      <td>admired</td>\n",
       "    </tr>\n",
       "    <tr>\n",
       "      <th>300</th>\n",
       "      <td>[this, is, a, film, that, i, was, inclined, to...</td>\n",
       "      <td>neg</td>\n",
       "      <td>611</td>\n",
       "      <td>this is a film that i was inclined to like at ...</td>\n",
       "      <td>admired</td>\n",
       "    </tr>\n",
       "    <tr>\n",
       "      <th>450</th>\n",
       "      <td>[i, can, hear, the, question, already, ., what...</td>\n",
       "      <td>pos</td>\n",
       "      <td>903</td>\n",
       "      <td>i can hear the question already . what on eart...</td>\n",
       "      <td>admired</td>\n",
       "    </tr>\n",
       "    <tr>\n",
       "      <th>596</th>\n",
       "      <td>[my, opinion, on, a, film, can, be, easily, sw...</td>\n",
       "      <td>neg</td>\n",
       "      <td>1434</td>\n",
       "      <td>my opinion on a film can be easily swayed by t...</td>\n",
       "      <td>admired</td>\n",
       "    </tr>\n",
       "    <tr>\n",
       "      <th>624</th>\n",
       "      <td>[for, a, movie, about, disco, -, era, excess, ...</td>\n",
       "      <td>pos</td>\n",
       "      <td>1047</td>\n",
       "      <td>for a movie about disco - era excess , \" 54 \" ...</td>\n",
       "      <td>admired</td>\n",
       "    </tr>\n",
       "    <tr>\n",
       "      <th>642</th>\n",
       "      <td>[along, his, carreer, ,, mel, gibson, has, col...</td>\n",
       "      <td>pos</td>\n",
       "      <td>596</td>\n",
       "      <td>along his carreer , mel gibson has collected s...</td>\n",
       "      <td>admired</td>\n",
       "    </tr>\n",
       "    <tr>\n",
       "      <th>1100</th>\n",
       "      <td>[poster, boy, for, co, -, dependency, needs, p...</td>\n",
       "      <td>neg</td>\n",
       "      <td>1064</td>\n",
       "      <td>poster boy for co - dependency needs patching ...</td>\n",
       "      <td>admired</td>\n",
       "    </tr>\n",
       "    <tr>\n",
       "      <th>1102</th>\n",
       "      <td>[oh, god, how, many, john, grisham, lawyer, fi...</td>\n",
       "      <td>pos</td>\n",
       "      <td>2064</td>\n",
       "      <td>oh god how many john grisham lawyer films we h...</td>\n",
       "      <td>admired</td>\n",
       "    </tr>\n",
       "    <tr>\n",
       "      <th>1258</th>\n",
       "      <td>[if, you, ', re, the, type, of, person, who, g...</td>\n",
       "      <td>pos</td>\n",
       "      <td>523</td>\n",
       "      <td>if you ' re the type of person who goes on the...</td>\n",
       "      <td>admired</td>\n",
       "    </tr>\n",
       "    <tr>\n",
       "      <th>1329</th>\n",
       "      <td>[now, that, \", boogie, nights, \", has, made, d...</td>\n",
       "      <td>pos</td>\n",
       "      <td>696</td>\n",
       "      <td>now that \" boogie nights \" has made disco resp...</td>\n",
       "      <td>admired</td>\n",
       "    </tr>\n",
       "    <tr>\n",
       "      <th>1353</th>\n",
       "      <td>[in, 1912, ,, a, ship, set, sail, on, her, mai...</td>\n",
       "      <td>pos</td>\n",
       "      <td>1006</td>\n",
       "      <td>in 1912 , a ship set sail on her maiden voyage...</td>\n",
       "      <td>admired</td>\n",
       "    </tr>\n",
       "    <tr>\n",
       "      <th>1393</th>\n",
       "      <td>[after, a, successful, run, in, australia, las...</td>\n",
       "      <td>pos</td>\n",
       "      <td>500</td>\n",
       "      <td>after a successful run in australia last year ...</td>\n",
       "      <td>admired</td>\n",
       "    </tr>\n",
       "    <tr>\n",
       "      <th>1508</th>\n",
       "      <td>[\", a, breed, apart, \", casts, rutger, hauer, ...</td>\n",
       "      <td>pos</td>\n",
       "      <td>485</td>\n",
       "      <td>\" a breed apart \" casts rutger hauer as a craz...</td>\n",
       "      <td>admired</td>\n",
       "    </tr>\n",
       "    <tr>\n",
       "      <th>1621</th>\n",
       "      <td>[it, ', s, been, a, good, long, while, since, ...</td>\n",
       "      <td>pos</td>\n",
       "      <td>1947</td>\n",
       "      <td>it ' s been a good long while since we had a g...</td>\n",
       "      <td>admired</td>\n",
       "    </tr>\n",
       "    <tr>\n",
       "      <th>1625</th>\n",
       "      <td>[\", rebel, without, a, cause, \", is, such, an,...</td>\n",
       "      <td>pos</td>\n",
       "      <td>536</td>\n",
       "      <td>\" rebel without a cause \" is such an important...</td>\n",
       "      <td>admired</td>\n",
       "    </tr>\n",
       "    <tr>\n",
       "      <th>1673</th>\n",
       "      <td>[in, december, of, 1996, ,, a, little, movie, ...</td>\n",
       "      <td>pos</td>\n",
       "      <td>1572</td>\n",
       "      <td>in december of 1996 , a little movie called \" ...</td>\n",
       "      <td>admired</td>\n",
       "    </tr>\n",
       "  </tbody>\n",
       "</table>\n",
       "</div>"
      ],
      "text/plain": [
       "                                                  words category  nWords  \\\n",
       "8     [this, is, one, of, the, most, funny, and, ent...      pos    1008   \n",
       "44    [you, ', ve, seen, this, moment, before, ,, re...      pos     641   \n",
       "300   [this, is, a, film, that, i, was, inclined, to...      neg     611   \n",
       "450   [i, can, hear, the, question, already, ., what...      pos     903   \n",
       "596   [my, opinion, on, a, film, can, be, easily, sw...      neg    1434   \n",
       "624   [for, a, movie, about, disco, -, era, excess, ...      pos    1047   \n",
       "642   [along, his, carreer, ,, mel, gibson, has, col...      pos     596   \n",
       "1100  [poster, boy, for, co, -, dependency, needs, p...      neg    1064   \n",
       "1102  [oh, god, how, many, john, grisham, lawyer, fi...      pos    2064   \n",
       "1258  [if, you, ', re, the, type, of, person, who, g...      pos     523   \n",
       "1329  [now, that, \", boogie, nights, \", has, made, d...      pos     696   \n",
       "1353  [in, 1912, ,, a, ship, set, sail, on, her, mai...      pos    1006   \n",
       "1393  [after, a, successful, run, in, australia, las...      pos     500   \n",
       "1508  [\", a, breed, apart, \", casts, rutger, hauer, ...      pos     485   \n",
       "1621  [it, ', s, been, a, good, long, while, since, ...      pos    1947   \n",
       "1625  [\", rebel, without, a, cause, \", is, such, an,...      pos     536   \n",
       "1673  [in, december, of, 1996, ,, a, little, movie, ...      pos    1572   \n",
       "\n",
       "                                                 review searchWord  \n",
       "8     this is one of the most funny and entertaining...    admired  \n",
       "44    you ' ve seen this moment before , recently : ...    admired  \n",
       "300   this is a film that i was inclined to like at ...    admired  \n",
       "450   i can hear the question already . what on eart...    admired  \n",
       "596   my opinion on a film can be easily swayed by t...    admired  \n",
       "624   for a movie about disco - era excess , \" 54 \" ...    admired  \n",
       "642   along his carreer , mel gibson has collected s...    admired  \n",
       "1100  poster boy for co - dependency needs patching ...    admired  \n",
       "1102  oh god how many john grisham lawyer films we h...    admired  \n",
       "1258  if you ' re the type of person who goes on the...    admired  \n",
       "1329  now that \" boogie nights \" has made disco resp...    admired  \n",
       "1353  in 1912 , a ship set sail on her maiden voyage...    admired  \n",
       "1393  after a successful run in australia last year ...    admired  \n",
       "1508  \" a breed apart \" casts rutger hauer as a craz...    admired  \n",
       "1621  it ' s been a good long while since we had a g...    admired  \n",
       "1625  \" rebel without a cause \" is such an important...    admired  \n",
       "1673  in december of 1996 , a little movie called \" ...    admired  "
      ]
     },
     "execution_count": 192,
     "metadata": {},
     "output_type": "execute_result"
    }
   ],
   "source": [
    "searchResultReviews"
   ]
  },
  {
   "cell_type": "code",
   "execution_count": 193,
   "metadata": {},
   "outputs": [
    {
     "data": {
      "text/plain": [
       "category\n",
       "neg     3\n",
       "pos    14\n",
       "Name: words, dtype: int64"
      ]
     },
     "execution_count": 193,
     "metadata": {},
     "output_type": "execute_result"
    }
   ],
   "source": [
    "searchResultReviews.groupby(by=['category'])['words'].count()"
   ]
  },
  {
   "cell_type": "markdown",
   "metadata": {},
   "source": [
    "The word, 'admired', is used in 17 reviews, 14 of which are positive. It has a positive connotation in everyday usage."
   ]
  },
  {
   "cell_type": "markdown",
   "metadata": {},
   "source": [
    "#### contains(testament)"
   ]
  },
  {
   "cell_type": "code",
   "execution_count": 194,
   "metadata": {},
   "outputs": [
    {
     "data": {
      "text/plain": [
       "21"
      ]
     },
     "execution_count": 194,
     "metadata": {},
     "output_type": "execute_result"
    }
   ],
   "source": [
    "searchWord='testament'\n",
    "searchResultReviews,nReviews=findReviews(searchWord,corpusDf)\n",
    "searchResultReviews=searchResultReviews.copy()\n",
    "searchResultReviews['searchWord']=searchWord\n",
    "searchResultReviews.to_csv(outputFileHandle,sep='|',header=False)\n",
    "nReviews"
   ]
  },
  {
   "cell_type": "code",
   "execution_count": 195,
   "metadata": {},
   "outputs": [
    {
     "data": {
      "text/html": [
       "<div>\n",
       "<style>\n",
       "    .dataframe thead tr:only-child th {\n",
       "        text-align: right;\n",
       "    }\n",
       "\n",
       "    .dataframe thead th {\n",
       "        text-align: left;\n",
       "    }\n",
       "\n",
       "    .dataframe tbody tr th {\n",
       "        vertical-align: top;\n",
       "    }\n",
       "</style>\n",
       "<table border=\"1\" class=\"dataframe\">\n",
       "  <thead>\n",
       "    <tr style=\"text-align: right;\">\n",
       "      <th></th>\n",
       "      <th>words</th>\n",
       "      <th>category</th>\n",
       "      <th>nWords</th>\n",
       "      <th>review</th>\n",
       "      <th>searchWord</th>\n",
       "    </tr>\n",
       "  </thead>\n",
       "  <tbody>\n",
       "    <tr>\n",
       "      <th>106</th>\n",
       "      <td>[nosferatu, the, vampyre, (, germany, 1979, ),...</td>\n",
       "      <td>pos</td>\n",
       "      <td>845</td>\n",
       "      <td>nosferatu the vampyre ( germany 1979 ) a film ...</td>\n",
       "      <td>testament</td>\n",
       "    </tr>\n",
       "    <tr>\n",
       "      <th>205</th>\n",
       "      <td>[\", you, leave, little, notes, on, my, pillow,...</td>\n",
       "      <td>pos</td>\n",
       "      <td>469</td>\n",
       "      <td>\" you leave little notes on my pillow . i told...</td>\n",
       "      <td>testament</td>\n",
       "    </tr>\n",
       "    <tr>\n",
       "      <th>245</th>\n",
       "      <td>[\", tina, !, !, !, fetch, me, the, axe, !, !, ...</td>\n",
       "      <td>neg</td>\n",
       "      <td>838</td>\n",
       "      <td>\" tina ! ! ! fetch me the axe ! ! ! \" a favour...</td>\n",
       "      <td>testament</td>\n",
       "    </tr>\n",
       "    <tr>\n",
       "      <th>421</th>\n",
       "      <td>[martin, scorsese, ', s, triumphant, adaptatio...</td>\n",
       "      <td>pos</td>\n",
       "      <td>733</td>\n",
       "      <td>martin scorsese ' s triumphant adaptation of e...</td>\n",
       "      <td>testament</td>\n",
       "    </tr>\n",
       "    <tr>\n",
       "      <th>538</th>\n",
       "      <td>[late, in, down, to, you, ,, the, lead, female...</td>\n",
       "      <td>neg</td>\n",
       "      <td>780</td>\n",
       "      <td>late in down to you , the lead female characte...</td>\n",
       "      <td>testament</td>\n",
       "    </tr>\n",
       "    <tr>\n",
       "      <th>559</th>\n",
       "      <td>[true, faith, and, its, expression, through, o...</td>\n",
       "      <td>pos</td>\n",
       "      <td>1241</td>\n",
       "      <td>true faith and its expression through organize...</td>\n",
       "      <td>testament</td>\n",
       "    </tr>\n",
       "    <tr>\n",
       "      <th>762</th>\n",
       "      <td>[i, suppose, an, argument, could, be, made, th...</td>\n",
       "      <td>pos</td>\n",
       "      <td>1519</td>\n",
       "      <td>i suppose an argument could be made that toy s...</td>\n",
       "      <td>testament</td>\n",
       "    </tr>\n",
       "    <tr>\n",
       "      <th>784</th>\n",
       "      <td>[in, some, regards, ,, making, a, movie, is, l...</td>\n",
       "      <td>pos</td>\n",
       "      <td>649</td>\n",
       "      <td>in some regards , making a movie is like tryin...</td>\n",
       "      <td>testament</td>\n",
       "    </tr>\n",
       "    <tr>\n",
       "      <th>836</th>\n",
       "      <td>[it, is, often, said, by, his, fans, that, hal...</td>\n",
       "      <td>pos</td>\n",
       "      <td>566</td>\n",
       "      <td>it is often said by his fans that hal hartley ...</td>\n",
       "      <td>testament</td>\n",
       "    </tr>\n",
       "    <tr>\n",
       "      <th>902</th>\n",
       "      <td>[toward, the, bottom, of, the, ', 80s, action,...</td>\n",
       "      <td>neg</td>\n",
       "      <td>573</td>\n",
       "      <td>toward the bottom of the ' 80s action movie ba...</td>\n",
       "      <td>testament</td>\n",
       "    </tr>\n",
       "    <tr>\n",
       "      <th>973</th>\n",
       "      <td>[\", say, ,, any, of, you, know, how, to, madis...</td>\n",
       "      <td>pos</td>\n",
       "      <td>2712</td>\n",
       "      <td>\" say , any of you know how to madison ? \" ---...</td>\n",
       "      <td>testament</td>\n",
       "    </tr>\n",
       "    <tr>\n",
       "      <th>981</th>\n",
       "      <td>[directed, by, :, pixote, hunt, ,, hendel, but...</td>\n",
       "      <td>pos</td>\n",
       "      <td>811</td>\n",
       "      <td>directed by : pixote hunt , hendel butoy , eri...</td>\n",
       "      <td>testament</td>\n",
       "    </tr>\n",
       "    <tr>\n",
       "      <th>1008</th>\n",
       "      <td>[bill, condon, ', s, \", gods, and, monsters, \"...</td>\n",
       "      <td>pos</td>\n",
       "      <td>1113</td>\n",
       "      <td>bill condon ' s \" gods and monsters \" is a fas...</td>\n",
       "      <td>testament</td>\n",
       "    </tr>\n",
       "    <tr>\n",
       "      <th>1036</th>\n",
       "      <td>[written, by, alex, cox, ,, tod, davies, ,, te...</td>\n",
       "      <td>neg</td>\n",
       "      <td>1080</td>\n",
       "      <td>written by alex cox , tod davies , terry gilli...</td>\n",
       "      <td>testament</td>\n",
       "    </tr>\n",
       "    <tr>\n",
       "      <th>1123</th>\n",
       "      <td>[the, opening, crawl, tells, us, that, the, ga...</td>\n",
       "      <td>pos</td>\n",
       "      <td>1604</td>\n",
       "      <td>the opening crawl tells us that the galaxy is ...</td>\n",
       "      <td>testament</td>\n",
       "    </tr>\n",
       "    <tr>\n",
       "      <th>1351</th>\n",
       "      <td>[casting, \", doogie, howser, \", star, neil, pa...</td>\n",
       "      <td>pos</td>\n",
       "      <td>990</td>\n",
       "      <td>casting \" doogie howser \" star neil patrick ha...</td>\n",
       "      <td>testament</td>\n",
       "    </tr>\n",
       "    <tr>\n",
       "      <th>1410</th>\n",
       "      <td>[until, i, saw, the, night, of, the, hunter, ,...</td>\n",
       "      <td>pos</td>\n",
       "      <td>864</td>\n",
       "      <td>until i saw the night of the hunter , it had b...</td>\n",
       "      <td>testament</td>\n",
       "    </tr>\n",
       "    <tr>\n",
       "      <th>1634</th>\n",
       "      <td>[if, there, ', s, one, thing, in, common, abou...</td>\n",
       "      <td>pos</td>\n",
       "      <td>635</td>\n",
       "      <td>if there ' s one thing in common about all of ...</td>\n",
       "      <td>testament</td>\n",
       "    </tr>\n",
       "    <tr>\n",
       "      <th>1724</th>\n",
       "      <td>[perhaps, the, most, dramatic, changes, in, th...</td>\n",
       "      <td>pos</td>\n",
       "      <td>708</td>\n",
       "      <td>perhaps the most dramatic changes in the motio...</td>\n",
       "      <td>testament</td>\n",
       "    </tr>\n",
       "    <tr>\n",
       "      <th>1756</th>\n",
       "      <td>[those, print, and, television, ads, trumpetin...</td>\n",
       "      <td>pos</td>\n",
       "      <td>769</td>\n",
       "      <td>those print and television ads trumpeting that...</td>\n",
       "      <td>testament</td>\n",
       "    </tr>\n",
       "    <tr>\n",
       "      <th>1795</th>\n",
       "      <td>[review, :, ghost, dog, :, the, way, of, the, ...</td>\n",
       "      <td>pos</td>\n",
       "      <td>1441</td>\n",
       "      <td>review : ghost dog : the way of the samurai ( ...</td>\n",
       "      <td>testament</td>\n",
       "    </tr>\n",
       "  </tbody>\n",
       "</table>\n",
       "</div>"
      ],
      "text/plain": [
       "                                                  words category  nWords  \\\n",
       "106   [nosferatu, the, vampyre, (, germany, 1979, ),...      pos     845   \n",
       "205   [\", you, leave, little, notes, on, my, pillow,...      pos     469   \n",
       "245   [\", tina, !, !, !, fetch, me, the, axe, !, !, ...      neg     838   \n",
       "421   [martin, scorsese, ', s, triumphant, adaptatio...      pos     733   \n",
       "538   [late, in, down, to, you, ,, the, lead, female...      neg     780   \n",
       "559   [true, faith, and, its, expression, through, o...      pos    1241   \n",
       "762   [i, suppose, an, argument, could, be, made, th...      pos    1519   \n",
       "784   [in, some, regards, ,, making, a, movie, is, l...      pos     649   \n",
       "836   [it, is, often, said, by, his, fans, that, hal...      pos     566   \n",
       "902   [toward, the, bottom, of, the, ', 80s, action,...      neg     573   \n",
       "973   [\", say, ,, any, of, you, know, how, to, madis...      pos    2712   \n",
       "981   [directed, by, :, pixote, hunt, ,, hendel, but...      pos     811   \n",
       "1008  [bill, condon, ', s, \", gods, and, monsters, \"...      pos    1113   \n",
       "1036  [written, by, alex, cox, ,, tod, davies, ,, te...      neg    1080   \n",
       "1123  [the, opening, crawl, tells, us, that, the, ga...      pos    1604   \n",
       "1351  [casting, \", doogie, howser, \", star, neil, pa...      pos     990   \n",
       "1410  [until, i, saw, the, night, of, the, hunter, ,...      pos     864   \n",
       "1634  [if, there, ', s, one, thing, in, common, abou...      pos     635   \n",
       "1724  [perhaps, the, most, dramatic, changes, in, th...      pos     708   \n",
       "1756  [those, print, and, television, ads, trumpetin...      pos     769   \n",
       "1795  [review, :, ghost, dog, :, the, way, of, the, ...      pos    1441   \n",
       "\n",
       "                                                 review searchWord  \n",
       "106   nosferatu the vampyre ( germany 1979 ) a film ...  testament  \n",
       "205   \" you leave little notes on my pillow . i told...  testament  \n",
       "245   \" tina ! ! ! fetch me the axe ! ! ! \" a favour...  testament  \n",
       "421   martin scorsese ' s triumphant adaptation of e...  testament  \n",
       "538   late in down to you , the lead female characte...  testament  \n",
       "559   true faith and its expression through organize...  testament  \n",
       "762   i suppose an argument could be made that toy s...  testament  \n",
       "784   in some regards , making a movie is like tryin...  testament  \n",
       "836   it is often said by his fans that hal hartley ...  testament  \n",
       "902   toward the bottom of the ' 80s action movie ba...  testament  \n",
       "973   \" say , any of you know how to madison ? \" ---...  testament  \n",
       "981   directed by : pixote hunt , hendel butoy , eri...  testament  \n",
       "1008  bill condon ' s \" gods and monsters \" is a fas...  testament  \n",
       "1036  written by alex cox , tod davies , terry gilli...  testament  \n",
       "1123  the opening crawl tells us that the galaxy is ...  testament  \n",
       "1351  casting \" doogie howser \" star neil patrick ha...  testament  \n",
       "1410  until i saw the night of the hunter , it had b...  testament  \n",
       "1634  if there ' s one thing in common about all of ...  testament  \n",
       "1724  perhaps the most dramatic changes in the motio...  testament  \n",
       "1756  those print and television ads trumpeting that...  testament  \n",
       "1795  review : ghost dog : the way of the samurai ( ...  testament  "
      ]
     },
     "execution_count": 195,
     "metadata": {},
     "output_type": "execute_result"
    }
   ],
   "source": [
    "searchResultReviews"
   ]
  },
  {
   "cell_type": "code",
   "execution_count": 196,
   "metadata": {},
   "outputs": [
    {
     "data": {
      "text/plain": [
       "category\n",
       "neg     4\n",
       "pos    17\n",
       "Name: words, dtype: int64"
      ]
     },
     "execution_count": 196,
     "metadata": {},
     "output_type": "execute_result"
    }
   ],
   "source": [
    "searchResultReviews.groupby(by=['category'])['words'].count()"
   ]
  },
  {
   "cell_type": "markdown",
   "metadata": {},
   "source": [
    "'Testament' is used in in 21 reviews, 17 of which are positive. Given that this word has a rather neutral connotation, it is surprising that this word is found so often in positive reviews."
   ]
  },
  {
   "cell_type": "markdown",
   "metadata": {},
   "source": [
    "#### contains(cronenberg)"
   ]
  },
  {
   "cell_type": "code",
   "execution_count": 197,
   "metadata": {},
   "outputs": [
    {
     "data": {
      "text/plain": [
       "11"
      ]
     },
     "execution_count": 197,
     "metadata": {},
     "output_type": "execute_result"
    }
   ],
   "source": [
    "searchWord='cronenberg'\n",
    "searchResultReviews,nReviews=findReviews(searchWord,corpusDf)\n",
    "searchResultReviews=searchResultReviews.copy()\n",
    "searchResultReviews['searchWord']=searchWord\n",
    "searchResultReviews.to_csv(outputFileHandle,sep='|',header=False)\n",
    "nReviews"
   ]
  },
  {
   "cell_type": "code",
   "execution_count": 198,
   "metadata": {},
   "outputs": [
    {
     "data": {
      "text/html": [
       "<div>\n",
       "<style>\n",
       "    .dataframe thead tr:only-child th {\n",
       "        text-align: right;\n",
       "    }\n",
       "\n",
       "    .dataframe thead th {\n",
       "        text-align: left;\n",
       "    }\n",
       "\n",
       "    .dataframe tbody tr th {\n",
       "        vertical-align: top;\n",
       "    }\n",
       "</style>\n",
       "<table border=\"1\" class=\"dataframe\">\n",
       "  <thead>\n",
       "    <tr style=\"text-align: right;\">\n",
       "      <th></th>\n",
       "      <th>words</th>\n",
       "      <th>category</th>\n",
       "      <th>nWords</th>\n",
       "      <th>review</th>\n",
       "      <th>searchWord</th>\n",
       "    </tr>\n",
       "  </thead>\n",
       "  <tbody>\n",
       "    <tr>\n",
       "      <th>118</th>\n",
       "      <td>[david, cronenberg, presents, us, with, anothe...</td>\n",
       "      <td>pos</td>\n",
       "      <td>983</td>\n",
       "      <td>david cronenberg presents us with another stra...</td>\n",
       "      <td>cronenberg</td>\n",
       "    </tr>\n",
       "    <tr>\n",
       "      <th>173</th>\n",
       "      <td>[\", last, night, \", could, have, an, \", aka, \"...</td>\n",
       "      <td>pos</td>\n",
       "      <td>807</td>\n",
       "      <td>\" last night \" could have an \" aka \" tagged on...</td>\n",
       "      <td>cronenberg</td>\n",
       "    </tr>\n",
       "    <tr>\n",
       "      <th>184</th>\n",
       "      <td>[part, one, of, \", the, strangest, movies, eve...</td>\n",
       "      <td>pos</td>\n",
       "      <td>751</td>\n",
       "      <td>part one of \" the strangest movies ever made \"...</td>\n",
       "      <td>cronenberg</td>\n",
       "    </tr>\n",
       "    <tr>\n",
       "      <th>509</th>\n",
       "      <td>[i, ', m, not, really, sure, what, to, think, ...</td>\n",
       "      <td>pos</td>\n",
       "      <td>1520</td>\n",
       "      <td>i ' m not really sure what to think about \" cr...</td>\n",
       "      <td>cronenberg</td>\n",
       "    </tr>\n",
       "    <tr>\n",
       "      <th>577</th>\n",
       "      <td>[capsule, :, the, world, will, come, to, an, e...</td>\n",
       "      <td>pos</td>\n",
       "      <td>434</td>\n",
       "      <td>capsule : the world will come to an end at mid...</td>\n",
       "      <td>cronenberg</td>\n",
       "    </tr>\n",
       "    <tr>\n",
       "      <th>778</th>\n",
       "      <td>[not, since, oliver, stone, ', s, natural, bor...</td>\n",
       "      <td>pos</td>\n",
       "      <td>811</td>\n",
       "      <td>not since oliver stone ' s natural born killer...</td>\n",
       "      <td>cronenberg</td>\n",
       "    </tr>\n",
       "    <tr>\n",
       "      <th>786</th>\n",
       "      <td>[well, i, ', ll, be, damned, ., ., ., the, can...</td>\n",
       "      <td>pos</td>\n",
       "      <td>517</td>\n",
       "      <td>well i ' ll be damned . . . the canadians can ...</td>\n",
       "      <td>cronenberg</td>\n",
       "    </tr>\n",
       "    <tr>\n",
       "      <th>1076</th>\n",
       "      <td>[note, :, some, may, consider, portions, of, t...</td>\n",
       "      <td>pos</td>\n",
       "      <td>1178</td>\n",
       "      <td>note : some may consider portions of the follo...</td>\n",
       "      <td>cronenberg</td>\n",
       "    </tr>\n",
       "    <tr>\n",
       "      <th>1213</th>\n",
       "      <td>[i, ', m, not, quite, sure, what, to, say, abo...</td>\n",
       "      <td>pos</td>\n",
       "      <td>1241</td>\n",
       "      <td>i ' m not quite sure what to say about mars at...</td>\n",
       "      <td>cronenberg</td>\n",
       "    </tr>\n",
       "    <tr>\n",
       "      <th>1463</th>\n",
       "      <td>[\", we, are, grateful, that, we, have, the, so...</td>\n",
       "      <td>neg</td>\n",
       "      <td>944</td>\n",
       "      <td>\" we are grateful that we have the songs of gr...</td>\n",
       "      <td>cronenberg</td>\n",
       "    </tr>\n",
       "    <tr>\n",
       "      <th>1734</th>\n",
       "      <td>[running, time, approximately, 1hr, 40mins, re...</td>\n",
       "      <td>neg</td>\n",
       "      <td>535</td>\n",
       "      <td>running time approximately 1hr 40mins reviewed...</td>\n",
       "      <td>cronenberg</td>\n",
       "    </tr>\n",
       "  </tbody>\n",
       "</table>\n",
       "</div>"
      ],
      "text/plain": [
       "                                                  words category  nWords  \\\n",
       "118   [david, cronenberg, presents, us, with, anothe...      pos     983   \n",
       "173   [\", last, night, \", could, have, an, \", aka, \"...      pos     807   \n",
       "184   [part, one, of, \", the, strangest, movies, eve...      pos     751   \n",
       "509   [i, ', m, not, really, sure, what, to, think, ...      pos    1520   \n",
       "577   [capsule, :, the, world, will, come, to, an, e...      pos     434   \n",
       "778   [not, since, oliver, stone, ', s, natural, bor...      pos     811   \n",
       "786   [well, i, ', ll, be, damned, ., ., ., the, can...      pos     517   \n",
       "1076  [note, :, some, may, consider, portions, of, t...      pos    1178   \n",
       "1213  [i, ', m, not, quite, sure, what, to, say, abo...      pos    1241   \n",
       "1463  [\", we, are, grateful, that, we, have, the, so...      neg     944   \n",
       "1734  [running, time, approximately, 1hr, 40mins, re...      neg     535   \n",
       "\n",
       "                                                 review  searchWord  \n",
       "118   david cronenberg presents us with another stra...  cronenberg  \n",
       "173   \" last night \" could have an \" aka \" tagged on...  cronenberg  \n",
       "184   part one of \" the strangest movies ever made \"...  cronenberg  \n",
       "509   i ' m not really sure what to think about \" cr...  cronenberg  \n",
       "577   capsule : the world will come to an end at mid...  cronenberg  \n",
       "778   not since oliver stone ' s natural born killer...  cronenberg  \n",
       "786   well i ' ll be damned . . . the canadians can ...  cronenberg  \n",
       "1076  note : some may consider portions of the follo...  cronenberg  \n",
       "1213  i ' m not quite sure what to say about mars at...  cronenberg  \n",
       "1463  \" we are grateful that we have the songs of gr...  cronenberg  \n",
       "1734  running time approximately 1hr 40mins reviewed...  cronenberg  "
      ]
     },
     "execution_count": 198,
     "metadata": {},
     "output_type": "execute_result"
    }
   ],
   "source": [
    "searchResultReviews"
   ]
  },
  {
   "cell_type": "code",
   "execution_count": 199,
   "metadata": {},
   "outputs": [
    {
     "data": {
      "text/plain": [
       "category\n",
       "neg    2\n",
       "pos    9\n",
       "Name: words, dtype: int64"
      ]
     },
     "execution_count": 199,
     "metadata": {},
     "output_type": "execute_result"
    }
   ],
   "source": [
    "searchResultReviews.groupby(by=['category'])['words'].count()"
   ]
  },
  {
   "cell_type": "markdown",
   "metadata": {},
   "source": [
    "David 'Cronenberg' is a critically-acclaimed – albeit controversial – Canadian director, screenwriter, and actor famous for gory science fiction and horror films. Of the 11 reviews in the training set, 9 are positive."
   ]
  },
  {
   "cell_type": "markdown",
   "metadata": {},
   "source": [
    "#### contains(sant)"
   ]
  },
  {
   "cell_type": "code",
   "execution_count": 200,
   "metadata": {},
   "outputs": [
    {
     "data": {
      "text/plain": [
       "11"
      ]
     },
     "execution_count": 200,
     "metadata": {},
     "output_type": "execute_result"
    }
   ],
   "source": [
    "searchWord='sant'\n",
    "searchResultReviews,nReviews=findReviews(searchWord,corpusDf)\n",
    "searchResultReviews=searchResultReviews.copy()\n",
    "searchResultReviews['searchWord']=searchWord\n",
    "searchResultReviews.to_csv(outputFileHandle,sep='|',header=False)\n",
    "nReviews"
   ]
  },
  {
   "cell_type": "code",
   "execution_count": 201,
   "metadata": {},
   "outputs": [
    {
     "data": {
      "text/html": [
       "<div>\n",
       "<style>\n",
       "    .dataframe thead tr:only-child th {\n",
       "        text-align: right;\n",
       "    }\n",
       "\n",
       "    .dataframe thead th {\n",
       "        text-align: left;\n",
       "    }\n",
       "\n",
       "    .dataframe tbody tr th {\n",
       "        vertical-align: top;\n",
       "    }\n",
       "</style>\n",
       "<table border=\"1\" class=\"dataframe\">\n",
       "  <thead>\n",
       "    <tr style=\"text-align: right;\">\n",
       "      <th></th>\n",
       "      <th>words</th>\n",
       "      <th>category</th>\n",
       "      <th>nWords</th>\n",
       "      <th>review</th>\n",
       "      <th>searchWord</th>\n",
       "    </tr>\n",
       "  </thead>\n",
       "  <tbody>\n",
       "    <tr>\n",
       "      <th>638</th>\n",
       "      <td>[i, have, little, against, remakes, and, updat...</td>\n",
       "      <td>neg</td>\n",
       "      <td>762</td>\n",
       "      <td>i have little against remakes and updates of o...</td>\n",
       "      <td>sant</td>\n",
       "    </tr>\n",
       "    <tr>\n",
       "      <th>653</th>\n",
       "      <td>[\", good, will, hunting, \", is, two, movies, i...</td>\n",
       "      <td>pos</td>\n",
       "      <td>354</td>\n",
       "      <td>\" good will hunting \" is two movies in one : a...</td>\n",
       "      <td>sant</td>\n",
       "    </tr>\n",
       "    <tr>\n",
       "      <th>746</th>\n",
       "      <td>[there, are, certain, people, in, the, world, ...</td>\n",
       "      <td>pos</td>\n",
       "      <td>1327</td>\n",
       "      <td>there are certain people in the world who have...</td>\n",
       "      <td>sant</td>\n",
       "    </tr>\n",
       "    <tr>\n",
       "      <th>801</th>\n",
       "      <td>[note, :, some, may, consider, portions, of, t...</td>\n",
       "      <td>pos</td>\n",
       "      <td>2879</td>\n",
       "      <td>note : some may consider portions of the follo...</td>\n",
       "      <td>sant</td>\n",
       "    </tr>\n",
       "    <tr>\n",
       "      <th>939</th>\n",
       "      <td>[look, !, the, new, version, of, \", psycho, \",...</td>\n",
       "      <td>neg</td>\n",
       "      <td>776</td>\n",
       "      <td>look ! the new version of \" psycho \" came out ...</td>\n",
       "      <td>sant</td>\n",
       "    </tr>\n",
       "    <tr>\n",
       "      <th>941</th>\n",
       "      <td>[every, year, ,, hollywood, crowns, a, new, \",...</td>\n",
       "      <td>pos</td>\n",
       "      <td>724</td>\n",
       "      <td>every year , hollywood crowns a new \" it boy \"...</td>\n",
       "      <td>sant</td>\n",
       "    </tr>\n",
       "    <tr>\n",
       "      <th>955</th>\n",
       "      <td>[in, essence, ,, good, will, hunting, is, an, ...</td>\n",
       "      <td>pos</td>\n",
       "      <td>1003</td>\n",
       "      <td>in essence , good will hunting is an ordinary ...</td>\n",
       "      <td>sant</td>\n",
       "    </tr>\n",
       "    <tr>\n",
       "      <th>1026</th>\n",
       "      <td>[i, must, admit, that, i, was, a, tad, skeptic...</td>\n",
       "      <td>pos</td>\n",
       "      <td>966</td>\n",
       "      <td>i must admit that i was a tad skeptical of \" g...</td>\n",
       "      <td>sant</td>\n",
       "    </tr>\n",
       "    <tr>\n",
       "      <th>1032</th>\n",
       "      <td>[in, brief, :, best, bleak, comedy, film, sinc...</td>\n",
       "      <td>pos</td>\n",
       "      <td>1042</td>\n",
       "      <td>in brief : best bleak comedy film since heathe...</td>\n",
       "      <td>sant</td>\n",
       "    </tr>\n",
       "    <tr>\n",
       "      <th>1481</th>\n",
       "      <td>[jay, and, silent, bob, strike, back, ,, kevin...</td>\n",
       "      <td>pos</td>\n",
       "      <td>820</td>\n",
       "      <td>jay and silent bob strike back , kevin smith '...</td>\n",
       "      <td>sant</td>\n",
       "    </tr>\n",
       "    <tr>\n",
       "      <th>1872</th>\n",
       "      <td>[every, once, in, a, while, you, see, a, film,...</td>\n",
       "      <td>pos</td>\n",
       "      <td>870</td>\n",
       "      <td>every once in a while you see a film that is s...</td>\n",
       "      <td>sant</td>\n",
       "    </tr>\n",
       "  </tbody>\n",
       "</table>\n",
       "</div>"
      ],
      "text/plain": [
       "                                                  words category  nWords  \\\n",
       "638   [i, have, little, against, remakes, and, updat...      neg     762   \n",
       "653   [\", good, will, hunting, \", is, two, movies, i...      pos     354   \n",
       "746   [there, are, certain, people, in, the, world, ...      pos    1327   \n",
       "801   [note, :, some, may, consider, portions, of, t...      pos    2879   \n",
       "939   [look, !, the, new, version, of, \", psycho, \",...      neg     776   \n",
       "941   [every, year, ,, hollywood, crowns, a, new, \",...      pos     724   \n",
       "955   [in, essence, ,, good, will, hunting, is, an, ...      pos    1003   \n",
       "1026  [i, must, admit, that, i, was, a, tad, skeptic...      pos     966   \n",
       "1032  [in, brief, :, best, bleak, comedy, film, sinc...      pos    1042   \n",
       "1481  [jay, and, silent, bob, strike, back, ,, kevin...      pos     820   \n",
       "1872  [every, once, in, a, while, you, see, a, film,...      pos     870   \n",
       "\n",
       "                                                 review searchWord  \n",
       "638   i have little against remakes and updates of o...       sant  \n",
       "653   \" good will hunting \" is two movies in one : a...       sant  \n",
       "746   there are certain people in the world who have...       sant  \n",
       "801   note : some may consider portions of the follo...       sant  \n",
       "939   look ! the new version of \" psycho \" came out ...       sant  \n",
       "941   every year , hollywood crowns a new \" it boy \"...       sant  \n",
       "955   in essence , good will hunting is an ordinary ...       sant  \n",
       "1026  i must admit that i was a tad skeptical of \" g...       sant  \n",
       "1032  in brief : best bleak comedy film since heathe...       sant  \n",
       "1481  jay and silent bob strike back , kevin smith '...       sant  \n",
       "1872  every once in a while you see a film that is s...       sant  "
      ]
     },
     "execution_count": 201,
     "metadata": {},
     "output_type": "execute_result"
    }
   ],
   "source": [
    "searchResultReviews"
   ]
  },
  {
   "cell_type": "code",
   "execution_count": 202,
   "metadata": {},
   "outputs": [
    {
     "data": {
      "text/plain": [
       "category\n",
       "neg    2\n",
       "pos    9\n",
       "Name: words, dtype: int64"
      ]
     },
     "execution_count": 202,
     "metadata": {},
     "output_type": "execute_result"
    }
   ],
   "source": [
    "searchResultReviews.groupby(by=['category'])['words'].count()"
   ]
  },
  {
   "cell_type": "markdown",
   "metadata": {},
   "source": [
    "Gus Van 'Sant' is an award-winning American film director, screenwriter, painter, photographer, musician and author, perhaps best known for his film ‘Good Will Hunting’. He has earned acclaim as both a mainstream and an independent filmmaker. Of the 11 reviews in the training set, 9 are positive."
   ]
  },
  {
   "cell_type": "markdown",
   "metadata": {},
   "source": [
    "Plot the likelihood ratios by negative feature name:"
   ]
  },
  {
   "cell_type": "code",
   "execution_count": 203,
   "metadata": {},
   "outputs": [
    {
     "data": {
      "text/plain": [
       "<matplotlib.text.Text at 0x49fe4588>"
      ]
     },
     "execution_count": 203,
     "metadata": {},
     "output_type": "execute_result"
    },
    {
     "data": {
      "image/png": "[encoded data removed]",
      "text/plain": [
       "<matplotlib.figure.Figure at 0x49cd26d8>"
      ]
     },
     "metadata": {},
     "output_type": "display_data"
    }
   ],
   "source": [
    "# find negative review index\n",
    "negativeIndex = importantFeatures['featureValue']=='neg'\n",
    "# set title name\n",
    "titleName='Negative Features - Likelihood Ratios By Feature Name'\n",
    "# create bar plot\n",
    "importantFeatures['featureLikelihood'].loc[negativeIndex].sort_values(ascending=True).plot('barh',\n",
    "    legend=False,figsize=(5,4),title=titleName)\n",
    "# set x-label\n",
    "plt.xlabel(\"Likelihood Ratio (X:1)\")\n",
    "# set y-label\n",
    "plt.ylabel(\"Feature Name\")"
   ]
  },
  {
   "cell_type": "code",
   "execution_count": 204,
   "metadata": {},
   "outputs": [
    {
     "data": {
      "text/html": [
       "<div>\n",
       "<style>\n",
       "    .dataframe thead tr:only-child th {\n",
       "        text-align: right;\n",
       "    }\n",
       "\n",
       "    .dataframe thead th {\n",
       "        text-align: left;\n",
       "    }\n",
       "\n",
       "    .dataframe tbody tr th {\n",
       "        vertical-align: top;\n",
       "    }\n",
       "</style>\n",
       "<table border=\"1\" class=\"dataframe\">\n",
       "  <thead>\n",
       "    <tr style=\"text-align: right;\">\n",
       "      <th></th>\n",
       "      <th>featureValue</th>\n",
       "      <th>featureLikelihood</th>\n",
       "    </tr>\n",
       "    <tr>\n",
       "      <th>featureName</th>\n",
       "      <th></th>\n",
       "      <th></th>\n",
       "    </tr>\n",
       "  </thead>\n",
       "  <tbody>\n",
       "    <tr>\n",
       "      <th>contains(ugh)</th>\n",
       "      <td>neg</td>\n",
       "      <td>9.748328</td>\n",
       "    </tr>\n",
       "    <tr>\n",
       "      <th>contains(sans)</th>\n",
       "      <td>neg</td>\n",
       "      <td>8.403731</td>\n",
       "    </tr>\n",
       "    <tr>\n",
       "      <th>contains(mediocrity)</th>\n",
       "      <td>neg</td>\n",
       "      <td>7.059134</td>\n",
       "    </tr>\n",
       "    <tr>\n",
       "      <th>contains(wires)</th>\n",
       "      <td>neg</td>\n",
       "      <td>6.386836</td>\n",
       "    </tr>\n",
       "    <tr>\n",
       "      <th>contains(bruckheimer)</th>\n",
       "      <td>neg</td>\n",
       "      <td>5.714537</td>\n",
       "    </tr>\n",
       "    <tr>\n",
       "      <th>contains(nonsensical)</th>\n",
       "      <td>neg</td>\n",
       "      <td>4.369940</td>\n",
       "    </tr>\n",
       "    <tr>\n",
       "      <th>contains(maxwell)</th>\n",
       "      <td>neg</td>\n",
       "      <td>4.369940</td>\n",
       "    </tr>\n",
       "    <tr>\n",
       "      <th>contains(locks)</th>\n",
       "      <td>neg</td>\n",
       "      <td>4.369940</td>\n",
       "    </tr>\n",
       "    <tr>\n",
       "      <th>contains(tripe)</th>\n",
       "      <td>neg</td>\n",
       "      <td>3.832101</td>\n",
       "    </tr>\n",
       "    <tr>\n",
       "      <th>contains(errors)</th>\n",
       "      <td>neg</td>\n",
       "      <td>3.697642</td>\n",
       "    </tr>\n",
       "    <tr>\n",
       "      <th>contains(quicker)</th>\n",
       "      <td>neg</td>\n",
       "      <td>3.697642</td>\n",
       "    </tr>\n",
       "    <tr>\n",
       "      <th>contains(wcw)</th>\n",
       "      <td>neg</td>\n",
       "      <td>3.697642</td>\n",
       "    </tr>\n",
       "  </tbody>\n",
       "</table>\n",
       "</div>"
      ],
      "text/plain": [
       "                      featureValue  featureLikelihood\n",
       "featureName                                          \n",
       "contains(ugh)                  neg           9.748328\n",
       "contains(sans)                 neg           8.403731\n",
       "contains(mediocrity)           neg           7.059134\n",
       "contains(wires)                neg           6.386836\n",
       "contains(bruckheimer)          neg           5.714537\n",
       "contains(nonsensical)          neg           4.369940\n",
       "contains(maxwell)              neg           4.369940\n",
       "contains(locks)                neg           4.369940\n",
       "contains(tripe)                neg           3.832101\n",
       "contains(errors)               neg           3.697642\n",
       "contains(quicker)              neg           3.697642\n",
       "contains(wcw)                  neg           3.697642"
      ]
     },
     "execution_count": 204,
     "metadata": {},
     "output_type": "execute_result"
    }
   ],
   "source": [
    "# show the table\n",
    "importantFeatures.loc[negativeIndex]"
   ]
  },
  {
   "cell_type": "markdown",
   "metadata": {},
   "source": [
    "#### contains(ugh)\n"
   ]
  },
  {
   "cell_type": "code",
   "execution_count": 205,
   "metadata": {},
   "outputs": [
    {
     "data": {
      "text/plain": [
       "15"
      ]
     },
     "execution_count": 205,
     "metadata": {},
     "output_type": "execute_result"
    }
   ],
   "source": [
    "searchWord='ugh'\n",
    "searchResultReviews,nReviews=findReviews(searchWord,corpusDf)\n",
    "searchResultReviews=searchResultReviews.copy()\n",
    "searchResultReviews['searchWord']=searchWord\n",
    "searchResultReviews.to_csv(outputFileHandle,sep='|',header=False)\n",
    "nReviews"
   ]
  },
  {
   "cell_type": "code",
   "execution_count": 206,
   "metadata": {},
   "outputs": [
    {
     "data": {
      "text/html": [
       "<div>\n",
       "<style>\n",
       "    .dataframe thead tr:only-child th {\n",
       "        text-align: right;\n",
       "    }\n",
       "\n",
       "    .dataframe thead th {\n",
       "        text-align: left;\n",
       "    }\n",
       "\n",
       "    .dataframe tbody tr th {\n",
       "        vertical-align: top;\n",
       "    }\n",
       "</style>\n",
       "<table border=\"1\" class=\"dataframe\">\n",
       "  <thead>\n",
       "    <tr style=\"text-align: right;\">\n",
       "      <th></th>\n",
       "      <th>words</th>\n",
       "      <th>category</th>\n",
       "      <th>nWords</th>\n",
       "      <th>review</th>\n",
       "      <th>searchWord</th>\n",
       "    </tr>\n",
       "  </thead>\n",
       "  <tbody>\n",
       "    <tr>\n",
       "      <th>48</th>\n",
       "      <td>[okay, ,, i, just, don, ', t, know, why, ,, bu...</td>\n",
       "      <td>neg</td>\n",
       "      <td>760</td>\n",
       "      <td>okay , i just don ' t know why , but i seem to...</td>\n",
       "      <td>ugh</td>\n",
       "    </tr>\n",
       "    <tr>\n",
       "      <th>318</th>\n",
       "      <td>[*, *, *, the, following, review, contains, sp...</td>\n",
       "      <td>neg</td>\n",
       "      <td>2271</td>\n",
       "      <td>* * * the following review contains spoilers *...</td>\n",
       "      <td>ugh</td>\n",
       "    </tr>\n",
       "    <tr>\n",
       "      <th>361</th>\n",
       "      <td>[plot, :, a, down, -, and, -, out, girl, moves...</td>\n",
       "      <td>neg</td>\n",
       "      <td>981</td>\n",
       "      <td>plot : a down - and - out girl moves in with s...</td>\n",
       "      <td>ugh</td>\n",
       "    </tr>\n",
       "    <tr>\n",
       "      <th>444</th>\n",
       "      <td>[ugh, ., that, about, sums, this, movie, up, ....</td>\n",
       "      <td>neg</td>\n",
       "      <td>469</td>\n",
       "      <td>ugh . that about sums this movie up . just , u...</td>\n",
       "      <td>ugh</td>\n",
       "    </tr>\n",
       "    <tr>\n",
       "      <th>459</th>\n",
       "      <td>[so, what, do, you, get, when, you, mix, toget...</td>\n",
       "      <td>neg</td>\n",
       "      <td>862</td>\n",
       "      <td>so what do you get when you mix together plot ...</td>\n",
       "      <td>ugh</td>\n",
       "    </tr>\n",
       "    <tr>\n",
       "      <th>645</th>\n",
       "      <td>[are, you, like, me, ?, do, you, get, annoyed,...</td>\n",
       "      <td>neg</td>\n",
       "      <td>724</td>\n",
       "      <td>are you like me ? do you get annoyed seeing pe...</td>\n",
       "      <td>ugh</td>\n",
       "    </tr>\n",
       "    <tr>\n",
       "      <th>775</th>\n",
       "      <td>[plot, :, a, separated, ,, glamorous, ,, holly...</td>\n",
       "      <td>neg</td>\n",
       "      <td>872</td>\n",
       "      <td>plot : a separated , glamorous , hollywood cou...</td>\n",
       "      <td>ugh</td>\n",
       "    </tr>\n",
       "    <tr>\n",
       "      <th>810</th>\n",
       "      <td>[woof, !, too, bad, that, leap, of, faith, was...</td>\n",
       "      <td>neg</td>\n",
       "      <td>535</td>\n",
       "      <td>woof ! too bad that leap of faith was the titl...</td>\n",
       "      <td>ugh</td>\n",
       "    </tr>\n",
       "    <tr>\n",
       "      <th>967</th>\n",
       "      <td>[one, of, the, contributors, to, the, destruct...</td>\n",
       "      <td>neg</td>\n",
       "      <td>815</td>\n",
       "      <td>one of the contributors to the destruction of ...</td>\n",
       "      <td>ugh</td>\n",
       "    </tr>\n",
       "    <tr>\n",
       "      <th>1018</th>\n",
       "      <td>[the, most, interesting, part, of, \", can, ', ...</td>\n",
       "      <td>neg</td>\n",
       "      <td>1619</td>\n",
       "      <td>the most interesting part of \" can ' t hardly ...</td>\n",
       "      <td>ugh</td>\n",
       "    </tr>\n",
       "    <tr>\n",
       "      <th>1048</th>\n",
       "      <td>[the, \", submarine, \", genre, of, movies, seem...</td>\n",
       "      <td>pos</td>\n",
       "      <td>690</td>\n",
       "      <td>the \" submarine \" genre of movies seems to be ...</td>\n",
       "      <td>ugh</td>\n",
       "    </tr>\n",
       "    <tr>\n",
       "      <th>1061</th>\n",
       "      <td>[plot, :, a, young, french, boy, sees, his, pa...</td>\n",
       "      <td>neg</td>\n",
       "      <td>1025</td>\n",
       "      <td>plot : a young french boy sees his parents kil...</td>\n",
       "      <td>ugh</td>\n",
       "    </tr>\n",
       "    <tr>\n",
       "      <th>1235</th>\n",
       "      <td>[plot, :, a, rich, psychiatrist, with, a, grea...</td>\n",
       "      <td>neg</td>\n",
       "      <td>906</td>\n",
       "      <td>plot : a rich psychiatrist with a great home l...</td>\n",
       "      <td>ugh</td>\n",
       "    </tr>\n",
       "    <tr>\n",
       "      <th>1361</th>\n",
       "      <td>[capsule, :, lesbianism, examined, in, the, sa...</td>\n",
       "      <td>neg</td>\n",
       "      <td>560</td>\n",
       "      <td>capsule : lesbianism examined in the same hush...</td>\n",
       "      <td>ugh</td>\n",
       "    </tr>\n",
       "    <tr>\n",
       "      <th>1873</th>\n",
       "      <td>[ah, ,, and, 1999, was, going, along, so, well...</td>\n",
       "      <td>neg</td>\n",
       "      <td>605</td>\n",
       "      <td>ah , and 1999 was going along so well , too . ...</td>\n",
       "      <td>ugh</td>\n",
       "    </tr>\n",
       "  </tbody>\n",
       "</table>\n",
       "</div>"
      ],
      "text/plain": [
       "                                                  words category  nWords  \\\n",
       "48    [okay, ,, i, just, don, ', t, know, why, ,, bu...      neg     760   \n",
       "318   [*, *, *, the, following, review, contains, sp...      neg    2271   \n",
       "361   [plot, :, a, down, -, and, -, out, girl, moves...      neg     981   \n",
       "444   [ugh, ., that, about, sums, this, movie, up, ....      neg     469   \n",
       "459   [so, what, do, you, get, when, you, mix, toget...      neg     862   \n",
       "645   [are, you, like, me, ?, do, you, get, annoyed,...      neg     724   \n",
       "775   [plot, :, a, separated, ,, glamorous, ,, holly...      neg     872   \n",
       "810   [woof, !, too, bad, that, leap, of, faith, was...      neg     535   \n",
       "967   [one, of, the, contributors, to, the, destruct...      neg     815   \n",
       "1018  [the, most, interesting, part, of, \", can, ', ...      neg    1619   \n",
       "1048  [the, \", submarine, \", genre, of, movies, seem...      pos     690   \n",
       "1061  [plot, :, a, young, french, boy, sees, his, pa...      neg    1025   \n",
       "1235  [plot, :, a, rich, psychiatrist, with, a, grea...      neg     906   \n",
       "1361  [capsule, :, lesbianism, examined, in, the, sa...      neg     560   \n",
       "1873  [ah, ,, and, 1999, was, going, along, so, well...      neg     605   \n",
       "\n",
       "                                                 review searchWord  \n",
       "48    okay , i just don ' t know why , but i seem to...        ugh  \n",
       "318   * * * the following review contains spoilers *...        ugh  \n",
       "361   plot : a down - and - out girl moves in with s...        ugh  \n",
       "444   ugh . that about sums this movie up . just , u...        ugh  \n",
       "459   so what do you get when you mix together plot ...        ugh  \n",
       "645   are you like me ? do you get annoyed seeing pe...        ugh  \n",
       "775   plot : a separated , glamorous , hollywood cou...        ugh  \n",
       "810   woof ! too bad that leap of faith was the titl...        ugh  \n",
       "967   one of the contributors to the destruction of ...        ugh  \n",
       "1018  the most interesting part of \" can ' t hardly ...        ugh  \n",
       "1048  the \" submarine \" genre of movies seems to be ...        ugh  \n",
       "1061  plot : a young french boy sees his parents kil...        ugh  \n",
       "1235  plot : a rich psychiatrist with a great home l...        ugh  \n",
       "1361  capsule : lesbianism examined in the same hush...        ugh  \n",
       "1873  ah , and 1999 was going along so well , too . ...        ugh  "
      ]
     },
     "execution_count": 206,
     "metadata": {},
     "output_type": "execute_result"
    }
   ],
   "source": [
    "searchResultReviews"
   ]
  },
  {
   "cell_type": "code",
   "execution_count": 207,
   "metadata": {},
   "outputs": [
    {
     "data": {
      "text/plain": [
       "category\n",
       "neg    14\n",
       "pos     1\n",
       "Name: words, dtype: int64"
      ]
     },
     "execution_count": 207,
     "metadata": {},
     "output_type": "execute_result"
    }
   ],
   "source": [
    "searchResultReviews.groupby(by=['category'])['words'].count()"
   ]
  },
  {
   "cell_type": "markdown",
   "metadata": {},
   "source": [
    "'Ugh' is found in 15 reviews, 14 of which are negative. This is very clearly a negative 'word'."
   ]
  },
  {
   "cell_type": "markdown",
   "metadata": {},
   "source": [
    "#### contains(sans)\n"
   ]
  },
  {
   "cell_type": "code",
   "execution_count": 208,
   "metadata": {},
   "outputs": [
    {
     "data": {
      "text/plain": [
       "13"
      ]
     },
     "execution_count": 208,
     "metadata": {},
     "output_type": "execute_result"
    }
   ],
   "source": [
    "searchWord='sans'\n",
    "searchResultReviews,nReviews=findReviews(searchWord,corpusDf)\n",
    "searchResultReviews=searchResultReviews.copy()\n",
    "searchResultReviews['searchWord']=searchWord\n",
    "searchResultReviews.to_csv(outputFileHandle,sep='|',header=False)\n",
    "nReviews"
   ]
  },
  {
   "cell_type": "code",
   "execution_count": 209,
   "metadata": {},
   "outputs": [
    {
     "data": {
      "text/html": [
       "<div>\n",
       "<style>\n",
       "    .dataframe thead tr:only-child th {\n",
       "        text-align: right;\n",
       "    }\n",
       "\n",
       "    .dataframe thead th {\n",
       "        text-align: left;\n",
       "    }\n",
       "\n",
       "    .dataframe tbody tr th {\n",
       "        vertical-align: top;\n",
       "    }\n",
       "</style>\n",
       "<table border=\"1\" class=\"dataframe\">\n",
       "  <thead>\n",
       "    <tr style=\"text-align: right;\">\n",
       "      <th></th>\n",
       "      <th>words</th>\n",
       "      <th>category</th>\n",
       "      <th>nWords</th>\n",
       "      <th>review</th>\n",
       "      <th>searchWord</th>\n",
       "    </tr>\n",
       "  </thead>\n",
       "  <tbody>\n",
       "    <tr>\n",
       "      <th>86</th>\n",
       "      <td>[it, seemed, wholly, appropriate, that, at, a,...</td>\n",
       "      <td>pos</td>\n",
       "      <td>718</td>\n",
       "      <td>it seemed wholly appropriate that at a weekend...</td>\n",
       "      <td>sans</td>\n",
       "    </tr>\n",
       "    <tr>\n",
       "      <th>99</th>\n",
       "      <td>[what, hath, kevin, williamson, wrought, ?, wh...</td>\n",
       "      <td>neg</td>\n",
       "      <td>829</td>\n",
       "      <td>what hath kevin williamson wrought ? while the...</td>\n",
       "      <td>sans</td>\n",
       "    </tr>\n",
       "    <tr>\n",
       "      <th>170</th>\n",
       "      <td>[capsule, :, combine, one, quart, of, raiders,...</td>\n",
       "      <td>neg</td>\n",
       "      <td>632</td>\n",
       "      <td>capsule : combine one quart of raiders of the ...</td>\n",
       "      <td>sans</td>\n",
       "    </tr>\n",
       "    <tr>\n",
       "      <th>210</th>\n",
       "      <td>[to, sum, the, entire, film, \", 54, \", up, in,...</td>\n",
       "      <td>neg</td>\n",
       "      <td>650</td>\n",
       "      <td>to sum the entire film \" 54 \" up in one senten...</td>\n",
       "      <td>sans</td>\n",
       "    </tr>\n",
       "    <tr>\n",
       "      <th>402</th>\n",
       "      <td>[when, a, pair, of, films, from, the, same, di...</td>\n",
       "      <td>neg</td>\n",
       "      <td>625</td>\n",
       "      <td>when a pair of films from the same director ge...</td>\n",
       "      <td>sans</td>\n",
       "    </tr>\n",
       "    <tr>\n",
       "      <th>670</th>\n",
       "      <td>[underwater, science, fiction, stays, submerge...</td>\n",
       "      <td>neg</td>\n",
       "      <td>1104</td>\n",
       "      <td>underwater science fiction stays submerged sph...</td>\n",
       "      <td>sans</td>\n",
       "    </tr>\n",
       "    <tr>\n",
       "      <th>688</th>\n",
       "      <td>[\", some, houses, are, born, bad, ,, \", goes, ...</td>\n",
       "      <td>neg</td>\n",
       "      <td>818</td>\n",
       "      <td>\" some houses are born bad , \" goes the haunti...</td>\n",
       "      <td>sans</td>\n",
       "    </tr>\n",
       "    <tr>\n",
       "      <th>743</th>\n",
       "      <td>[for, about, twenty, minutes, into, mission, i...</td>\n",
       "      <td>neg</td>\n",
       "      <td>1517</td>\n",
       "      <td>for about twenty minutes into mission impossib...</td>\n",
       "      <td>sans</td>\n",
       "    </tr>\n",
       "    <tr>\n",
       "      <th>991</th>\n",
       "      <td>[there, ', s, a, scene, early, on, in, \", jawb...</td>\n",
       "      <td>neg</td>\n",
       "      <td>616</td>\n",
       "      <td>there ' s a scene early on in \" jawbreaker \" w...</td>\n",
       "      <td>sans</td>\n",
       "    </tr>\n",
       "    <tr>\n",
       "      <th>1124</th>\n",
       "      <td>[despite, its, exceedingly, well, -, done, vis...</td>\n",
       "      <td>neg</td>\n",
       "      <td>996</td>\n",
       "      <td>despite its exceedingly well - done visual eff...</td>\n",
       "      <td>sans</td>\n",
       "    </tr>\n",
       "    <tr>\n",
       "      <th>1705</th>\n",
       "      <td>[note, :, some, may, consider, portions, of, t...</td>\n",
       "      <td>neg</td>\n",
       "      <td>918</td>\n",
       "      <td>note : some may consider portions of the follo...</td>\n",
       "      <td>sans</td>\n",
       "    </tr>\n",
       "    <tr>\n",
       "      <th>1855</th>\n",
       "      <td>[the, first, species, was, a, moderately, -, s...</td>\n",
       "      <td>neg</td>\n",
       "      <td>913</td>\n",
       "      <td>the first species was a moderately - successfu...</td>\n",
       "      <td>sans</td>\n",
       "    </tr>\n",
       "    <tr>\n",
       "      <th>1897</th>\n",
       "      <td>[synopsis, :, cro, -, magnon, ayla, loses, her...</td>\n",
       "      <td>neg</td>\n",
       "      <td>1111</td>\n",
       "      <td>synopsis : cro - magnon ayla loses her mother ...</td>\n",
       "      <td>sans</td>\n",
       "    </tr>\n",
       "  </tbody>\n",
       "</table>\n",
       "</div>"
      ],
      "text/plain": [
       "                                                  words category  nWords  \\\n",
       "86    [it, seemed, wholly, appropriate, that, at, a,...      pos     718   \n",
       "99    [what, hath, kevin, williamson, wrought, ?, wh...      neg     829   \n",
       "170   [capsule, :, combine, one, quart, of, raiders,...      neg     632   \n",
       "210   [to, sum, the, entire, film, \", 54, \", up, in,...      neg     650   \n",
       "402   [when, a, pair, of, films, from, the, same, di...      neg     625   \n",
       "670   [underwater, science, fiction, stays, submerge...      neg    1104   \n",
       "688   [\", some, houses, are, born, bad, ,, \", goes, ...      neg     818   \n",
       "743   [for, about, twenty, minutes, into, mission, i...      neg    1517   \n",
       "991   [there, ', s, a, scene, early, on, in, \", jawb...      neg     616   \n",
       "1124  [despite, its, exceedingly, well, -, done, vis...      neg     996   \n",
       "1705  [note, :, some, may, consider, portions, of, t...      neg     918   \n",
       "1855  [the, first, species, was, a, moderately, -, s...      neg     913   \n",
       "1897  [synopsis, :, cro, -, magnon, ayla, loses, her...      neg    1111   \n",
       "\n",
       "                                                 review searchWord  \n",
       "86    it seemed wholly appropriate that at a weekend...       sans  \n",
       "99    what hath kevin williamson wrought ? while the...       sans  \n",
       "170   capsule : combine one quart of raiders of the ...       sans  \n",
       "210   to sum the entire film \" 54 \" up in one senten...       sans  \n",
       "402   when a pair of films from the same director ge...       sans  \n",
       "670   underwater science fiction stays submerged sph...       sans  \n",
       "688   \" some houses are born bad , \" goes the haunti...       sans  \n",
       "743   for about twenty minutes into mission impossib...       sans  \n",
       "991   there ' s a scene early on in \" jawbreaker \" w...       sans  \n",
       "1124  despite its exceedingly well - done visual eff...       sans  \n",
       "1705  note : some may consider portions of the follo...       sans  \n",
       "1855  the first species was a moderately - successfu...       sans  \n",
       "1897  synopsis : cro - magnon ayla loses her mother ...       sans  "
      ]
     },
     "execution_count": 209,
     "metadata": {},
     "output_type": "execute_result"
    }
   ],
   "source": [
    "searchResultReviews"
   ]
  },
  {
   "cell_type": "code",
   "execution_count": 210,
   "metadata": {},
   "outputs": [
    {
     "data": {
      "text/plain": [
       "category\n",
       "neg    12\n",
       "pos     1\n",
       "Name: words, dtype: int64"
      ]
     },
     "execution_count": 210,
     "metadata": {},
     "output_type": "execute_result"
    }
   ],
   "source": [
    "searchResultReviews.groupby(by=['category'])['words'].count()"
   ]
  },
  {
   "cell_type": "markdown",
   "metadata": {},
   "source": [
    "Despite the neutral connotation, 'sans' - the French word for 'without' - is found in 13 reviews, 12 of which are negative."
   ]
  },
  {
   "cell_type": "markdown",
   "metadata": {},
   "source": [
    "#### contains(mediocrity)\n"
   ]
  },
  {
   "cell_type": "code",
   "execution_count": 211,
   "metadata": {},
   "outputs": [
    {
     "data": {
      "text/plain": [
       "11"
      ]
     },
     "execution_count": 211,
     "metadata": {},
     "output_type": "execute_result"
    }
   ],
   "source": [
    "searchWord='mediocrity'\n",
    "searchResultReviews,nReviews=findReviews(searchWord,corpusDf)\n",
    "searchResultReviews=searchResultReviews.copy()\n",
    "searchResultReviews['searchWord']=searchWord\n",
    "searchResultReviews.to_csv(outputFileHandle,sep='|',header=False)\n",
    "nReviews"
   ]
  },
  {
   "cell_type": "code",
   "execution_count": 212,
   "metadata": {},
   "outputs": [
    {
     "data": {
      "text/html": [
       "<div>\n",
       "<style>\n",
       "    .dataframe thead tr:only-child th {\n",
       "        text-align: right;\n",
       "    }\n",
       "\n",
       "    .dataframe thead th {\n",
       "        text-align: left;\n",
       "    }\n",
       "\n",
       "    .dataframe tbody tr th {\n",
       "        vertical-align: top;\n",
       "    }\n",
       "</style>\n",
       "<table border=\"1\" class=\"dataframe\">\n",
       "  <thead>\n",
       "    <tr style=\"text-align: right;\">\n",
       "      <th></th>\n",
       "      <th>words</th>\n",
       "      <th>category</th>\n",
       "      <th>nWords</th>\n",
       "      <th>review</th>\n",
       "      <th>searchWord</th>\n",
       "    </tr>\n",
       "  </thead>\n",
       "  <tbody>\n",
       "    <tr>\n",
       "      <th>52</th>\n",
       "      <td>[`, the, bachelor, ', is, one, of, the, best, ...</td>\n",
       "      <td>neg</td>\n",
       "      <td>826</td>\n",
       "      <td>` the bachelor ' is one of the best terrible m...</td>\n",
       "      <td>mediocrity</td>\n",
       "    </tr>\n",
       "    <tr>\n",
       "      <th>143</th>\n",
       "      <td>[i, ', ve, noticed, something, lately, that, i...</td>\n",
       "      <td>pos</td>\n",
       "      <td>807</td>\n",
       "      <td>i ' ve noticed something lately that i ' ve ne...</td>\n",
       "      <td>mediocrity</td>\n",
       "    </tr>\n",
       "    <tr>\n",
       "      <th>260</th>\n",
       "      <td>[when, the, mediums, in, question, are, video,...</td>\n",
       "      <td>neg</td>\n",
       "      <td>748</td>\n",
       "      <td>when the mediums in question are video game an...</td>\n",
       "      <td>mediocrity</td>\n",
       "    </tr>\n",
       "    <tr>\n",
       "      <th>261</th>\n",
       "      <td>[there, are, some, pretty, impressive, stars, ...</td>\n",
       "      <td>neg</td>\n",
       "      <td>1043</td>\n",
       "      <td>there are some pretty impressive stars in lost...</td>\n",
       "      <td>mediocrity</td>\n",
       "    </tr>\n",
       "    <tr>\n",
       "      <th>506</th>\n",
       "      <td>[in, the, mid, -, 1980s, ,, following, the, sp...</td>\n",
       "      <td>neg</td>\n",
       "      <td>514</td>\n",
       "      <td>in the mid - 1980s , following the splendid de...</td>\n",
       "      <td>mediocrity</td>\n",
       "    </tr>\n",
       "    <tr>\n",
       "      <th>797</th>\n",
       "      <td>[in, a, typical, cinematic, high, school, ,, t...</td>\n",
       "      <td>neg</td>\n",
       "      <td>505</td>\n",
       "      <td>in a typical cinematic high school , the footb...</td>\n",
       "      <td>mediocrity</td>\n",
       "    </tr>\n",
       "    <tr>\n",
       "      <th>906</th>\n",
       "      <td>[when, i, was, nine, ,, i, started, buying, th...</td>\n",
       "      <td>neg</td>\n",
       "      <td>563</td>\n",
       "      <td>when i was nine , i started buying the coolest...</td>\n",
       "      <td>mediocrity</td>\n",
       "    </tr>\n",
       "    <tr>\n",
       "      <th>1100</th>\n",
       "      <td>[poster, boy, for, co, -, dependency, needs, p...</td>\n",
       "      <td>neg</td>\n",
       "      <td>1064</td>\n",
       "      <td>poster boy for co - dependency needs patching ...</td>\n",
       "      <td>mediocrity</td>\n",
       "    </tr>\n",
       "    <tr>\n",
       "      <th>1200</th>\n",
       "      <td>[a, remake, of, the, 1978, warren, beatty, veh...</td>\n",
       "      <td>neg</td>\n",
       "      <td>586</td>\n",
       "      <td>a remake of the 1978 warren beatty vehicle \" h...</td>\n",
       "      <td>mediocrity</td>\n",
       "    </tr>\n",
       "    <tr>\n",
       "      <th>1679</th>\n",
       "      <td>[ladies, and, gentlemen, ,, payback, is, the, ...</td>\n",
       "      <td>neg</td>\n",
       "      <td>621</td>\n",
       "      <td>ladies and gentlemen , payback is the most exp...</td>\n",
       "      <td>mediocrity</td>\n",
       "    </tr>\n",
       "    <tr>\n",
       "      <th>1783</th>\n",
       "      <td>[my, son, and, i, share, a, perverse, predilec...</td>\n",
       "      <td>neg</td>\n",
       "      <td>614</td>\n",
       "      <td>my son and i share a perverse predilection for...</td>\n",
       "      <td>mediocrity</td>\n",
       "    </tr>\n",
       "  </tbody>\n",
       "</table>\n",
       "</div>"
      ],
      "text/plain": [
       "                                                  words category  nWords  \\\n",
       "52    [`, the, bachelor, ', is, one, of, the, best, ...      neg     826   \n",
       "143   [i, ', ve, noticed, something, lately, that, i...      pos     807   \n",
       "260   [when, the, mediums, in, question, are, video,...      neg     748   \n",
       "261   [there, are, some, pretty, impressive, stars, ...      neg    1043   \n",
       "506   [in, the, mid, -, 1980s, ,, following, the, sp...      neg     514   \n",
       "797   [in, a, typical, cinematic, high, school, ,, t...      neg     505   \n",
       "906   [when, i, was, nine, ,, i, started, buying, th...      neg     563   \n",
       "1100  [poster, boy, for, co, -, dependency, needs, p...      neg    1064   \n",
       "1200  [a, remake, of, the, 1978, warren, beatty, veh...      neg     586   \n",
       "1679  [ladies, and, gentlemen, ,, payback, is, the, ...      neg     621   \n",
       "1783  [my, son, and, i, share, a, perverse, predilec...      neg     614   \n",
       "\n",
       "                                                 review  searchWord  \n",
       "52    ` the bachelor ' is one of the best terrible m...  mediocrity  \n",
       "143   i ' ve noticed something lately that i ' ve ne...  mediocrity  \n",
       "260   when the mediums in question are video game an...  mediocrity  \n",
       "261   there are some pretty impressive stars in lost...  mediocrity  \n",
       "506   in the mid - 1980s , following the splendid de...  mediocrity  \n",
       "797   in a typical cinematic high school , the footb...  mediocrity  \n",
       "906   when i was nine , i started buying the coolest...  mediocrity  \n",
       "1100  poster boy for co - dependency needs patching ...  mediocrity  \n",
       "1200  a remake of the 1978 warren beatty vehicle \" h...  mediocrity  \n",
       "1679  ladies and gentlemen , payback is the most exp...  mediocrity  \n",
       "1783  my son and i share a perverse predilection for...  mediocrity  "
      ]
     },
     "execution_count": 212,
     "metadata": {},
     "output_type": "execute_result"
    }
   ],
   "source": [
    "searchResultReviews"
   ]
  },
  {
   "cell_type": "code",
   "execution_count": 213,
   "metadata": {},
   "outputs": [
    {
     "data": {
      "text/plain": [
       "category\n",
       "neg    10\n",
       "pos     1\n",
       "Name: words, dtype: int64"
      ]
     },
     "execution_count": 213,
     "metadata": {},
     "output_type": "execute_result"
    }
   ],
   "source": [
    "searchResultReviews.groupby(by=['category'])['words'].count()"
   ]
  },
  {
   "cell_type": "markdown",
   "metadata": {},
   "source": [
    "'Mediocrity' clearly has a negative connotation. Of 11 reviews containing this term, 10 are negative."
   ]
  },
  {
   "cell_type": "markdown",
   "metadata": {},
   "source": [
    "#### contains(wires)\n"
   ]
  },
  {
   "cell_type": "code",
   "execution_count": 214,
   "metadata": {},
   "outputs": [
    {
     "data": {
      "text/plain": [
       "10"
      ]
     },
     "execution_count": 214,
     "metadata": {},
     "output_type": "execute_result"
    }
   ],
   "source": [
    "searchWord='wires'\n",
    "searchResultReviews,nReviews=findReviews(searchWord,corpusDf)\n",
    "searchResultReviews=searchResultReviews.copy()\n",
    "searchResultReviews['searchWord']=searchWord\n",
    "searchResultReviews.to_csv(outputFileHandle,sep='|',header=False)\n",
    "nReviews"
   ]
  },
  {
   "cell_type": "code",
   "execution_count": 215,
   "metadata": {},
   "outputs": [
    {
     "data": {
      "text/html": [
       "<div>\n",
       "<style>\n",
       "    .dataframe thead tr:only-child th {\n",
       "        text-align: right;\n",
       "    }\n",
       "\n",
       "    .dataframe thead th {\n",
       "        text-align: left;\n",
       "    }\n",
       "\n",
       "    .dataframe tbody tr th {\n",
       "        vertical-align: top;\n",
       "    }\n",
       "</style>\n",
       "<table border=\"1\" class=\"dataframe\">\n",
       "  <thead>\n",
       "    <tr style=\"text-align: right;\">\n",
       "      <th></th>\n",
       "      <th>words</th>\n",
       "      <th>category</th>\n",
       "      <th>nWords</th>\n",
       "      <th>review</th>\n",
       "      <th>searchWord</th>\n",
       "    </tr>\n",
       "  </thead>\n",
       "  <tbody>\n",
       "    <tr>\n",
       "      <th>59</th>\n",
       "      <td>[even, the, best, comic, actor, is, at, the, m...</td>\n",
       "      <td>neg</td>\n",
       "      <td>753</td>\n",
       "      <td>even the best comic actor is at the mercy of h...</td>\n",
       "      <td>wires</td>\n",
       "    </tr>\n",
       "    <tr>\n",
       "      <th>82</th>\n",
       "      <td>[by, starring, in, amy, heckerling, ', s, \", c...</td>\n",
       "      <td>neg</td>\n",
       "      <td>787</td>\n",
       "      <td>by starring in amy heckerling ' s \" clueless \"...</td>\n",
       "      <td>wires</td>\n",
       "    </tr>\n",
       "    <tr>\n",
       "      <th>184</th>\n",
       "      <td>[part, one, of, \", the, strangest, movies, eve...</td>\n",
       "      <td>pos</td>\n",
       "      <td>751</td>\n",
       "      <td>part one of \" the strangest movies ever made \"...</td>\n",
       "      <td>wires</td>\n",
       "    </tr>\n",
       "    <tr>\n",
       "      <th>318</th>\n",
       "      <td>[*, *, *, the, following, review, contains, sp...</td>\n",
       "      <td>neg</td>\n",
       "      <td>2271</td>\n",
       "      <td>* * * the following review contains spoilers *...</td>\n",
       "      <td>wires</td>\n",
       "    </tr>\n",
       "    <tr>\n",
       "      <th>542</th>\n",
       "      <td>[when, you, ', ve, run, out, of, old, tv, show...</td>\n",
       "      <td>neg</td>\n",
       "      <td>928</td>\n",
       "      <td>when you ' ve run out of old tv shows to turn ...</td>\n",
       "      <td>wires</td>\n",
       "    </tr>\n",
       "    <tr>\n",
       "      <th>576</th>\n",
       "      <td>[i, looked, at, the, \", internet, movie, datab...</td>\n",
       "      <td>neg</td>\n",
       "      <td>805</td>\n",
       "      <td>i looked at the \" internet movie database \" ' ...</td>\n",
       "      <td>wires</td>\n",
       "    </tr>\n",
       "    <tr>\n",
       "      <th>978</th>\n",
       "      <td>[\", virus, \", is, a, monster, movie, without, ...</td>\n",
       "      <td>neg</td>\n",
       "      <td>671</td>\n",
       "      <td>\" virus \" is a monster movie without a monster...</td>\n",
       "      <td>wires</td>\n",
       "    </tr>\n",
       "    <tr>\n",
       "      <th>1364</th>\n",
       "      <td>[jet, li, busted, onto, the, american, action,...</td>\n",
       "      <td>neg</td>\n",
       "      <td>762</td>\n",
       "      <td>jet li busted onto the american action movie s...</td>\n",
       "      <td>wires</td>\n",
       "    </tr>\n",
       "    <tr>\n",
       "      <th>1402</th>\n",
       "      <td>[i, ', ve, never, written, a, review, for, a, ...</td>\n",
       "      <td>neg</td>\n",
       "      <td>1690</td>\n",
       "      <td>i ' ve never written a review for a movie i ha...</td>\n",
       "      <td>wires</td>\n",
       "    </tr>\n",
       "    <tr>\n",
       "      <th>1530</th>\n",
       "      <td>[after, seeing, blaze, and, driving, miss, dai...</td>\n",
       "      <td>neg</td>\n",
       "      <td>909</td>\n",
       "      <td>after seeing blaze and driving miss daisy , i ...</td>\n",
       "      <td>wires</td>\n",
       "    </tr>\n",
       "  </tbody>\n",
       "</table>\n",
       "</div>"
      ],
      "text/plain": [
       "                                                  words category  nWords  \\\n",
       "59    [even, the, best, comic, actor, is, at, the, m...      neg     753   \n",
       "82    [by, starring, in, amy, heckerling, ', s, \", c...      neg     787   \n",
       "184   [part, one, of, \", the, strangest, movies, eve...      pos     751   \n",
       "318   [*, *, *, the, following, review, contains, sp...      neg    2271   \n",
       "542   [when, you, ', ve, run, out, of, old, tv, show...      neg     928   \n",
       "576   [i, looked, at, the, \", internet, movie, datab...      neg     805   \n",
       "978   [\", virus, \", is, a, monster, movie, without, ...      neg     671   \n",
       "1364  [jet, li, busted, onto, the, american, action,...      neg     762   \n",
       "1402  [i, ', ve, never, written, a, review, for, a, ...      neg    1690   \n",
       "1530  [after, seeing, blaze, and, driving, miss, dai...      neg     909   \n",
       "\n",
       "                                                 review searchWord  \n",
       "59    even the best comic actor is at the mercy of h...      wires  \n",
       "82    by starring in amy heckerling ' s \" clueless \"...      wires  \n",
       "184   part one of \" the strangest movies ever made \"...      wires  \n",
       "318   * * * the following review contains spoilers *...      wires  \n",
       "542   when you ' ve run out of old tv shows to turn ...      wires  \n",
       "576   i looked at the \" internet movie database \" ' ...      wires  \n",
       "978   \" virus \" is a monster movie without a monster...      wires  \n",
       "1364  jet li busted onto the american action movie s...      wires  \n",
       "1402  i ' ve never written a review for a movie i ha...      wires  \n",
       "1530  after seeing blaze and driving miss daisy , i ...      wires  "
      ]
     },
     "execution_count": 215,
     "metadata": {},
     "output_type": "execute_result"
    }
   ],
   "source": [
    "searchResultReviews"
   ]
  },
  {
   "cell_type": "code",
   "execution_count": 216,
   "metadata": {},
   "outputs": [
    {
     "data": {
      "text/plain": [
       "category\n",
       "neg    9\n",
       "pos    1\n",
       "Name: words, dtype: int64"
      ]
     },
     "execution_count": 216,
     "metadata": {},
     "output_type": "execute_result"
    }
   ],
   "source": [
    "searchResultReviews.groupby(by=['category'])['words'].count()"
   ]
  },
  {
   "cell_type": "markdown",
   "metadata": {},
   "source": [
    "The word, 'wires', appears in 10 reviews, 9 of which are negative. No pattern is evident. This feature seems spurious."
   ]
  },
  {
   "cell_type": "markdown",
   "metadata": {},
   "source": [
    "#### contains(bruckheimer)"
   ]
  },
  {
   "cell_type": "code",
   "execution_count": 217,
   "metadata": {},
   "outputs": [
    {
     "data": {
      "text/plain": [
       "9"
      ]
     },
     "execution_count": 217,
     "metadata": {},
     "output_type": "execute_result"
    }
   ],
   "source": [
    "searchWord='bruckheimer'\n",
    "searchResultReviews,nReviews=findReviews(searchWord,corpusDf)\n",
    "searchResultReviews=searchResultReviews.copy()\n",
    "searchResultReviews['searchWord']=searchWord\n",
    "searchResultReviews.to_csv(outputFileHandle,sep='|',header=False)\n",
    "nReviews"
   ]
  },
  {
   "cell_type": "code",
   "execution_count": 218,
   "metadata": {},
   "outputs": [
    {
     "data": {
      "text/html": [
       "<div>\n",
       "<style>\n",
       "    .dataframe thead tr:only-child th {\n",
       "        text-align: right;\n",
       "    }\n",
       "\n",
       "    .dataframe thead th {\n",
       "        text-align: left;\n",
       "    }\n",
       "\n",
       "    .dataframe tbody tr th {\n",
       "        vertical-align: top;\n",
       "    }\n",
       "</style>\n",
       "<table border=\"1\" class=\"dataframe\">\n",
       "  <thead>\n",
       "    <tr style=\"text-align: right;\">\n",
       "      <th></th>\n",
       "      <th>words</th>\n",
       "      <th>category</th>\n",
       "      <th>nWords</th>\n",
       "      <th>review</th>\n",
       "      <th>searchWord</th>\n",
       "    </tr>\n",
       "  </thead>\n",
       "  <tbody>\n",
       "    <tr>\n",
       "      <th>16</th>\n",
       "      <td>[director, dominic, sena, (, who, made, the, h...</td>\n",
       "      <td>pos</td>\n",
       "      <td>754</td>\n",
       "      <td>director dominic sena ( who made the highly un...</td>\n",
       "      <td>bruckheimer</td>\n",
       "    </tr>\n",
       "    <tr>\n",
       "      <th>47</th>\n",
       "      <td>[the, comet, -, disaster, flick, is, a, disast...</td>\n",
       "      <td>neg</td>\n",
       "      <td>241</td>\n",
       "      <td>the comet - disaster flick is a disaster alrig...</td>\n",
       "      <td>bruckheimer</td>\n",
       "    </tr>\n",
       "    <tr>\n",
       "      <th>167</th>\n",
       "      <td>[warner, brothers, ;, rated, pg, -, 13, (, mil...</td>\n",
       "      <td>neg</td>\n",
       "      <td>1015</td>\n",
       "      <td>warner brothers ; rated pg - 13 ( mild violenc...</td>\n",
       "      <td>bruckheimer</td>\n",
       "    </tr>\n",
       "    <tr>\n",
       "      <th>215</th>\n",
       "      <td>[for, a, good, ten, years, or, so, ,, super, c...</td>\n",
       "      <td>neg</td>\n",
       "      <td>462</td>\n",
       "      <td>for a good ten years or so , super cool chow y...</td>\n",
       "      <td>bruckheimer</td>\n",
       "    </tr>\n",
       "    <tr>\n",
       "      <th>654</th>\n",
       "      <td>[if, i, were, to, plot, a, graph, of, year, ag...</td>\n",
       "      <td>neg</td>\n",
       "      <td>928</td>\n",
       "      <td>if i were to plot a graph of year against movi...</td>\n",
       "      <td>bruckheimer</td>\n",
       "    </tr>\n",
       "    <tr>\n",
       "      <th>875</th>\n",
       "      <td>[nicolas, cage, comes, up, with, an, ingenious...</td>\n",
       "      <td>neg</td>\n",
       "      <td>873</td>\n",
       "      <td>nicolas cage comes up with an ingenious surviv...</td>\n",
       "      <td>bruckheimer</td>\n",
       "    </tr>\n",
       "    <tr>\n",
       "      <th>1313</th>\n",
       "      <td>[the, stereotypical, american, male, has, an, ...</td>\n",
       "      <td>neg</td>\n",
       "      <td>925</td>\n",
       "      <td>the stereotypical american male has an undenia...</td>\n",
       "      <td>bruckheimer</td>\n",
       "    </tr>\n",
       "    <tr>\n",
       "      <th>1413</th>\n",
       "      <td>[by, -, the, -, numbers, :, a, film, which, in...</td>\n",
       "      <td>neg</td>\n",
       "      <td>999</td>\n",
       "      <td>by - the - numbers : a film which introduces c...</td>\n",
       "      <td>bruckheimer</td>\n",
       "    </tr>\n",
       "    <tr>\n",
       "      <th>1824</th>\n",
       "      <td>[new, address, ., same, old, attitude, ., don,...</td>\n",
       "      <td>neg</td>\n",
       "      <td>1167</td>\n",
       "      <td>new address . same old attitude . don ' t forg...</td>\n",
       "      <td>bruckheimer</td>\n",
       "    </tr>\n",
       "  </tbody>\n",
       "</table>\n",
       "</div>"
      ],
      "text/plain": [
       "                                                  words category  nWords  \\\n",
       "16    [director, dominic, sena, (, who, made, the, h...      pos     754   \n",
       "47    [the, comet, -, disaster, flick, is, a, disast...      neg     241   \n",
       "167   [warner, brothers, ;, rated, pg, -, 13, (, mil...      neg    1015   \n",
       "215   [for, a, good, ten, years, or, so, ,, super, c...      neg     462   \n",
       "654   [if, i, were, to, plot, a, graph, of, year, ag...      neg     928   \n",
       "875   [nicolas, cage, comes, up, with, an, ingenious...      neg     873   \n",
       "1313  [the, stereotypical, american, male, has, an, ...      neg     925   \n",
       "1413  [by, -, the, -, numbers, :, a, film, which, in...      neg     999   \n",
       "1824  [new, address, ., same, old, attitude, ., don,...      neg    1167   \n",
       "\n",
       "                                                 review   searchWord  \n",
       "16    director dominic sena ( who made the highly un...  bruckheimer  \n",
       "47    the comet - disaster flick is a disaster alrig...  bruckheimer  \n",
       "167   warner brothers ; rated pg - 13 ( mild violenc...  bruckheimer  \n",
       "215   for a good ten years or so , super cool chow y...  bruckheimer  \n",
       "654   if i were to plot a graph of year against movi...  bruckheimer  \n",
       "875   nicolas cage comes up with an ingenious surviv...  bruckheimer  \n",
       "1313  the stereotypical american male has an undenia...  bruckheimer  \n",
       "1413  by - the - numbers : a film which introduces c...  bruckheimer  \n",
       "1824  new address . same old attitude . don ' t forg...  bruckheimer  "
      ]
     },
     "execution_count": 218,
     "metadata": {},
     "output_type": "execute_result"
    }
   ],
   "source": [
    "searchResultReviews"
   ]
  },
  {
   "cell_type": "code",
   "execution_count": 219,
   "metadata": {},
   "outputs": [
    {
     "data": {
      "text/plain": [
       "category\n",
       "neg    8\n",
       "pos    1\n",
       "Name: words, dtype: int64"
      ]
     },
     "execution_count": 219,
     "metadata": {},
     "output_type": "execute_result"
    }
   ],
   "source": [
    "searchResultReviews.groupby(by=['category'])['words'].count()"
   ]
  },
  {
   "cell_type": "markdown",
   "metadata": {},
   "source": [
    "Jerome Bruckheimer - an American film and television producer is well-known television series (CSI: Crime Scene Investigation, CSI: Miami, CSI: NY, Without a Trace, and Cold Case), and a host of films (Flashdance, Top Gun, The Rock, Con Air, Armageddon, Kangaroo Jack, Enemy of the State, Black Hawk Down, Pearl Harbor, and the Beverly Hills Cop, Bad Boys, Pirates of the Caribbean and National Treasure franchises). Despite box-office success, many of Bruckheimer's movies are widely criticized by reviewers.\n",
    "\n",
    "Of the 9 reviews in the training set that contain the word 'Bruckheimer', only one is positive. Of the 8 negative reviews, 3 are about the film 'Armageddon'. The other negative reviews mention 'Con Air', 'Gone in 60 Seconds', 'By-The-Numbers', 'Message In A Bottle' and 'Replacement Killers'.\n",
    "\n",
    "Although the reviews in the training set are overwhelmingly negative, 9 mentions in 1900 is a pretty small sample."
   ]
  },
  {
   "cell_type": "markdown",
   "metadata": {},
   "source": [
    "#### contains(nonsensical)"
   ]
  },
  {
   "cell_type": "code",
   "execution_count": 220,
   "metadata": {},
   "outputs": [
    {
     "data": {
      "text/plain": [
       "7"
      ]
     },
     "execution_count": 220,
     "metadata": {},
     "output_type": "execute_result"
    }
   ],
   "source": [
    "searchWord='nonsensical'\n",
    "searchResultReviews,nReviews=findReviews(searchWord,corpusDf)\n",
    "searchResultReviews=searchResultReviews.copy()\n",
    "searchResultReviews['searchWord']=searchWord\n",
    "searchResultReviews.to_csv(outputFileHandle,sep='|',header=False)\n",
    "nReviews"
   ]
  },
  {
   "cell_type": "code",
   "execution_count": 221,
   "metadata": {},
   "outputs": [
    {
     "data": {
      "text/html": [
       "<div>\n",
       "<style>\n",
       "    .dataframe thead tr:only-child th {\n",
       "        text-align: right;\n",
       "    }\n",
       "\n",
       "    .dataframe thead th {\n",
       "        text-align: left;\n",
       "    }\n",
       "\n",
       "    .dataframe tbody tr th {\n",
       "        vertical-align: top;\n",
       "    }\n",
       "</style>\n",
       "<table border=\"1\" class=\"dataframe\">\n",
       "  <thead>\n",
       "    <tr style=\"text-align: right;\">\n",
       "      <th></th>\n",
       "      <th>words</th>\n",
       "      <th>category</th>\n",
       "      <th>nWords</th>\n",
       "      <th>review</th>\n",
       "      <th>searchWord</th>\n",
       "    </tr>\n",
       "  </thead>\n",
       "  <tbody>\n",
       "    <tr>\n",
       "      <th>253</th>\n",
       "      <td>[steve, martin, took, an, extended, vacation, ...</td>\n",
       "      <td>pos</td>\n",
       "      <td>1012</td>\n",
       "      <td>steve martin took an extended vacation from al...</td>\n",
       "      <td>nonsensical</td>\n",
       "    </tr>\n",
       "    <tr>\n",
       "      <th>315</th>\n",
       "      <td>[\", there, will, be, another, ,, \", the, ads, ...</td>\n",
       "      <td>neg</td>\n",
       "      <td>891</td>\n",
       "      <td>\" there will be another , \" the ads for this s...</td>\n",
       "      <td>nonsensical</td>\n",
       "    </tr>\n",
       "    <tr>\n",
       "      <th>337</th>\n",
       "      <td>[if, you, ', ve, been, following, william, fic...</td>\n",
       "      <td>neg</td>\n",
       "      <td>497</td>\n",
       "      <td>if you ' ve been following william fichtner ' ...</td>\n",
       "      <td>nonsensical</td>\n",
       "    </tr>\n",
       "    <tr>\n",
       "      <th>382</th>\n",
       "      <td>[reindeer, games, is, easily, the, worst, of, ...</td>\n",
       "      <td>neg</td>\n",
       "      <td>1503</td>\n",
       "      <td>reindeer games is easily the worst of the thre...</td>\n",
       "      <td>nonsensical</td>\n",
       "    </tr>\n",
       "    <tr>\n",
       "      <th>722</th>\n",
       "      <td>[in, the, year, 2029, ,, captain, leo, davidso...</td>\n",
       "      <td>neg</td>\n",
       "      <td>733</td>\n",
       "      <td>in the year 2029 , captain leo davidson ( mark...</td>\n",
       "      <td>nonsensical</td>\n",
       "    </tr>\n",
       "    <tr>\n",
       "      <th>992</th>\n",
       "      <td>[\", the, world, on, land, --, it, ', s, just, ...</td>\n",
       "      <td>neg</td>\n",
       "      <td>832</td>\n",
       "      <td>\" the world on land -- it ' s just too big for...</td>\n",
       "      <td>nonsensical</td>\n",
       "    </tr>\n",
       "    <tr>\n",
       "      <th>1669</th>\n",
       "      <td>[when, i, arrived, in, paris, in, june, ,, 199...</td>\n",
       "      <td>neg</td>\n",
       "      <td>532</td>\n",
       "      <td>when i arrived in paris in june , 1992 , i was...</td>\n",
       "      <td>nonsensical</td>\n",
       "    </tr>\n",
       "  </tbody>\n",
       "</table>\n",
       "</div>"
      ],
      "text/plain": [
       "                                                  words category  nWords  \\\n",
       "253   [steve, martin, took, an, extended, vacation, ...      pos    1012   \n",
       "315   [\", there, will, be, another, ,, \", the, ads, ...      neg     891   \n",
       "337   [if, you, ', ve, been, following, william, fic...      neg     497   \n",
       "382   [reindeer, games, is, easily, the, worst, of, ...      neg    1503   \n",
       "722   [in, the, year, 2029, ,, captain, leo, davidso...      neg     733   \n",
       "992   [\", the, world, on, land, --, it, ', s, just, ...      neg     832   \n",
       "1669  [when, i, arrived, in, paris, in, june, ,, 199...      neg     532   \n",
       "\n",
       "                                                 review   searchWord  \n",
       "253   steve martin took an extended vacation from al...  nonsensical  \n",
       "315   \" there will be another , \" the ads for this s...  nonsensical  \n",
       "337   if you ' ve been following william fichtner ' ...  nonsensical  \n",
       "382   reindeer games is easily the worst of the thre...  nonsensical  \n",
       "722   in the year 2029 , captain leo davidson ( mark...  nonsensical  \n",
       "992   \" the world on land -- it ' s just too big for...  nonsensical  \n",
       "1669  when i arrived in paris in june , 1992 , i was...  nonsensical  "
      ]
     },
     "execution_count": 221,
     "metadata": {},
     "output_type": "execute_result"
    }
   ],
   "source": [
    "searchResultReviews"
   ]
  },
  {
   "cell_type": "code",
   "execution_count": 222,
   "metadata": {},
   "outputs": [
    {
     "data": {
      "text/plain": [
       "category\n",
       "neg    6\n",
       "pos    1\n",
       "Name: words, dtype: int64"
      ]
     },
     "execution_count": 222,
     "metadata": {},
     "output_type": "execute_result"
    }
   ],
   "source": [
    "searchResultReviews.groupby(by=['category'])['words'].count()"
   ]
  },
  {
   "cell_type": "markdown",
   "metadata": {},
   "source": [
    "'Nonsensical' is found in 7 reviews, 6 of which are negative. This term is usually used to convey something negative."
   ]
  },
  {
   "cell_type": "markdown",
   "metadata": {},
   "source": [
    "#### contains(maxwell)"
   ]
  },
  {
   "cell_type": "code",
   "execution_count": 223,
   "metadata": {},
   "outputs": [
    {
     "data": {
      "text/plain": [
       "7"
      ]
     },
     "execution_count": 223,
     "metadata": {},
     "output_type": "execute_result"
    }
   ],
   "source": [
    "searchWord='maxwell'\n",
    "searchResultReviews,nReviews=findReviews(searchWord,corpusDf)n\n",
    "searchResultReviews=searchResultReviews.copy()\n",
    "searchResultReviews['searchWord']=searchWord\n",
    "searchResultReviews.to_csv(outputFileHandle,sep='|',header=False)\n",
    "nReviews"
   ]
  },
  {
   "cell_type": "code",
   "execution_count": 224,
   "metadata": {},
   "outputs": [
    {
     "data": {
      "text/html": [
       "<div>\n",
       "<style>\n",
       "    .dataframe thead tr:only-child th {\n",
       "        text-align: right;\n",
       "    }\n",
       "\n",
       "    .dataframe thead th {\n",
       "        text-align: left;\n",
       "    }\n",
       "\n",
       "    .dataframe tbody tr th {\n",
       "        vertical-align: top;\n",
       "    }\n",
       "</style>\n",
       "<table border=\"1\" class=\"dataframe\">\n",
       "  <thead>\n",
       "    <tr style=\"text-align: right;\">\n",
       "      <th></th>\n",
       "      <th>words</th>\n",
       "      <th>category</th>\n",
       "      <th>nWords</th>\n",
       "      <th>review</th>\n",
       "      <th>searchWord</th>\n",
       "    </tr>\n",
       "  </thead>\n",
       "  <tbody>\n",
       "    <tr>\n",
       "      <th>2</th>\n",
       "      <td>[the, real, blonde, (, r, ), a, woman, ', s, f...</td>\n",
       "      <td>neg</td>\n",
       "      <td>680</td>\n",
       "      <td>the real blonde ( r ) a woman ' s face , an ar...</td>\n",
       "      <td>maxwell</td>\n",
       "    </tr>\n",
       "    <tr>\n",
       "      <th>50</th>\n",
       "      <td>[in, the, james, bond, film, \", diamonds, are,...</td>\n",
       "      <td>neg</td>\n",
       "      <td>752</td>\n",
       "      <td>in the james bond film \" diamonds are forever ...</td>\n",
       "      <td>maxwell</td>\n",
       "    </tr>\n",
       "    <tr>\n",
       "      <th>616</th>\n",
       "      <td>[it, may, seem, weird, to, begin, a, film, abo...</td>\n",
       "      <td>pos</td>\n",
       "      <td>2164</td>\n",
       "      <td>it may seem weird to begin a film about glam r...</td>\n",
       "      <td>maxwell</td>\n",
       "    </tr>\n",
       "    <tr>\n",
       "      <th>1087</th>\n",
       "      <td>[whether, you, like, the, beatles, or, not, ,,...</td>\n",
       "      <td>neg</td>\n",
       "      <td>811</td>\n",
       "      <td>whether you like the beatles or not , nobody w...</td>\n",
       "      <td>maxwell</td>\n",
       "    </tr>\n",
       "    <tr>\n",
       "      <th>1355</th>\n",
       "      <td>[hav, plenty, ,, as, we, are, told, in, the, b...</td>\n",
       "      <td>neg</td>\n",
       "      <td>411</td>\n",
       "      <td>hav plenty , as we are told in the beginning a...</td>\n",
       "      <td>maxwell</td>\n",
       "    </tr>\n",
       "    <tr>\n",
       "      <th>1523</th>\n",
       "      <td>[tom, dicillo, directs, this, superficial, com...</td>\n",
       "      <td>neg</td>\n",
       "      <td>447</td>\n",
       "      <td>tom dicillo directs this superficial comedy ab...</td>\n",
       "      <td>maxwell</td>\n",
       "    </tr>\n",
       "    <tr>\n",
       "      <th>1524</th>\n",
       "      <td>[\", mandingo, \", has, traditionally, been, see...</td>\n",
       "      <td>neg</td>\n",
       "      <td>1512</td>\n",
       "      <td>\" mandingo \" has traditionally been seen as on...</td>\n",
       "      <td>maxwell</td>\n",
       "    </tr>\n",
       "  </tbody>\n",
       "</table>\n",
       "</div>"
      ],
      "text/plain": [
       "                                                  words category  nWords  \\\n",
       "2     [the, real, blonde, (, r, ), a, woman, ', s, f...      neg     680   \n",
       "50    [in, the, james, bond, film, \", diamonds, are,...      neg     752   \n",
       "616   [it, may, seem, weird, to, begin, a, film, abo...      pos    2164   \n",
       "1087  [whether, you, like, the, beatles, or, not, ,,...      neg     811   \n",
       "1355  [hav, plenty, ,, as, we, are, told, in, the, b...      neg     411   \n",
       "1523  [tom, dicillo, directs, this, superficial, com...      neg     447   \n",
       "1524  [\", mandingo, \", has, traditionally, been, see...      neg    1512   \n",
       "\n",
       "                                                 review searchWord  \n",
       "2     the real blonde ( r ) a woman ' s face , an ar...    maxwell  \n",
       "50    in the james bond film \" diamonds are forever ...    maxwell  \n",
       "616   it may seem weird to begin a film about glam r...    maxwell  \n",
       "1087  whether you like the beatles or not , nobody w...    maxwell  \n",
       "1355  hav plenty , as we are told in the beginning a...    maxwell  \n",
       "1523  tom dicillo directs this superficial comedy ab...    maxwell  \n",
       "1524  \" mandingo \" has traditionally been seen as on...    maxwell  "
      ]
     },
     "execution_count": 224,
     "metadata": {},
     "output_type": "execute_result"
    }
   ],
   "source": [
    "searchResultReviews"
   ]
  },
  {
   "cell_type": "code",
   "execution_count": 225,
   "metadata": {},
   "outputs": [
    {
     "data": {
      "text/plain": [
       "category\n",
       "neg    6\n",
       "pos    1\n",
       "Name: words, dtype: int64"
      ]
     },
     "execution_count": 225,
     "metadata": {},
     "output_type": "execute_result"
    }
   ],
   "source": [
    "searchResultReviews.groupby(by=['category'])['words'].count()"
   ]
  },
  {
   "cell_type": "markdown",
   "metadata": {},
   "source": [
    "'Maxwell' found in names that appear in 7 different reviews, 6 of which are negative. This feature appears to be spurious."
   ]
  },
  {
   "cell_type": "markdown",
   "metadata": {},
   "source": [
    "#### contains(locks)"
   ]
  },
  {
   "cell_type": "code",
   "execution_count": 226,
   "metadata": {},
   "outputs": [
    {
     "data": {
      "text/plain": [
       "7"
      ]
     },
     "execution_count": 226,
     "metadata": {},
     "output_type": "execute_result"
    }
   ],
   "source": [
    "searchWord='locks'\n",
    "searchResultReviews,nReviews=findReviews(searchWord,corpusDf)\n",
    "searchResultReviews=searchResultReviews.copy()\n",
    "searchResultReviews['searchWord']=searchWord\n",
    "searchResultReviews.to_csv(outputFileHandle,sep='|',header=False)\n",
    "nReviews"
   ]
  },
  {
   "cell_type": "code",
   "execution_count": 227,
   "metadata": {},
   "outputs": [
    {
     "data": {
      "text/html": [
       "<div>\n",
       "<style>\n",
       "    .dataframe thead tr:only-child th {\n",
       "        text-align: right;\n",
       "    }\n",
       "\n",
       "    .dataframe thead th {\n",
       "        text-align: left;\n",
       "    }\n",
       "\n",
       "    .dataframe tbody tr th {\n",
       "        vertical-align: top;\n",
       "    }\n",
       "</style>\n",
       "<table border=\"1\" class=\"dataframe\">\n",
       "  <thead>\n",
       "    <tr style=\"text-align: right;\">\n",
       "      <th></th>\n",
       "      <th>words</th>\n",
       "      <th>category</th>\n",
       "      <th>nWords</th>\n",
       "      <th>review</th>\n",
       "      <th>searchWord</th>\n",
       "    </tr>\n",
       "  </thead>\n",
       "  <tbody>\n",
       "    <tr>\n",
       "      <th>82</th>\n",
       "      <td>[by, starring, in, amy, heckerling, ', s, \", c...</td>\n",
       "      <td>neg</td>\n",
       "      <td>787</td>\n",
       "      <td>by starring in amy heckerling ' s \" clueless \"...</td>\n",
       "      <td>locks</td>\n",
       "    </tr>\n",
       "    <tr>\n",
       "      <th>277</th>\n",
       "      <td>[to, put, it, bluntly, ,, ed, wood, would, hav...</td>\n",
       "      <td>neg</td>\n",
       "      <td>586</td>\n",
       "      <td>to put it bluntly , ed wood would have been pr...</td>\n",
       "      <td>locks</td>\n",
       "    </tr>\n",
       "    <tr>\n",
       "      <th>571</th>\n",
       "      <td>[ripe, with, explosions, ,, mass, death, and, ...</td>\n",
       "      <td>neg</td>\n",
       "      <td>618</td>\n",
       "      <td>ripe with explosions , mass death and really w...</td>\n",
       "      <td>locks</td>\n",
       "    </tr>\n",
       "    <tr>\n",
       "      <th>1301</th>\n",
       "      <td>[the, spy, game, is, up, ., you, can, thank, c...</td>\n",
       "      <td>neg</td>\n",
       "      <td>742</td>\n",
       "      <td>the spy game is up . you can thank charlie ' s...</td>\n",
       "      <td>locks</td>\n",
       "    </tr>\n",
       "    <tr>\n",
       "      <th>1553</th>\n",
       "      <td>[say, ,, tell, me, if, you, ', ve, seen, this,...</td>\n",
       "      <td>neg</td>\n",
       "      <td>239</td>\n",
       "      <td>say , tell me if you ' ve seen this before : a...</td>\n",
       "      <td>locks</td>\n",
       "    </tr>\n",
       "    <tr>\n",
       "      <th>1581</th>\n",
       "      <td>[one, of, the, funniest, carry, on, movies, an...</td>\n",
       "      <td>pos</td>\n",
       "      <td>518</td>\n",
       "      <td>one of the funniest carry on movies and the th...</td>\n",
       "      <td>locks</td>\n",
       "    </tr>\n",
       "    <tr>\n",
       "      <th>1604</th>\n",
       "      <td>[miramax, \", disinvited, \", on, -, line, media...</td>\n",
       "      <td>neg</td>\n",
       "      <td>1099</td>\n",
       "      <td>miramax \" disinvited \" on - line media from pr...</td>\n",
       "      <td>locks</td>\n",
       "    </tr>\n",
       "  </tbody>\n",
       "</table>\n",
       "</div>"
      ],
      "text/plain": [
       "                                                  words category  nWords  \\\n",
       "82    [by, starring, in, amy, heckerling, ', s, \", c...      neg     787   \n",
       "277   [to, put, it, bluntly, ,, ed, wood, would, hav...      neg     586   \n",
       "571   [ripe, with, explosions, ,, mass, death, and, ...      neg     618   \n",
       "1301  [the, spy, game, is, up, ., you, can, thank, c...      neg     742   \n",
       "1553  [say, ,, tell, me, if, you, ', ve, seen, this,...      neg     239   \n",
       "1581  [one, of, the, funniest, carry, on, movies, an...      pos     518   \n",
       "1604  [miramax, \", disinvited, \", on, -, line, media...      neg    1099   \n",
       "\n",
       "                                                 review searchWord  \n",
       "82    by starring in amy heckerling ' s \" clueless \"...      locks  \n",
       "277   to put it bluntly , ed wood would have been pr...      locks  \n",
       "571   ripe with explosions , mass death and really w...      locks  \n",
       "1301  the spy game is up . you can thank charlie ' s...      locks  \n",
       "1553  say , tell me if you ' ve seen this before : a...      locks  \n",
       "1581  one of the funniest carry on movies and the th...      locks  \n",
       "1604  miramax \" disinvited \" on - line media from pr...      locks  "
      ]
     },
     "execution_count": 227,
     "metadata": {},
     "output_type": "execute_result"
    }
   ],
   "source": [
    "searchResultReviews"
   ]
  },
  {
   "cell_type": "code",
   "execution_count": 228,
   "metadata": {},
   "outputs": [
    {
     "data": {
      "text/plain": [
       "category\n",
       "neg    6\n",
       "pos    1\n",
       "Name: words, dtype: int64"
      ]
     },
     "execution_count": 228,
     "metadata": {},
     "output_type": "execute_result"
    }
   ],
   "source": [
    "searchResultReviews.groupby(by=['category'])['words'].count()"
   ]
  },
  {
   "cell_type": "markdown",
   "metadata": {},
   "source": [
    "The word, 'locks', is used in 7 reviews, 6 of which are negative. No pattern is evident. This feature seems spurious."
   ]
  },
  {
   "cell_type": "markdown",
   "metadata": {},
   "source": [
    "#### contains(tripe)"
   ]
  },
  {
   "cell_type": "code",
   "execution_count": 229,
   "metadata": {},
   "outputs": [
    {
     "data": {
      "text/plain": [
       "11"
      ]
     },
     "execution_count": 229,
     "metadata": {},
     "output_type": "execute_result"
    }
   ],
   "source": [
    "searchWord='tripe'\n",
    "searchResultReviews,nReviews=findReviews(searchWord,corpusDf)\n",
    "searchResultReviews=searchResultReviews.copy()\n",
    "searchResultReviews['searchWord']=searchWord\n",
    "searchResultReviews.to_csv(outputFileHandle,sep='|',header=False)\n",
    "nReviews"
   ]
  },
  {
   "cell_type": "code",
   "execution_count": 230,
   "metadata": {},
   "outputs": [
    {
     "data": {
      "text/html": [
       "<div>\n",
       "<style>\n",
       "    .dataframe thead tr:only-child th {\n",
       "        text-align: right;\n",
       "    }\n",
       "\n",
       "    .dataframe thead th {\n",
       "        text-align: left;\n",
       "    }\n",
       "\n",
       "    .dataframe tbody tr th {\n",
       "        vertical-align: top;\n",
       "    }\n",
       "</style>\n",
       "<table border=\"1\" class=\"dataframe\">\n",
       "  <thead>\n",
       "    <tr style=\"text-align: right;\">\n",
       "      <th></th>\n",
       "      <th>words</th>\n",
       "      <th>category</th>\n",
       "      <th>nWords</th>\n",
       "      <th>review</th>\n",
       "      <th>searchWord</th>\n",
       "    </tr>\n",
       "  </thead>\n",
       "  <tbody>\n",
       "    <tr>\n",
       "      <th>28</th>\n",
       "      <td>[let, me, open, this, one, with, a, confession...</td>\n",
       "      <td>pos</td>\n",
       "      <td>1613</td>\n",
       "      <td>let me open this one with a confession : i lov...</td>\n",
       "      <td>tripe</td>\n",
       "    </tr>\n",
       "    <tr>\n",
       "      <th>704</th>\n",
       "      <td>[after, enduring, mariah, carey, ', s, film, d...</td>\n",
       "      <td>neg</td>\n",
       "      <td>753</td>\n",
       "      <td>after enduring mariah carey ' s film debut , g...</td>\n",
       "      <td>tripe</td>\n",
       "    </tr>\n",
       "    <tr>\n",
       "      <th>835</th>\n",
       "      <td>[capsule, :, an, insult, ., a, stupid, and, in...</td>\n",
       "      <td>neg</td>\n",
       "      <td>882</td>\n",
       "      <td>capsule : an insult . a stupid and incompetent...</td>\n",
       "      <td>tripe</td>\n",
       "    </tr>\n",
       "    <tr>\n",
       "      <th>970</th>\n",
       "      <td>[chris, tucker, is, one, of, those, guys, you,...</td>\n",
       "      <td>neg</td>\n",
       "      <td>889</td>\n",
       "      <td>chris tucker is one of those guys you immediat...</td>\n",
       "      <td>tripe</td>\n",
       "    </tr>\n",
       "    <tr>\n",
       "      <th>1057</th>\n",
       "      <td>[the, realm, of, science, fiction, has, always...</td>\n",
       "      <td>neg</td>\n",
       "      <td>1369</td>\n",
       "      <td>the realm of science fiction has always been a...</td>\n",
       "      <td>tripe</td>\n",
       "    </tr>\n",
       "    <tr>\n",
       "      <th>1064</th>\n",
       "      <td>[mickey, mouse, had, better, watch, his, back,...</td>\n",
       "      <td>pos</td>\n",
       "      <td>761</td>\n",
       "      <td>mickey mouse had better watch his back -- ther...</td>\n",
       "      <td>tripe</td>\n",
       "    </tr>\n",
       "    <tr>\n",
       "      <th>1104</th>\n",
       "      <td>[come, on, hollywood, ,, surprise, me, ., stop...</td>\n",
       "      <td>neg</td>\n",
       "      <td>630</td>\n",
       "      <td>come on hollywood , surprise me . stop giving ...</td>\n",
       "      <td>tripe</td>\n",
       "    </tr>\n",
       "    <tr>\n",
       "      <th>1174</th>\n",
       "      <td>[if, anything, ,, \", stigmata, \", should, be, ...</td>\n",
       "      <td>neg</td>\n",
       "      <td>1701</td>\n",
       "      <td>if anything , \" stigmata \" should be taken as ...</td>\n",
       "      <td>tripe</td>\n",
       "    </tr>\n",
       "    <tr>\n",
       "      <th>1344</th>\n",
       "      <td>[one, of, my, brother, ', s, favorite, movies,...</td>\n",
       "      <td>neg</td>\n",
       "      <td>675</td>\n",
       "      <td>one of my brother ' s favorite movies is h . b...</td>\n",
       "      <td>tripe</td>\n",
       "    </tr>\n",
       "    <tr>\n",
       "      <th>1452</th>\n",
       "      <td>[you, don, ', t, need, to, have, seen, the, or...</td>\n",
       "      <td>neg</td>\n",
       "      <td>682</td>\n",
       "      <td>you don ' t need to have seen the original \" s...</td>\n",
       "      <td>tripe</td>\n",
       "    </tr>\n",
       "    <tr>\n",
       "      <th>1772</th>\n",
       "      <td>[let, ', s, get, this, one, over, with, as, qu...</td>\n",
       "      <td>neg</td>\n",
       "      <td>1818</td>\n",
       "      <td>let ' s get this one over with as quickly as p...</td>\n",
       "      <td>tripe</td>\n",
       "    </tr>\n",
       "  </tbody>\n",
       "</table>\n",
       "</div>"
      ],
      "text/plain": [
       "                                                  words category  nWords  \\\n",
       "28    [let, me, open, this, one, with, a, confession...      pos    1613   \n",
       "704   [after, enduring, mariah, carey, ', s, film, d...      neg     753   \n",
       "835   [capsule, :, an, insult, ., a, stupid, and, in...      neg     882   \n",
       "970   [chris, tucker, is, one, of, those, guys, you,...      neg     889   \n",
       "1057  [the, realm, of, science, fiction, has, always...      neg    1369   \n",
       "1064  [mickey, mouse, had, better, watch, his, back,...      pos     761   \n",
       "1104  [come, on, hollywood, ,, surprise, me, ., stop...      neg     630   \n",
       "1174  [if, anything, ,, \", stigmata, \", should, be, ...      neg    1701   \n",
       "1344  [one, of, my, brother, ', s, favorite, movies,...      neg     675   \n",
       "1452  [you, don, ', t, need, to, have, seen, the, or...      neg     682   \n",
       "1772  [let, ', s, get, this, one, over, with, as, qu...      neg    1818   \n",
       "\n",
       "                                                 review searchWord  \n",
       "28    let me open this one with a confession : i lov...      tripe  \n",
       "704   after enduring mariah carey ' s film debut , g...      tripe  \n",
       "835   capsule : an insult . a stupid and incompetent...      tripe  \n",
       "970   chris tucker is one of those guys you immediat...      tripe  \n",
       "1057  the realm of science fiction has always been a...      tripe  \n",
       "1064  mickey mouse had better watch his back -- ther...      tripe  \n",
       "1104  come on hollywood , surprise me . stop giving ...      tripe  \n",
       "1174  if anything , \" stigmata \" should be taken as ...      tripe  \n",
       "1344  one of my brother ' s favorite movies is h . b...      tripe  \n",
       "1452  you don ' t need to have seen the original \" s...      tripe  \n",
       "1772  let ' s get this one over with as quickly as p...      tripe  "
      ]
     },
     "execution_count": 230,
     "metadata": {},
     "output_type": "execute_result"
    }
   ],
   "source": [
    "searchResultReviews"
   ]
  },
  {
   "cell_type": "code",
   "execution_count": 231,
   "metadata": {},
   "outputs": [
    {
     "data": {
      "text/plain": [
       "category\n",
       "neg    9\n",
       "pos    2\n",
       "Name: words, dtype: int64"
      ]
     },
     "execution_count": 231,
     "metadata": {},
     "output_type": "execute_result"
    }
   ],
   "source": [
    "searchResultReviews.groupby(by=['category'])['words'].count()"
   ]
  },
  {
   "cell_type": "markdown",
   "metadata": {},
   "source": [
    "'Tripe' is used in 11 reviews, 9 of which are negative. This word clearly has a negative connotation."
   ]
  },
  {
   "cell_type": "markdown",
   "metadata": {},
   "source": [
    "#### contains(errors)"
   ]
  },
  {
   "cell_type": "code",
   "execution_count": 232,
   "metadata": {},
   "outputs": [
    {
     "data": {
      "text/plain": [
       "6"
      ]
     },
     "execution_count": 232,
     "metadata": {},
     "output_type": "execute_result"
    }
   ],
   "source": [
    "searchWord='errors'\n",
    "searchResultReviews,nReviews=findReviews(searchWord,corpusDf)\n",
    "searchResultReviews=searchResultReviews.copy()\n",
    "searchResultReviews['searchWord']=searchWord\n",
    "searchResultReviews.to_csv(outputFileHandle,sep='|',header=False)\n",
    "nReviews"
   ]
  },
  {
   "cell_type": "code",
   "execution_count": 233,
   "metadata": {},
   "outputs": [
    {
     "data": {
      "text/html": [
       "<div>\n",
       "<style>\n",
       "    .dataframe thead tr:only-child th {\n",
       "        text-align: right;\n",
       "    }\n",
       "\n",
       "    .dataframe thead th {\n",
       "        text-align: left;\n",
       "    }\n",
       "\n",
       "    .dataframe tbody tr th {\n",
       "        vertical-align: top;\n",
       "    }\n",
       "</style>\n",
       "<table border=\"1\" class=\"dataframe\">\n",
       "  <thead>\n",
       "    <tr style=\"text-align: right;\">\n",
       "      <th></th>\n",
       "      <th>words</th>\n",
       "      <th>category</th>\n",
       "      <th>nWords</th>\n",
       "      <th>review</th>\n",
       "      <th>searchWord</th>\n",
       "    </tr>\n",
       "  </thead>\n",
       "  <tbody>\n",
       "    <tr>\n",
       "      <th>116</th>\n",
       "      <td>[from, a, major, league, baseball, radio, broa...</td>\n",
       "      <td>neg</td>\n",
       "      <td>1213</td>\n",
       "      <td>from a major league baseball radio broadcast ,...</td>\n",
       "      <td>errors</td>\n",
       "    </tr>\n",
       "    <tr>\n",
       "      <th>164</th>\n",
       "      <td>[when, i, first, heard, about, scream, in, 199...</td>\n",
       "      <td>pos</td>\n",
       "      <td>761</td>\n",
       "      <td>when i first heard about scream in 1996 , i wa...</td>\n",
       "      <td>errors</td>\n",
       "    </tr>\n",
       "    <tr>\n",
       "      <th>271</th>\n",
       "      <td>[the, word, to, describe, sharon, stone, is, \"...</td>\n",
       "      <td>neg</td>\n",
       "      <td>311</td>\n",
       "      <td>the word to describe sharon stone is \" wonder ...</td>\n",
       "      <td>errors</td>\n",
       "    </tr>\n",
       "    <tr>\n",
       "      <th>755</th>\n",
       "      <td>[\", alcohol, and, drugs, =, bad, ., not, alcoh...</td>\n",
       "      <td>neg</td>\n",
       "      <td>858</td>\n",
       "      <td>\" alcohol and drugs = bad . not alcohol and dr...</td>\n",
       "      <td>errors</td>\n",
       "    </tr>\n",
       "    <tr>\n",
       "      <th>764</th>\n",
       "      <td>[i, didn, ', t, hate, the, big, hit, ,, even, ...</td>\n",
       "      <td>neg</td>\n",
       "      <td>1196</td>\n",
       "      <td>i didn ' t hate the big hit , even though it i...</td>\n",
       "      <td>errors</td>\n",
       "    </tr>\n",
       "    <tr>\n",
       "      <th>1358</th>\n",
       "      <td>[\", you, can, ', t, have, any, of, this, ., it...</td>\n",
       "      <td>neg</td>\n",
       "      <td>1464</td>\n",
       "      <td>\" you can ' t have any of this . it ' s all mi...</td>\n",
       "      <td>errors</td>\n",
       "    </tr>\n",
       "  </tbody>\n",
       "</table>\n",
       "</div>"
      ],
      "text/plain": [
       "                                                  words category  nWords  \\\n",
       "116   [from, a, major, league, baseball, radio, broa...      neg    1213   \n",
       "164   [when, i, first, heard, about, scream, in, 199...      pos     761   \n",
       "271   [the, word, to, describe, sharon, stone, is, \"...      neg     311   \n",
       "755   [\", alcohol, and, drugs, =, bad, ., not, alcoh...      neg     858   \n",
       "764   [i, didn, ', t, hate, the, big, hit, ,, even, ...      neg    1196   \n",
       "1358  [\", you, can, ', t, have, any, of, this, ., it...      neg    1464   \n",
       "\n",
       "                                                 review searchWord  \n",
       "116   from a major league baseball radio broadcast ,...     errors  \n",
       "164   when i first heard about scream in 1996 , i wa...     errors  \n",
       "271   the word to describe sharon stone is \" wonder ...     errors  \n",
       "755   \" alcohol and drugs = bad . not alcohol and dr...     errors  \n",
       "764   i didn ' t hate the big hit , even though it i...     errors  \n",
       "1358  \" you can ' t have any of this . it ' s all mi...     errors  "
      ]
     },
     "execution_count": 233,
     "metadata": {},
     "output_type": "execute_result"
    }
   ],
   "source": [
    "searchResultReviews"
   ]
  },
  {
   "cell_type": "code",
   "execution_count": 234,
   "metadata": {},
   "outputs": [
    {
     "data": {
      "text/plain": [
       "category\n",
       "neg    5\n",
       "pos    1\n",
       "Name: words, dtype: int64"
      ]
     },
     "execution_count": 234,
     "metadata": {},
     "output_type": "execute_result"
    }
   ],
   "source": [
    "searchResultReviews.groupby(by=['category'])['words'].count()"
   ]
  },
  {
   "cell_type": "markdown",
   "metadata": {},
   "source": [
    "'Errors' is found in 6 reviews, 5 of which are negative."
   ]
  },
  {
   "cell_type": "markdown",
   "metadata": {},
   "source": [
    "#### contains(quicker)"
   ]
  },
  {
   "cell_type": "code",
   "execution_count": 235,
   "metadata": {},
   "outputs": [
    {
     "data": {
      "text/plain": [
       "6"
      ]
     },
     "execution_count": 235,
     "metadata": {},
     "output_type": "execute_result"
    }
   ],
   "source": [
    "searchWord='quicker'\n",
    "searchResultReviews,nReviews=findReviews(searchWord,corpusDf)\n",
    "searchResultReviews=searchResultReviews.copy()\n",
    "searchResultReviews['searchWord']=searchWord\n",
    "searchResultReviews.to_csv(outputFileHandle,sep='|',header=False)\n",
    "nReviews"
   ]
  },
  {
   "cell_type": "code",
   "execution_count": 236,
   "metadata": {},
   "outputs": [
    {
     "data": {
      "text/html": [
       "<div>\n",
       "<style>\n",
       "    .dataframe thead tr:only-child th {\n",
       "        text-align: right;\n",
       "    }\n",
       "\n",
       "    .dataframe thead th {\n",
       "        text-align: left;\n",
       "    }\n",
       "\n",
       "    .dataframe tbody tr th {\n",
       "        vertical-align: top;\n",
       "    }\n",
       "</style>\n",
       "<table border=\"1\" class=\"dataframe\">\n",
       "  <thead>\n",
       "    <tr style=\"text-align: right;\">\n",
       "      <th></th>\n",
       "      <th>words</th>\n",
       "      <th>category</th>\n",
       "      <th>nWords</th>\n",
       "      <th>review</th>\n",
       "      <th>searchWord</th>\n",
       "    </tr>\n",
       "  </thead>\n",
       "  <tbody>\n",
       "    <tr>\n",
       "      <th>876</th>\n",
       "      <td>[plot, summary, :, the, year, is, 2024, ., the...</td>\n",
       "      <td>neg</td>\n",
       "      <td>1032</td>\n",
       "      <td>plot summary : the year is 2024 . the ozone la...</td>\n",
       "      <td>quicker</td>\n",
       "    </tr>\n",
       "    <tr>\n",
       "      <th>1048</th>\n",
       "      <td>[the, \", submarine, \", genre, of, movies, seem...</td>\n",
       "      <td>pos</td>\n",
       "      <td>690</td>\n",
       "      <td>the \" submarine \" genre of movies seems to be ...</td>\n",
       "      <td>quicker</td>\n",
       "    </tr>\n",
       "    <tr>\n",
       "      <th>1084</th>\n",
       "      <td>[\", holy, man, \", boasts, a, sweet, ,, gentle,...</td>\n",
       "      <td>neg</td>\n",
       "      <td>583</td>\n",
       "      <td>\" holy man \" boasts a sweet , gentle , comic p...</td>\n",
       "      <td>quicker</td>\n",
       "    </tr>\n",
       "    <tr>\n",
       "      <th>1642</th>\n",
       "      <td>[the, \", disney, stick, -, to, -, what, -, you...</td>\n",
       "      <td>neg</td>\n",
       "      <td>967</td>\n",
       "      <td>the \" disney stick - to - what - you - do - be...</td>\n",
       "      <td>quicker</td>\n",
       "    </tr>\n",
       "    <tr>\n",
       "      <th>1666</th>\n",
       "      <td>[drew, barrymore, is, beginning, to, corner, t...</td>\n",
       "      <td>neg</td>\n",
       "      <td>684</td>\n",
       "      <td>drew barrymore is beginning to corner the mark...</td>\n",
       "      <td>quicker</td>\n",
       "    </tr>\n",
       "    <tr>\n",
       "      <th>1676</th>\n",
       "      <td>[ironically, ,, one, of, the, themes, of, 200,...</td>\n",
       "      <td>neg</td>\n",
       "      <td>1100</td>\n",
       "      <td>ironically , one of the themes of 200 cigarett...</td>\n",
       "      <td>quicker</td>\n",
       "    </tr>\n",
       "  </tbody>\n",
       "</table>\n",
       "</div>"
      ],
      "text/plain": [
       "                                                  words category  nWords  \\\n",
       "876   [plot, summary, :, the, year, is, 2024, ., the...      neg    1032   \n",
       "1048  [the, \", submarine, \", genre, of, movies, seem...      pos     690   \n",
       "1084  [\", holy, man, \", boasts, a, sweet, ,, gentle,...      neg     583   \n",
       "1642  [the, \", disney, stick, -, to, -, what, -, you...      neg     967   \n",
       "1666  [drew, barrymore, is, beginning, to, corner, t...      neg     684   \n",
       "1676  [ironically, ,, one, of, the, themes, of, 200,...      neg    1100   \n",
       "\n",
       "                                                 review searchWord  \n",
       "876   plot summary : the year is 2024 . the ozone la...    quicker  \n",
       "1048  the \" submarine \" genre of movies seems to be ...    quicker  \n",
       "1084  \" holy man \" boasts a sweet , gentle , comic p...    quicker  \n",
       "1642  the \" disney stick - to - what - you - do - be...    quicker  \n",
       "1666  drew barrymore is beginning to corner the mark...    quicker  \n",
       "1676  ironically , one of the themes of 200 cigarett...    quicker  "
      ]
     },
     "execution_count": 236,
     "metadata": {},
     "output_type": "execute_result"
    }
   ],
   "source": [
    "searchResultReviews"
   ]
  },
  {
   "cell_type": "code",
   "execution_count": 237,
   "metadata": {},
   "outputs": [
    {
     "data": {
      "text/plain": [
       "category\n",
       "neg    5\n",
       "pos    1\n",
       "Name: words, dtype: int64"
      ]
     },
     "execution_count": 237,
     "metadata": {},
     "output_type": "execute_result"
    }
   ],
   "source": [
    "searchResultReviews.groupby(by=['category'])['words'].count()"
   ]
  },
  {
   "cell_type": "markdown",
   "metadata": {},
   "source": [
    "Although one can imagine that someone giving a negative review might indicate that they would have liked the movie to have been over 'quicker', most of the instances where this word is mentioned do not have a negative context. This feature appears to be spurious. This word appears in 6 reviews, 5 of which are negative."
   ]
  },
  {
   "cell_type": "markdown",
   "metadata": {},
   "source": [
    "#### contains(wcw)"
   ]
  },
  {
   "cell_type": "code",
   "execution_count": 238,
   "metadata": {},
   "outputs": [
    {
     "data": {
      "text/plain": [
       "6"
      ]
     },
     "execution_count": 238,
     "metadata": {},
     "output_type": "execute_result"
    }
   ],
   "source": [
    "searchWord='wcw'\n",
    "searchResultReviews,nReviews=findReviews(searchWord,corpusDf)\n",
    "searchResultReviews=searchResultReviews.copy()\n",
    "searchResultReviews['searchWord']=searchWord\n",
    "searchResultReviews.to_csv(outputFileHandle,sep='|',header=False)\n",
    "nReviews"
   ]
  },
  {
   "cell_type": "code",
   "execution_count": 239,
   "metadata": {},
   "outputs": [
    {
     "data": {
      "text/html": [
       "<div>\n",
       "<style>\n",
       "    .dataframe thead tr:only-child th {\n",
       "        text-align: right;\n",
       "    }\n",
       "\n",
       "    .dataframe thead th {\n",
       "        text-align: left;\n",
       "    }\n",
       "\n",
       "    .dataframe tbody tr th {\n",
       "        vertical-align: top;\n",
       "    }\n",
       "</style>\n",
       "<table border=\"1\" class=\"dataframe\">\n",
       "  <thead>\n",
       "    <tr style=\"text-align: right;\">\n",
       "      <th></th>\n",
       "      <th>words</th>\n",
       "      <th>category</th>\n",
       "      <th>nWords</th>\n",
       "      <th>review</th>\n",
       "      <th>searchWord</th>\n",
       "    </tr>\n",
       "  </thead>\n",
       "  <tbody>\n",
       "    <tr>\n",
       "      <th>34</th>\n",
       "      <td>[gordie, boggs, (, arquette, ,, aptly, cast, a...</td>\n",
       "      <td>neg</td>\n",
       "      <td>785</td>\n",
       "      <td>gordie boggs ( arquette , aptly cast as a moro...</td>\n",
       "      <td>wcw</td>\n",
       "    </tr>\n",
       "    <tr>\n",
       "      <th>45</th>\n",
       "      <td>[an, 80, -, year, old, woman, jumps, enthusias...</td>\n",
       "      <td>neg</td>\n",
       "      <td>984</td>\n",
       "      <td>an 80 - year old woman jumps enthusiastically ...</td>\n",
       "      <td>wcw</td>\n",
       "    </tr>\n",
       "    <tr>\n",
       "      <th>549</th>\n",
       "      <td>[ready, to, rumble, is, not, a, masterpiece, i...</td>\n",
       "      <td>neg</td>\n",
       "      <td>1060</td>\n",
       "      <td>ready to rumble is not a masterpiece in film ;...</td>\n",
       "      <td>wcw</td>\n",
       "    </tr>\n",
       "    <tr>\n",
       "      <th>599</th>\n",
       "      <td>[well, lets, see, ., ., ., i, ', m, not, quite...</td>\n",
       "      <td>neg</td>\n",
       "      <td>497</td>\n",
       "      <td>well lets see . . . i ' m not quite sure how t...</td>\n",
       "      <td>wcw</td>\n",
       "    </tr>\n",
       "    <tr>\n",
       "      <th>781</th>\n",
       "      <td>[harmless, ,, silly, and, fun, comedy, about, ...</td>\n",
       "      <td>pos</td>\n",
       "      <td>497</td>\n",
       "      <td>harmless , silly and fun comedy about dim - wi...</td>\n",
       "      <td>wcw</td>\n",
       "    </tr>\n",
       "    <tr>\n",
       "      <th>1348</th>\n",
       "      <td>[let, me, just, start, this, review, off, by, ...</td>\n",
       "      <td>neg</td>\n",
       "      <td>939</td>\n",
       "      <td>let me just start this review off by saying i ...</td>\n",
       "      <td>wcw</td>\n",
       "    </tr>\n",
       "  </tbody>\n",
       "</table>\n",
       "</div>"
      ],
      "text/plain": [
       "                                                  words category  nWords  \\\n",
       "34    [gordie, boggs, (, arquette, ,, aptly, cast, a...      neg     785   \n",
       "45    [an, 80, -, year, old, woman, jumps, enthusias...      neg     984   \n",
       "549   [ready, to, rumble, is, not, a, masterpiece, i...      neg    1060   \n",
       "599   [well, lets, see, ., ., ., i, ', m, not, quite...      neg     497   \n",
       "781   [harmless, ,, silly, and, fun, comedy, about, ...      pos     497   \n",
       "1348  [let, me, just, start, this, review, off, by, ...      neg     939   \n",
       "\n",
       "                                                 review searchWord  \n",
       "34    gordie boggs ( arquette , aptly cast as a moro...        wcw  \n",
       "45    an 80 - year old woman jumps enthusiastically ...        wcw  \n",
       "549   ready to rumble is not a masterpiece in film ;...        wcw  \n",
       "599   well lets see . . . i ' m not quite sure how t...        wcw  \n",
       "781   harmless , silly and fun comedy about dim - wi...        wcw  \n",
       "1348  let me just start this review off by saying i ...        wcw  "
      ]
     },
     "execution_count": 239,
     "metadata": {},
     "output_type": "execute_result"
    }
   ],
   "source": [
    "searchResultReviews"
   ]
  },
  {
   "cell_type": "code",
   "execution_count": 240,
   "metadata": {},
   "outputs": [
    {
     "data": {
      "text/plain": [
       "category\n",
       "neg    5\n",
       "pos    1\n",
       "Name: words, dtype: int64"
      ]
     },
     "execution_count": 240,
     "metadata": {},
     "output_type": "execute_result"
    }
   ],
   "source": [
    "searchResultReviews.groupby(by=['category'])['words'].count()"
   ]
  },
  {
   "cell_type": "markdown",
   "metadata": {},
   "source": [
    "World Championship Wrestling (i.e., 'WCW') is mentioned in 6 reviews, 5 of which are negative."
   ]
  },
  {
   "cell_type": "code",
   "execution_count": 242,
   "metadata": {
    "collapsed": true
   },
   "outputs": [],
   "source": [
    "# close output file handle\n",
    "outputFileHandle.close()"
   ]
  },
  {
   "cell_type": "markdown",
   "metadata": {},
   "source": [
    "## Conclusion\n",
    "\n",
    "In most cases, the words that constitute the most important features - both for negative and positive reviews - are unsurprising. Generally, the set of reviews containing these high-importance words is small relative to the total training set sample size (i.e., 1900 reviews). For the highest importance words, the reviews are predominantly either positive or negative. The words, ‘effortlessly’, ‘uplifting’, ‘topping’, ‘wits’, ‘unwittingly’, ‘understands’, and ‘admired’ all have positive connotations. The words, ‘ugh’, ‘sans’, ‘mediocrity’, ‘nonsensical’, ‘tripe’, and ‘errors’ all have negative connotations. In some cases, the word seems too rare to be a good predictor out-of-sample. For example, 'wcw' is found in just 6 reviews, 5 of which are negative. A number of other high-importance words selected appear to be spurious (i.e., 'locks', 'maxwell', 'quicker', 'wires', 'benson', 'wang', 'lang', and 'hugo'), with no pattern evident in their usage in the reviews.\n",
    "\n",
    "There are several individuals involved in film whose names appear to be used in either predominantly positive or negative contexts. Fritz Lang - an Austrian film director, producer and screenwriter - directed popular films of the silent era (including Metropolis). David 'Cronenberg' is a critically-acclaimed – albeit controversial – Canadian director, screenwriter, and actor famous for gory science fiction and horror films. Of the 11 reviews in the training set, 9 are positive. Gus Van 'Sant' is an award-winning American film director, screenwriter, painter, photographer, musician and author, perhaps best known for his film ‘Good Will Hunting’. He has earned acclaim as both a mainstream and an independent filmmaker. Of the 11 reviews in the training set, 9 are positive. Jerome Bruckheimer - an American film and television producer is well-known television series (CSI: Crime Scene Investigation, CSI: Miami, CSI: NY, Without a Trace, and Cold Case), and a host of films (Flashdance, Top Gun, The Rock, Con Air, Armageddon, Kangaroo Jack, Enemy of the State, Black Hawk Down, Pearl Harbor, and the Beverly Hills Cop, Bad Boys, Pirates of the Caribbean and National Treasure franchises). Despite box-office success, many of Bruckheimer's movies are widely criticized by reviewers. Of the 9 reviews in the training set that contain the word 'Bruckheimer', only one is positive. Of the 8 negative reviews, 3 are about the film 'Armageddon'. The other negative reviews mention 'Con Air', 'Gone in 60 Seconds', 'By-The-Numbers', 'Message In A Bottle' and 'Replacement Killers'.\n",
    "\n",
    "There are a few high-importance words whose predictive power is less obvious. 'Testament' is used in in 21 reviews, 17 of which are positive. Given that this word has a rather neutral connotation, it is surprising that this word is found so often in positive reviews. 'Dismissed' is generally used in the in-sample reviews in a way synonymous with 'underestimated' or 'underappreciated'. The term is only used in 10 reviews, 9 of which are positive. The word, 'doubts', is used in several ways in the reviews of the training set. In some cases, characters with 'doubts' represent a struggle related to the plot and sometimes represent a compelling internal struggle. In other cases, the word is used to describe a viewer's response to a part of a film, but generally the reviewer indicates that their doubts are unfounded or resolved in a positive way. The word 'overwhelmed' is used to describe the emotional responses of both viewers of the film and characters in the film. Although this word typically has a negative connotation, the word is generally used in reviews to describe compelling struggles. This word only appears in 9 reviews."
   ]
  }
 ],
 "metadata": {
  "kernelspec": {
   "display_name": "Python 2",
   "language": "python",
   "name": "python2"
  },
  "language_info": {
   "codemirror_mode": {
    "name": "ipython",
    "version": 2
   },
   "file_extension": ".py",
   "mimetype": "text/x-python",
   "name": "python",
   "nbconvert_exporter": "python",
   "pygments_lexer": "ipython2",
   "version": "2.7.13"
  }
 },
 "nbformat": 4,
 "nbformat_minor": 2
}
